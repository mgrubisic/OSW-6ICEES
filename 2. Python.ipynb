{
 "cells": [
  {
   "cell_type": "markdown",
   "metadata": {},
   "source": [
    "<img src='img/logo.png' alt='Drawing' style='width:2000px;'/>"
   ]
  },
  {
   "cell_type": "markdown",
   "metadata": {},
   "source": [
    "# <font color=blue>2. Python for Beginners</font>\n",
    "## <font color=blue>2.1. Basic Syntax</font>\n",
    "### <font color=blue>2.1.1. Python identifiers</font>\n",
    "A Python identifier is a name used to identify a variable, function, class, module or other object. An identifier can have any letter from A to Z (or a to z), or an underscore or  digits (0 to 9). Python does not allow punctuation characters (e.g. @, $, #, %) within identifiers. Python is a case sensitive programming language. Thus, `Manpower` and `manpower` are two different identifiers in Python."
   ]
  },
  {
   "cell_type": "markdown",
   "metadata": {},
   "source": [
    "### <font color=blue>2.1.2. Reserved words</font>\n",
    "Some words in Python are reserved, not able to be used as constants or variables or any other identifier names: `and, assert, break, class, continue, def, del, elif, else, except, exec, finally, for, from, global, if, import, in, is, lambda, not, or, pass, print, raise, return, try, while, with, yield`."
   ]
  },
  {
   "cell_type": "markdown",
   "metadata": {},
   "source": [
    "### <font color=blue>2.1.3. Lines and indentation</font>\n",
    "Python provides no braces to indicate blocks of code for class and function definitions or flow control. Blocks of code are denoted by line indentation, which is rigidly enforced. The number of spaces in the indentation is variable, but all statements within the block must be indented the same amount.\n",
    "\n",
    "1. Lines with the same amount of leading white space (indentation) belong to one group.  \n",
    "   1. Unlike C/C++, there is no need for { ... }.  In fact, the braces would be a syntax error.\n",
    "   2. Unlike MATLAB or FORTRAN, there is no need for an **end** statement.  Returning to the previous alignment ends a block of code.\n",
    "\n",
    "2. Moreover, the same concept applies to conditions: the keyword lines containing if and else require a colon (:) while the content gets another indentation.  \n",
    "\n",
    "3. Empty lines are ignored, so is everything after the #.\n",
    "\n",
    "Example:"
   ]
  },
  {
   "cell_type": "code",
   "execution_count": null,
   "metadata": {},
   "outputs": [],
   "source": [
    "a = 1\n",
    "if a > 0:\n",
    "    b = a + 1\n",
    "else:\n",
    "    b = a - 1"
   ]
  },
  {
   "cell_type": "markdown",
   "metadata": {},
   "source": [
    "**Did you notice: NO SEMICOLON !** (as in MATLAB, C, C++)"
   ]
  },
  {
   "cell_type": "markdown",
   "metadata": {},
   "source": [
    "### <font color=blue>2.1.4. Multi-line statements</font>\n",
    "Statements in Python typically end with a new line. Python does, however, allow the use of the line continuation character ( `\\` ) to denote that the line should continue. This is aesthetically useful when the statement is very long:\n",
    "\n",
    "Example:"
   ]
  },
  {
   "cell_type": "code",
   "execution_count": null,
   "metadata": {},
   "outputs": [],
   "source": [
    "total = 1 + \\\n",
    "        2 + \\\n",
    "        3"
   ]
  },
  {
   "cell_type": "markdown",
   "metadata": {},
   "source": [
    "### <font color=blue>2.1.5. Multiple statements on a single line</font>\n",
    "The semicolon ( `;` ) allows multiple statements on the single line given that neither statement starts a new code block.\n",
    "\n",
    "Example:"
   ]
  },
  {
   "cell_type": "code",
   "execution_count": null,
   "metadata": {},
   "outputs": [],
   "source": [
    "a = 1; b = 2; c = a + b\n",
    "a, b, c"
   ]
  },
  {
   "cell_type": "markdown",
   "metadata": {},
   "source": [
    "### <font color=blue>2.1.6. Quotation</font>\n",
    "Python accepts single ( `'` ), double ( `\"` ) and triple ( `'''` or `\"\"\"` ) quotes to denote string literals, as long as the same type of quote starts and ends the string. The triple quotes are used to span the string across multiple lines.\n",
    "\n",
    "Example:"
   ]
  },
  {
   "cell_type": "code",
   "execution_count": null,
   "metadata": {},
   "outputs": [],
   "source": [
    "word = 'word'\n",
    "sentence = \"This is a sentence.\"\n",
    "paragraph = \"\"\"This is a paragraph. It is \\\n",
    "made up of multiple lines and sentences.\"\"\"\n",
    "print(word)\n",
    "print(sentence) \n",
    "print(paragraph)"
   ]
  },
  {
   "cell_type": "markdown",
   "metadata": {},
   "source": [
    "### <font color=blue>2.1.7. Comments</font> \n",
    "Comments in Python start with the hash caracter ( `#` ), for each of the lines of the comment. A comment may appear at the start of a line or following whitespace or code, but not within a string literal. As good practice, comment as much as possible your code (very useful for the future you).\n",
    "\n",
    "Example:"
   ]
  },
  {
   "cell_type": "code",
   "execution_count": null,
   "metadata": {},
   "outputs": [],
   "source": [
    "# Oh look, a comment \n",
    "test = 1  # Yet another comment...\n",
    "          # that does not end"
   ]
  },
  {
   "cell_type": "markdown",
   "metadata": {},
   "source": [
    "### <font color=blue>2.1.8. Input</font> \n",
    "One useful functionality of Puthon is provided with the function `input()`. This function has an optional parameter, which is the prompt string. When called, the program flow will be stopped until the user has given an input and has ended the input with the return key. The text of the optional parameter, i.e. the prompt, will be printed on the screen. has an optional parameter, which is the prompt string.\n",
    "\n",
    "Example:"
   ]
  },
  {
   "cell_type": "code",
   "execution_count": null,
   "metadata": {},
   "outputs": [],
   "source": [
    "name = input('What\\'s your name? ')\n",
    "print('Nice to meet you ' + name + '!')"
   ]
  },
  {
   "cell_type": "markdown",
   "metadata": {},
   "source": [
    "One of the key differences between Python 2.x and Python 3.x if how the input function works. In Python 3.x, by default, the input of the user will be returned as a string without any changes. This is a problem when you want to do operations on that input (e.g. number multiplication, list searching).\n",
    "\n",
    "Example:  "
   ]
  },
  {
   "cell_type": "code",
   "execution_count": null,
   "metadata": {},
   "outputs": [],
   "source": [
    "number = input('What\\'s your number? ')\n",
    "print(type(number))\n",
    "print(number*10)"
   ]
  },
  {
   "cell_type": "markdown",
   "metadata": {},
   "source": [
    "To avoid the issue above, allways use `eval(input())` instead of just `input()`. This automatically detects the correct type of the user input, and considers it in the computations (i.e. its no longer always a string).\n",
    "\n",
    "Example:"
   ]
  },
  {
   "cell_type": "code",
   "execution_count": null,
   "metadata": {},
   "outputs": [],
   "source": [
    "number = eval(input('What\\'s your number? '))\n",
    "print(type(number))\n",
    "print(number*10)"
   ]
  },
  {
   "cell_type": "markdown",
   "metadata": {},
   "source": [
    "However, `eval(input())` might also introduce some issues. If you try to provide something as input that does not exist in the workspace (a variable that is not defined anywhere), he won't automatically detect that its text you meant.\n",
    "\n",
    "Example:"
   ]
  },
  {
   "cell_type": "code",
   "execution_count": null,
   "metadata": {},
   "outputs": [],
   "source": [
    "# Writing your name without ' ' will produce an error (variable not found)\n",
    "# Writing your name with ' ' is recognized as text, everything works\n",
    "name = eval(input('What\\'s your name? '))\n",
    "print('Nice to meet you ' + name + '!')"
   ]
  },
  {
   "cell_type": "markdown",
   "metadata": {},
   "source": [
    "<font color=red><div style=\"text-align: right\"> **Documentation for**  \n",
    "[**`input`**](https://docs.python.org/3/library/functions.html#input)</div></font>"
   ]
  },
  {
   "cell_type": "markdown",
   "metadata": {},
   "source": [
    "## <font color=blue>2.2. Variable Types</font>\n",
    "Variables are nothing but reserved memory locations to store values. This means that when you create a variable you reserve some space in memory.\n",
    "\n",
    "Based on the data type of a variable, the interpreter allocates memory and decides what can be stored in the reserved memory. Therefore, by assigning different data types to variables, you can store integers, decimals or characters in these variables.\n",
    "### <font color=blue>2.2.1. Variable assignment</font> \n",
    "Python variables do not need explicit declaration to reserve memory space. The declaration happens automatically when you assign a value to a variable. The equal sign ( `=` ) is used to assign values to variables.\n",
    "\n",
    "The operand to the left of the `=` operator is the name of the variable and the operand to the right of the = operator is the value stored in the variable.\n",
    "\n",
    "Example:"
   ]
  },
  {
   "cell_type": "code",
   "execution_count": null,
   "metadata": {},
   "outputs": [],
   "source": [
    "name = 'John'\n",
    "surname = 'Doe'\n",
    "age = 27\n",
    "name, surname, age"
   ]
  },
  {
   "cell_type": "markdown",
   "metadata": {},
   "source": [
    "Variables can also be updated once created:"
   ]
  },
  {
   "cell_type": "code",
   "execution_count": null,
   "metadata": {},
   "outputs": [],
   "source": [
    "name = 'John'\n",
    "name"
   ]
  },
  {
   "cell_type": "code",
   "execution_count": null,
   "metadata": {},
   "outputs": [],
   "source": [
    "name = 'Jane'\n",
    "name"
   ]
  },
  {
   "cell_type": "markdown",
   "metadata": {},
   "source": [
    "### <font color=blue>2.2.2. Variable deletion</font>\n",
    "Python allows for variable to be deleted from the memory, using the `del` command. Once computed, trying to call such variable will result in an error\n",
    "\n",
    "Example:"
   ]
  },
  {
   "cell_type": "code",
   "execution_count": null,
   "metadata": {},
   "outputs": [],
   "source": [
    "name = 'variable to delete'\n",
    "del name\n",
    "name"
   ]
  },
  {
   "cell_type": "markdown",
   "metadata": {},
   "source": [
    "To delete them all:"
   ]
  },
  {
   "cell_type": "code",
   "execution_count": null,
   "metadata": {},
   "outputs": [],
   "source": [
    "%reset"
   ]
  },
  {
   "cell_type": "markdown",
   "metadata": {},
   "source": [
    "<font color=red><div style=\"text-align: right\"> **Documentation for**  \n",
    "[**`del`**](https://docs.python.org/3/reference/simple_stmts.html#del)</div></font>"
   ]
  },
  {
   "cell_type": "markdown",
   "metadata": {},
   "source": [
    "### <font color=blue>2.2.3. Multiple assignment</font>\n",
    "Python allows you to assign a single value to several variables simultaneously. \n",
    "\n",
    "Example:"
   ]
  },
  {
   "cell_type": "code",
   "execution_count": null,
   "metadata": {},
   "outputs": [],
   "source": [
    "a = b = c = 1\n",
    "a, b, c"
   ]
  },
  {
   "cell_type": "markdown",
   "metadata": {},
   "source": [
    "You can also assign multiple objects to multiple variables. \n",
    "\n",
    "Example:"
   ]
  },
  {
   "cell_type": "code",
   "execution_count": null,
   "metadata": {},
   "outputs": [],
   "source": [
    "name, surname, age = 'John', 'Doe', 27\n",
    "name, surname, age"
   ]
  },
  {
   "cell_type": "markdown",
   "metadata": {},
   "source": [
    "### <font color=blue>2.2.4. Standard data types</font> \n",
    "The data stored in memory can be of many types. For example, a person's age is stored as a numeric value and his or her address is stored as alphanumeric characters. Python has various standard data types that are used to define the operations possible on them and the storage method for each of them.\n",
    "\n",
    "Python has five standard data types:\n",
    "- Numbers\n",
    "- String\n",
    "- List\n",
    "- Tuple\n",
    "- Dictionary"
   ]
  },
  {
   "cell_type": "markdown",
   "metadata": {},
   "source": [
    "### <font color=blue>2.2.5. Python numbers</font> \n",
    "Number data types store numeric values. Number objects are created when you assign a value to them.\n",
    "\n",
    "Example:"
   ]
  },
  {
   "cell_type": "code",
   "execution_count": null,
   "metadata": {},
   "outputs": [],
   "source": [
    "a = 1\n",
    "b = 2"
   ]
  },
  {
   "cell_type": "markdown",
   "metadata": {
    "collapsed": true
   },
   "source": [
    "Python supports four different numerical types:\n",
    "- int (signed integers)\n",
    "- float (floating point real values)\n",
    "- <font color='grey'>long (long integers, they can also be represented in octal and hexadecimal)\n",
    "- complex (complex numbers)</font>\n",
    "\n",
    "Example:"
   ]
  },
  {
   "cell_type": "code",
   "execution_count": null,
   "metadata": {},
   "outputs": [],
   "source": [
    "integer_number = 1\n",
    "float_number = 1.2\n",
    "print(integer_number, type(integer_number))\n",
    "print(float_number, type(float_number))"
   ]
  },
  {
   "cell_type": "markdown",
   "metadata": {},
   "source": [
    "<font color=red><div style=\"text-align: right\"> **Documentation for**  \n",
    "[**`type`**](https://docs.python.org/3/library/functions.html#type)</div></font>"
   ]
  },
  {
   "cell_type": "markdown",
   "metadata": {},
   "source": [
    "### <font color=blue>2.2.6. Python strings</font>  \n",
    "Besides numbers, Python can also manipulate strings, which can be expressed by enclosing in single quotes ( `'...'` ) or double quotes ( `\"...\"` ) with the same result. `\\` can be used to escape quotes:"
   ]
  },
  {
   "cell_type": "code",
   "execution_count": null,
   "metadata": {},
   "outputs": [],
   "source": [
    "'Structural Engineering' # Single quotes"
   ]
  },
  {
   "cell_type": "code",
   "execution_count": null,
   "metadata": {},
   "outputs": [],
   "source": [
    "'Designer\\'s guide'      # Use \\' to escape the single quote..."
   ]
  },
  {
   "cell_type": "code",
   "execution_count": null,
   "metadata": {},
   "outputs": [],
   "source": [
    "\"Designer's guide\"       # ...or use double quotes instead."
   ]
  },
  {
   "cell_type": "markdown",
   "metadata": {},
   "source": [
    "In the interactive interpreter, the output string is enclosed in quotes and special characters are escaped with backslashes. While this might sometimes look different from the input (the enclosing quotes could change), the two strings are equivalent. The string is enclosed in double quotes if the string contains a single quote and no double quotes, otherwise it is enclosed in single quotes. The print function produces a more readable output, by omitting the enclosing quotes and by printing escaped and special characters:"
   ]
  },
  {
   "cell_type": "code",
   "execution_count": null,
   "metadata": {},
   "outputs": [],
   "source": [
    "'\"Isn\\'t,\" she said.'"
   ]
  },
  {
   "cell_type": "code",
   "execution_count": null,
   "metadata": {},
   "outputs": [],
   "source": [
    "print('\"Isn\\'t,\" she said.')"
   ]
  },
  {
   "cell_type": "code",
   "execution_count": null,
   "metadata": {},
   "outputs": [],
   "source": [
    "s = 'First line.\\nSecond line.'  # \\n means newline.\n",
    "s                                # Without print(), \\n is included in the output."
   ]
  },
  {
   "cell_type": "code",
   "execution_count": null,
   "metadata": {},
   "outputs": [],
   "source": [
    "print(s)                         # With print(), \\n produces a new line."
   ]
  },
  {
   "cell_type": "markdown",
   "metadata": {},
   "source": [
    "If you don't want characters prefaced by `\\` to be interpreted as special characters, you can use raw strings by adding an r before the first quote:"
   ]
  },
  {
   "cell_type": "code",
   "execution_count": null,
   "metadata": {},
   "outputs": [],
   "source": [
    "print('C:\\some\\name')            # Here \\n means newline!"
   ]
  },
  {
   "cell_type": "code",
   "execution_count": null,
   "metadata": {},
   "outputs": [],
   "source": [
    "print(r'C:\\some\\name')           # Note the r before the quote."
   ]
  },
  {
   "cell_type": "markdown",
   "metadata": {},
   "source": [
    "One of Python's most useful features is the `%` operator, which acts a string format operator. One possible aplication of this operator is:"
   ]
  },
  {
   "cell_type": "code",
   "execution_count": null,
   "metadata": {},
   "outputs": [],
   "source": [
    "'This member is a %s, it\\'s section is an %s, and it measures %.1f m in length.' % ('beam', 'IPE400', 8.779234234) "
   ]
  },
  {
   "cell_type": "markdown",
   "metadata": {},
   "source": [
    "<font color=red><div style=\"text-align: right\"> **Documentation for**  \n",
    "[**`print`**](https://docs.python.org/3/library/functions.html#print)</div></font>"
   ]
  },
  {
   "cell_type": "markdown",
   "metadata": {},
   "source": [
    "### <font color=blue>2.2.7. Python lists</font>   \n",
    "Lists are one of the most versatile of Python's compound data types. A list contains items separated by commas and enclosed within square brackets ( `[ ]` ). \n",
    "\n",
    "The values stored in a list can be accessed using the slice operator ( `[ ]` and `[:]` ) with indexes starting at 0 in the beginning of the list and working their way to end -1. The plus ( `+` ) sign is the list concatenation operator, and the asterisk ( `*` ) is the repetition operator. It is also possible to delete an entry in the list with the `del` command. These commands also apply to strings.\n",
    "\n",
    "**note:** indexing is identical to C and C++ indexing\n",
    "\n",
    "Example:"
   ]
  },
  {
   "cell_type": "code",
   "execution_count": null,
   "metadata": {},
   "outputs": [],
   "source": [
    "somelist = ['Steel', 'S275', 275 , 'MPa', 'Concrete', 'C30/37', 30, 'MPa']\n",
    "somelist"
   ]
  },
  {
   "cell_type": "code",
   "execution_count": null,
   "metadata": {},
   "outputs": [],
   "source": [
    "somelist[0]           # Prints first element of the list"
   ]
  },
  {
   "cell_type": "code",
   "execution_count": null,
   "metadata": {},
   "outputs": [],
   "source": [
    "somelist[1:4]         # Prints elements starting from 2nd till 4th "
   ]
  },
  {
   "cell_type": "code",
   "execution_count": null,
   "metadata": {},
   "outputs": [],
   "source": [
    "somelist[5:]          # Prints elements starting from 6th element"
   ]
  },
  {
   "cell_type": "code",
   "execution_count": null,
   "metadata": {},
   "outputs": [],
   "source": [
    "somelist*3            # Prints repeated list"
   ]
  },
  {
   "cell_type": "code",
   "execution_count": null,
   "metadata": {},
   "outputs": [],
   "source": [
    "somelist + somelist   # Prints concatenated list"
   ]
  },
  {
   "cell_type": "code",
   "execution_count": null,
   "metadata": {},
   "outputs": [],
   "source": [
    "del somelist[0]        # Deletes de first entry of the list\n",
    "somelist"
   ]
  },
  {
   "cell_type": "markdown",
   "metadata": {},
   "source": [
    "### <font color=blue>2.2.8. Python tuples</font>\n",
    "A tuple is another sequence data type that is similar to the list. A tuple consists of a number of values separated by commas. Unlike lists, however, tuples are enclosed within parentheses.\n",
    "\n",
    "The main differences between lists and tuples are: Lists are enclosed in brackets ( `[ ]` ) and their elements and size can be changed, while tuples are enclosed in parentheses ( `( )` ) and cannot be updated. Tuples can be thought of as read-only lists.\n",
    "\n",
    "Example:"
   ]
  },
  {
   "cell_type": "code",
   "execution_count": null,
   "metadata": {},
   "outputs": [],
   "source": [
    "sometuple = ('Steel', 'S275', 275 , 'MPa', 'Concrete', 'C30/37', 30, 'MPa')\n",
    "sometuple"
   ]
  },
  {
   "cell_type": "code",
   "execution_count": null,
   "metadata": {},
   "outputs": [],
   "source": [
    "sometuple[0]            # Prints first element of the tuple"
   ]
  },
  {
   "cell_type": "code",
   "execution_count": null,
   "metadata": {},
   "outputs": [],
   "source": [
    "sometuple[1:4]          # Prints elements starting from 1st till 4th "
   ]
  },
  {
   "cell_type": "code",
   "execution_count": null,
   "metadata": {},
   "outputs": [],
   "source": [
    "sometuple[5:]           # Prints elements starting from 5th element"
   ]
  },
  {
   "cell_type": "code",
   "execution_count": null,
   "metadata": {},
   "outputs": [],
   "source": [
    "sometuple*3             # Prints repeated tuple"
   ]
  },
  {
   "cell_type": "code",
   "execution_count": null,
   "metadata": {},
   "outputs": [],
   "source": [
    "sometuple + sometuple   # Prints concatenated tuple"
   ]
  },
  {
   "cell_type": "markdown",
   "metadata": {},
   "source": [
    "The following code is invalid with tuple, because we attempted to update a tuple, which is not allowed. Similar case is possible with lists though:"
   ]
  },
  {
   "cell_type": "code",
   "execution_count": null,
   "metadata": {},
   "outputs": [],
   "source": [
    "somelist[1] = 'S355'    # Valid syntax with list\n",
    "somelist"
   ]
  },
  {
   "cell_type": "code",
   "execution_count": null,
   "metadata": {},
   "outputs": [],
   "source": [
    "sometuple[1] = 'S355'   # Invalid syntax with tuple\n",
    "sometuple"
   ]
  },
  {
   "cell_type": "markdown",
   "metadata": {},
   "source": [
    "### <font color=blue>2.2.8. Python dictionaries</font>\n",
    "Python's dictionaries are kind of hash table type. They work like associative arrays or hashes found in Perl and consist of key-value pairs. A dictionary key can be almost any Python type, but are usually numbers or strings. Values, on the other hand, can be any arbitrary Python object. Like lists, it is possible to delete, or even update, one key of the dictionary.\n",
    "\n",
    "Dictionaries are enclosed by curly braces ( `{ }` ) and values can be assigned and accessed using square braces ( `[ ]` ).\n",
    "\n",
    "Example:"
   ]
  },
  {
   "cell_type": "code",
   "execution_count": null,
   "metadata": {},
   "outputs": [],
   "source": [
    "somedict = {}\n",
    "somedict['Material'] = 'Steel'\n",
    "somedict['Class'] = 'S275'\n",
    "somedict['Strength'] = 275\n",
    "somedict['Units'] = 'MPa'\n",
    "somedict                    # Prints complete dictionary"
   ]
  },
  {
   "cell_type": "markdown",
   "metadata": {},
   "source": [
    "Another alternative, is to create the entire dictionary at once, and not each bag individually. You can do it in a single line (each key-value pair needs to be seperated by a comma, or break the statement into multiple lines. In the latter alternative, you don't need to write the `\\` character to do the break.\n",
    "\n",
    "Example:"
   ]
  },
  {
   "cell_type": "code",
   "execution_count": null,
   "metadata": {},
   "outputs": [],
   "source": [
    "somedict = {'Material': 'Steel',\n",
    "            'Class':'S275',       \n",
    "            'Strength': 275,\n",
    "            'Units': 'MPa'}\n",
    "somedict                    # Prints complete dictionary"
   ]
  },
  {
   "cell_type": "markdown",
   "metadata": {},
   "source": [
    "Now to access information inside the dictionary:"
   ]
  },
  {
   "cell_type": "code",
   "execution_count": null,
   "metadata": {},
   "outputs": [],
   "source": [
    "somedict['Material']        # Prints value for 'Material' key"
   ]
  },
  {
   "cell_type": "code",
   "execution_count": null,
   "metadata": {},
   "outputs": [],
   "source": [
    "somedict.keys()             # Prints all the keys"
   ]
  },
  {
   "cell_type": "code",
   "execution_count": null,
   "metadata": {},
   "outputs": [],
   "source": [
    "somedict.values()           # Prints all the values"
   ]
  },
  {
   "cell_type": "code",
   "execution_count": null,
   "metadata": {},
   "outputs": [],
   "source": [
    "del somedict['Class']       # Deletes one key and its contents\n",
    "somedict"
   ]
  },
  {
   "cell_type": "code",
   "execution_count": null,
   "metadata": {},
   "outputs": [],
   "source": [
    "somedict['Material'] = {'Steel': 1, 'Concrete':1} # Updates the contents of one key\n",
    "somedict"
   ]
  },
  {
   "cell_type": "code",
   "execution_count": null,
   "metadata": {},
   "outputs": [],
   "source": [
    "somedict['Material'] = {'1':1, '2':2, '3':3}\n",
    "somedict"
   ]
  },
  {
   "cell_type": "markdown",
   "metadata": {},
   "source": [
    "Dictionaries have no concept of order among elements. It is incorrect to say that the elements are \"out of order\"; they are simply unordered."
   ]
  },
  {
   "cell_type": "code",
   "execution_count": null,
   "metadata": {},
   "outputs": [],
   "source": [
    "cross_section={'area':1.2, 'moment_of_inertia':3.45, 'c_top':3.2, 'c_bottom':4.1}"
   ]
  },
  {
   "cell_type": "markdown",
   "metadata": {},
   "source": [
    "$$\n",
    "\\sigma = \\frac{F}{A} \\pm \\frac{M c}{I}\n",
    "$$"
   ]
  },
  {
   "cell_type": "code",
   "execution_count": null,
   "metadata": {},
   "outputs": [],
   "source": [
    "force = 50.0\n",
    "moment = 12.25\n",
    "\n",
    "stress_top    = force/cross_section['area'] - moment*cross_section['c_top']/cross_section['moment_of_inertia']\n",
    "stress_bottom = force/cross_section['area'] + moment*cross_section['c_bottom']/cross_section['moment_of_inertia']\n",
    "\n",
    "print(\"stresses:  top = {} and bottom = {}\".format(stress_top,stress_bottom))\n",
    "print(\"stresses:  top = {:12.3f} and bottom = {:12.3f}\".format(stress_top,stress_bottom))\n",
    "print(\"stresses:  top = {:12.3e} and bottom = {:12.3g}\".format(stress_top,stress_bottom))"
   ]
  },
  {
   "cell_type": "markdown",
   "metadata": {},
   "source": [
    "### <font color=blue>2.2.9. Boolean variables</font> \n",
    "\n",
    "Boolean variables hold a True or False value.  In addition to those two values, python treats the following as **True**:\n",
    "1. True\n",
    "2. any non-zero numeric value\n",
    "3. a non-empty list\n",
    "4. a non-empty tuple\n",
    "5. a non-empty dictionary\n",
    "6. a non-empty string\n",
    "7. an existing object/instance of a class (we will learn about that later)\n",
    "\n",
    "In contrast, the following are treated as **False**:\n",
    "1. False\n",
    "2. 0 (int) or 0.0 (float)\n",
    "3. empty list: []\n",
    "4. empty tuple: tuple()\n",
    "5. empty dictionary: {}\n",
    "6. empty string: ''\n",
    "7. empty pointer: None"
   ]
  },
  {
   "cell_type": "code",
   "execution_count": null,
   "metadata": {},
   "outputs": [],
   "source": [
    "# bool\n",
    "u = True  # 1 ,1.2, [1], (1), {'True':1}, 'True', someobject\n",
    "v = False # 0 ,0.0, [], (), {}, '', None"
   ]
  },
  {
   "cell_type": "markdown",
   "metadata": {},
   "source": [
    "### <font color=blue>2.2.10. Data type enquiry and conversion</font> \n",
    "Sometimes, you may need enquire Python about tthe type of variable in question. This can be done with the `type()` function.\n",
    "\n",
    "Example:"
   ]
  },
  {
   "cell_type": "code",
   "execution_count": null,
   "metadata": {},
   "outputs": [],
   "source": [
    "type(275), type(275.0), type('275'), type([275]), type((275, 275)), type({'275': 275})"
   ]
  },
  {
   "cell_type": "markdown",
   "metadata": {},
   "source": [
    "Also, sometimes it is needed to convert between the built-in types. To do so, you simply use the type name as a function.\n",
    "\n",
    "There are several built-in functions to perform conversion from one data type to another. These functions return a new object representing the converted value. These functions require specific syntax to work.\n",
    "\n",
    "Some examples:\n",
    "- `int(x [,base])` Converts x to an integer. base specifies the base if x is a string.\n",
    "- `float(x)` Converts x to a floating-point number.\n",
    "- `str(x)` Converts object x to a string representation.\n",
    "- `tuple(s)` Converts s to a tuple.\n",
    "- `list(s)` Converts s to a list.\n",
    "- `dict(d)` Creates a dictionary. d must be a sequence of (key, value) tuples."
   ]
  },
  {
   "cell_type": "markdown",
   "metadata": {},
   "source": [
    "<font color=red><div style=\"text-align: right\"> **Documentation for**  \n",
    "[**`int`**](https://docs.python.org/3/library/functions.html#int)  \n",
    "[**`float`**](https://docs.python.org/3/library/functions.html#float)  \n",
    "[**`str`**](https://docs.python.org/3/library/functions.html#func-str)  \n",
    "[**`tuple`**](https://docs.python.org/3/library/functions.html#func-tuple)  \n",
    "[**`list`**](https://docs.python.org/3/library/functions.html#func-list)  \n",
    "[**`dict`**](https://docs.python.org/3/library/functions.html#func-dict)</div></font>"
   ]
  },
  {
   "cell_type": "markdown",
   "metadata": {},
   "source": [
    "### <font color=blue>2.2.11. Traps</font> \n",
    "Start by making a copy of the variable, *somelist*, and naming it newlist.\n",
    "Next, let's change the second and third entries in the list from 'S275', 275 to 'S355', 355.\n",
    "Do you see the problem?"
   ]
  },
  {
   "cell_type": "code",
   "execution_count": null,
   "metadata": {},
   "outputs": [],
   "source": [
    "somelist = ['Steel', 'S275', 275 , 'MPa', 'Concrete', 'C30/37', 30, 'MPa']\n",
    "newlist = somelist\n",
    "newlist[1] = 'S355'; newlist[2] = 355\n",
    "print(somelist)\n",
    "print(newlist)"
   ]
  },
  {
   "cell_type": "markdown",
   "metadata": {},
   "source": [
    "The solution to this problem is to use the copy() method to generate a copy of the data from inside the list. \n",
    "When to use copy() and when not to use it?  As a rule of thumb, don't use copy() unless you have an important reason to duplicate data! I rarely need to."
   ]
  },
  {
   "cell_type": "code",
   "execution_count": null,
   "metadata": {},
   "outputs": [],
   "source": [
    "somelist = ['Steel', 'S275', 275 , 'MPa', 'Concrete', 'C30/37', 30, 'MPa']\n",
    "newlist = somelist.copy()\n",
    "newlist[1] = 'S355'; newlist[2] = 355\n",
    "print(somelist)\n",
    "print(newlist)"
   ]
  },
  {
   "cell_type": "markdown",
   "metadata": {},
   "source": [
    "<font color=red><div style=\"text-align: right\"> **Documentation for**  \n",
    "[**`copy`**](https://docs.python.org/3/library/copy.html)</div></font>"
   ]
  },
  {
   "cell_type": "markdown",
   "metadata": {},
   "source": [
    "## <font color=blue>2.3. Basic Operators</font>\n",
    "### <font color=blue>2.3.1. Operator types</font> \n",
    "Python language supports the following types of operators.\n",
    "- Arithmetic Operators\n",
    "- Comparison (Relational) Operators\n",
    "- Assignment Operators\n",
    "- Logical Operators\n",
    "- Membership Operators\n",
    "- Identity Operators\n",
    "\n",
    "- <font color=grey>Bitwise Operators</font>\n",
    "\n",
    "### <font color=blue>2.3.2. Python arithmetic operators</font>  \n",
    "Regarding the arithmetic operators, syntax is straightforward, using operators `+` for sums, `-` for subtractions, `*` for multiplications, `/` for division, `**` for powers and `( )` for grouping (beware of precedence between operators).\n",
    "\n",
    "Example:"
   ]
  },
  {
   "cell_type": "code",
   "execution_count": null,
   "metadata": {},
   "outputs": [],
   "source": [
    "a = 2 + 2     # Sum\n",
    "a"
   ]
  },
  {
   "cell_type": "code",
   "execution_count": null,
   "metadata": {},
   "outputs": [],
   "source": [
    "b = 2 - 2     # Subtraction\n",
    "b"
   ]
  },
  {
   "cell_type": "code",
   "execution_count": null,
   "metadata": {},
   "outputs": [],
   "source": [
    "c = (2 + 2)*2 # Sum and multiplication\n",
    "c"
   ]
  },
  {
   "cell_type": "code",
   "execution_count": null,
   "metadata": {},
   "outputs": [],
   "source": [
    "d = 2**2      # Power\n",
    "d"
   ]
  },
  {
   "cell_type": "code",
   "execution_count": null,
   "metadata": {},
   "outputs": [],
   "source": [
    "e = 3//2      # Floor division\n",
    "e"
   ]
  },
  {
   "cell_type": "code",
   "execution_count": null,
   "metadata": {},
   "outputs": [],
   "source": [
    "f = 3%2       # Remainder from division (before division is performed)\n",
    "f"
   ]
  },
  {
   "cell_type": "code",
   "execution_count": null,
   "metadata": {},
   "outputs": [],
   "source": [
    "g = e + f/2   # Manual division result, using the floor and the remainder (remainder needs to be manually divided)\n",
    "g"
   ]
  },
  {
   "cell_type": "markdown",
   "metadata": {},
   "source": [
    "### <font color=blue>2.3.3. Python comparison operators</font>   \n",
    "These operators compare the values on either sides of them and decide the relation among them. They are also called Relational operators.\n",
    "\n",
    "Example:"
   ]
  },
  {
   "cell_type": "code",
   "execution_count": null,
   "metadata": {},
   "outputs": [],
   "source": [
    "a = (1 == 2)     # Is equal to?\n",
    "a"
   ]
  },
  {
   "cell_type": "code",
   "execution_count": null,
   "metadata": {},
   "outputs": [],
   "source": [
    "b = (1 != 2)     # Is different than?\n",
    "b"
   ]
  },
  {
   "cell_type": "code",
   "execution_count": null,
   "metadata": {},
   "outputs": [],
   "source": [
    "c = (1 > 2)      # Is higher than?\n",
    "c"
   ]
  },
  {
   "cell_type": "code",
   "execution_count": null,
   "metadata": {},
   "outputs": [],
   "source": [
    "d = (1 < 2)      # Is lower than?\n",
    "d"
   ]
  },
  {
   "cell_type": "code",
   "execution_count": null,
   "metadata": {},
   "outputs": [],
   "source": [
    "e = (1 >= 2)     # Is higher or equal than?\n",
    "e"
   ]
  },
  {
   "cell_type": "code",
   "execution_count": null,
   "metadata": {},
   "outputs": [],
   "source": [
    "f = (1 <= 2)     # Is lower or equal than?\n",
    "f"
   ]
  },
  {
   "cell_type": "code",
   "execution_count": null,
   "metadata": {},
   "outputs": [],
   "source": [
    "g = (0 < 2 < 10) # Is between?\n",
    "g"
   ]
  },
  {
   "cell_type": "markdown",
   "metadata": {},
   "source": [
    "### <font color=blue>2.3.4. Python assignment operators</font>    \n",
    "These operators assign a value or result to a variable.\n",
    "\n",
    "Example:"
   ]
  },
  {
   "cell_type": "code",
   "execution_count": null,
   "metadata": {},
   "outputs": [],
   "source": [
    "a = 1     # Assigns a value to a variable\n",
    "a"
   ]
  },
  {
   "cell_type": "code",
   "execution_count": null,
   "metadata": {},
   "outputs": [],
   "source": [
    "b = 2     # Assigns a value to a variable\n",
    "b"
   ]
  },
  {
   "cell_type": "code",
   "execution_count": null,
   "metadata": {},
   "outputs": [],
   "source": [
    "c = a + b # Assigns a result to a variable\n",
    "c"
   ]
  },
  {
   "cell_type": "markdown",
   "metadata": {},
   "source": [
    "Combining them with arithmetic operators is often useful within loops.  \n",
    "\n",
    "Example:"
   ]
  },
  {
   "cell_type": "code",
   "execution_count": null,
   "metadata": {},
   "outputs": [],
   "source": [
    "c += a    # Equivalent to c = c + a (sum)\n",
    "c -= a    # Equivalent to c = c - a (subtraction)\n",
    "c *= a    # Equivalent to c = c * a (multiplication)\n",
    "c /= a    # Equivalent to c = c / a (division)\n",
    "c **= a   # Equivalent to c = c ** a (power)\n",
    "c //= a   # Equivalent to c = c // a (floor division)\n",
    "c %= a    # Equivalent to c = c % a (remainder from division)"
   ]
  },
  {
   "cell_type": "markdown",
   "metadata": {},
   "source": [
    "### <font color=blue>2.3.5. Python logical operators</font>    \n",
    "These operators evaluate the expression from left to right. With `and`, if all values are `True`, returns the last evaluated value. If any value is `False`, returns the first one. `Or` returns the first `True` value. If all are `False`, returns the last value.\n",
    "\n",
    "Example:"
   ]
  },
  {
   "cell_type": "code",
   "execution_count": null,
   "metadata": {},
   "outputs": [],
   "source": [
    "a = True\n",
    "b = False\n",
    "c = (a == True and b == True)   # Are both True?\n",
    "c"
   ]
  },
  {
   "cell_type": "code",
   "execution_count": null,
   "metadata": {},
   "outputs": [],
   "source": [
    "d = (a == True or b == True)    # Is either True?\n",
    "d"
   ]
  },
  {
   "cell_type": "code",
   "execution_count": null,
   "metadata": {},
   "outputs": [],
   "source": [
    "e = (not(b) == True)           # Is the reversed b (False) True?\n",
    "e"
   ]
  },
  {
   "cell_type": "markdown",
   "metadata": {},
   "source": [
    "### <font color=blue>2.3.6. Python membership operators</font> \n",
    "Python’s membership operators test for membership in a sequence, such as strings, lists, or tuples.\n",
    "\n",
    "Example:"
   ]
  },
  {
   "cell_type": "code",
   "execution_count": null,
   "metadata": {},
   "outputs": [],
   "source": [
    "a = [1, 2, 3]\n",
    "b = (1.0 in a)\n",
    "b"
   ]
  },
  {
   "cell_type": "code",
   "execution_count": null,
   "metadata": {},
   "outputs": [],
   "source": [
    "c = (1 not in a)\n",
    "c"
   ]
  },
  {
   "cell_type": "markdown",
   "metadata": {},
   "source": [
    "### <font color=blue>2.3.7. Python identity operators</font>  \n",
    "Identity operators compare the memory locations of two objects. They are used to check if two values (or variables) are located on the same part of the memory. Two variables that are equal does not imply that they are identical.\n",
    "\n",
    "Example:"
   ]
  },
  {
   "cell_type": "code",
   "execution_count": null,
   "metadata": {},
   "outputs": [],
   "source": [
    "x1 = 5\n",
    "y1 = 5\n",
    "x2 = 'Hello'\n",
    "y2 = 'Hello'\n",
    "x3 = [1, 2, 3]\n",
    "y3 = [1, 2, 3]"
   ]
  },
  {
   "cell_type": "code",
   "execution_count": null,
   "metadata": {},
   "outputs": [],
   "source": [
    "x3 == y3"
   ]
  },
  {
   "cell_type": "code",
   "execution_count": null,
   "metadata": {},
   "outputs": [],
   "source": [
    "print(x1 is y1)"
   ]
  },
  {
   "cell_type": "code",
   "execution_count": null,
   "metadata": {},
   "outputs": [],
   "source": [
    "print(x2 is y2)"
   ]
  },
  {
   "cell_type": "code",
   "execution_count": null,
   "metadata": {},
   "outputs": [],
   "source": [
    "print(x3 is y3)"
   ]
  },
  {
   "cell_type": "markdown",
   "metadata": {},
   "source": [
    "## <font color=blue>2.4. Control Flow and Loops</font>\n",
    "### <font color=blue>2.4.1. Conditional statements</font>\n",
    "The Python syntax for conditional execution of code uses the keywords `if`, `elif` (else if) and `else`. These conditional statements control the flow of the algorithmn, and, characteristically of Python, program blocks are defined by their indentation level. It's important to note that within the same flow hierarchy, the first match exits the flow. Furthermore, in the absence of a general `else` statement, all the conditions specified before with `if` and `elif` should be comprehensive, since if no match is found, an error will be raised.\n",
    "\n",
    "Example:"
   ]
  },
  {
   "cell_type": "code",
   "execution_count": null,
   "metadata": {},
   "outputs": [],
   "source": [
    "member1 = 'beam'\n",
    "member2 = 'column'\n",
    "\n",
    "if member1 == 'beam':\n",
    "    print('The code reached checkpoint 1')\n",
    "    if member2 == 'beam':\n",
    "        print('The code reached checkpoint 1.1')\n",
    "        print('Member 1 and 2 are beams')\n",
    "    elif member2 == 'column':\n",
    "        print('The code reached checkpoint 1.2')\n",
    "        print('Member 1 is a beam and member 2 is a column')     \n",
    "# This next block of elif will always be neglected\n",
    "# This is because the condition is the same as the one before (member1 == 'beam')\n",
    "# Thus, if member 1 is 'beam', exit was performed already\n",
    "elif member1 == 'beam':\n",
    "    print('If this is being printed, this guide is not that wll constructed!')\n",
    "elif member1 == 'column':\n",
    "    print('The code reached checkpoint 2')\n",
    "    if member2 == 'column':\n",
    "        print('The code reached checkpoint 2.1')\n",
    "        print('Member 1 and 2 are columns')\n",
    "    elif member2 == 'beam':\n",
    "        print('The code reached checkpoint 2.2')\n",
    "        print('Member 1 is a column and member 2 is a beam')\n",
    "# This next block of else guarantees that cases not covered before are still considered\n",
    "# If it does not exist, anything other than combinations of 'beam' and 'column' matches will raise an error\n",
    "else:\n",
    "    print('The code reached checkpoint 3')\n",
    "    print('Member 1 is a ' + str(member1) + ' and member 2 is a ' + str(member2))"
   ]
  },
  {
   "cell_type": "markdown",
   "metadata": {},
   "source": [
    "### <font color=blue>2.4.2. for loops</font> \n",
    "In Python, loops can be programmed in a number of different ways. The most common is the `for` loop, which is used together with iterable objects, such as lists.\n",
    "\n",
    "Example:"
   ]
  },
  {
   "cell_type": "code",
   "execution_count": null,
   "metadata": {},
   "outputs": [],
   "source": [
    "list_numbers = [1, 2, 3]\n",
    "# With the basic approach\n",
    "for i in list_numbers:\n",
    "    print(i)"
   ]
  },
  {
   "cell_type": "code",
   "execution_count": null,
   "metadata": {},
   "outputs": [],
   "source": [
    "# Looping through the indexes of the list\n",
    "for idx in range(len(list_numbers)):\n",
    "    print(idx, list_numbers[idx])"
   ]
  },
  {
   "cell_type": "code",
   "execution_count": null,
   "metadata": {},
   "outputs": [],
   "source": [
    "# Also looping through the indexes of the list\n",
    "for idx, x in enumerate(list_numbers):\n",
    "    print(idx, x) # list_numbers[idx] also works here"
   ]
  },
  {
   "cell_type": "markdown",
   "metadata": {},
   "source": [
    "Conveniently, lists can be created using `for` loops:"
   ]
  },
  {
   "cell_type": "code",
   "execution_count": null,
   "metadata": {},
   "outputs": [],
   "source": [
    "magic_list = [1, 2, 3]\n",
    "l = []\n",
    "for x in magic_list:\n",
    "    l.append(x**2)\n",
    "print(magic_list, l)    "
   ]
  },
  {
   "cell_type": "markdown",
   "metadata": {},
   "source": [
    "<font color=red><div style=\"text-align: right\"> **Documentation for**  \n",
    "[**`for`**](https://wiki.python.org/moin/ForLoop)  \n",
    "[**`range`**](https://docs.python.org/3/library/functions.html#func-range)  \n",
    "[**`len`**](https://docs.python.org/3/library/functions.html#len)  \n",
    "[**`enumerate`**](https://docs.python.org/3/library/functions.html#enumerate)</div></font>"
   ]
  },
  {
   "cell_type": "markdown",
   "metadata": {},
   "source": [
    "### <font color=blue>2.4.3. while loops</font> "
   ]
  },
  {
   "cell_type": "code",
   "execution_count": null,
   "metadata": {},
   "outputs": [],
   "source": [
    "i = 0\n",
    "while i < 5:\n",
    "    print(i)\n",
    "    i += 1\n",
    "print('done')"
   ]
  },
  {
   "cell_type": "markdown",
   "metadata": {},
   "source": [
    "Note that the difference in indentation in the `print` statement makes it not part of the `while` loop."
   ]
  },
  {
   "cell_type": "markdown",
   "metadata": {},
   "source": [
    "<font color=red><div style=\"text-align: right\"> **Documentation for**  \n",
    "[**`while`**](https://wiki.python.org/moin/WhileLoop)</div></font>"
   ]
  },
  {
   "cell_type": "markdown",
   "metadata": {},
   "source": [
    "## <font color=blue>2.5.  Functions</font>\n",
    "A function is a block of organized, reusable code that is used to perform a single, related action. Functions provide better modularity for your application and a high degree of code reusing. Python itself provides several built-in functions (e.g. `print`, `len()`, `range()`), whilst user-defined functions can also be constructed and utilized. In a general sense, functions take some *input* and return some *output* in accordance to the functionality to which the function is defined.\n",
    "### <font color=blue>2.5.1. Defining and using a function</font>\n",
    "Function blocks begin with the keyword `def` followed by the function name and parentheses ( `( )` ). The function's name cannot contain spaces. Any input parameters or arguments should be placed within these parentheses. You can also define parameters inside these parentheses, which can be default (mandatory) or non-default (optional). The code block within every function starts with a colon ( `:` ) and is indented. The statement `return` [expression] exits a function, optionally passing back an expression to the caller. A return statement with no arguments is the same as return `None`.\n",
    "\n",
    "Example:"
   ]
  },
  {
   "cell_type": "code",
   "execution_count": null,
   "metadata": {},
   "outputs": [],
   "source": [
    "# This function does not take any input, but outputs 'something' 2\n",
    "def give_me_something():\n",
    "    something = 'Here you go, have something.'\n",
    "    return something\n",
    "\n",
    "# This function calculates the mid-span bending moment of a simply supported beam\n",
    "# It has only mandatory input parameters: distributed load (p) and beam length (l)\n",
    "def calc_m_midspan_ssb(p, l):\n",
    "    midspan_moment = p*l**2/8\n",
    "    return midspan_moment\n",
    "\n",
    "# This function calculates the bending moment of a simply supported beam at a given distance of the support\n",
    "# It has mandatory input parameters: distributed load (p) and beam length (l)\n",
    "# It has optional input parameters: distance from support (x)\n",
    "# If no x is provided, it returns a list of moments at every quarter of the span\n",
    "def calc_m_ssb(p, l, x = None):\n",
    "    if x != None:\n",
    "        moment = p*l*x/2 - p*x*x/2\n",
    "    else:\n",
    "        moment = []\n",
    "        for x in [1*l/4, 2*l/4, 3*l/4]:\n",
    "            moment.append(p*l*x/2 - p*x*x/2)\n",
    "    return moment"
   ]
  },
  {
   "cell_type": "markdown",
   "metadata": {},
   "source": [
    "One should note that, when constructing the function, optional parameters must be defned after the mandatory ones. Doing the contrary will result in an error.\n",
    "\n",
    "At this stage, the functions are created and known to Python, but need to be called in order to function. The result of the function (what is passed in `return`) can be assigned to a given variable, or just printed to the screen.\n",
    "\n",
    "Example:"
   ]
  },
  {
   "cell_type": "code",
   "execution_count": null,
   "metadata": {},
   "outputs": [],
   "source": [
    "print(give_me_something())"
   ]
  },
  {
   "cell_type": "code",
   "execution_count": null,
   "metadata": {},
   "outputs": [],
   "source": [
    "p = 10\n",
    "l = 10\n",
    "print('Mid-span bending moment =', calc_m_midspan_ssb(p = p, l = l), ', for p = %.1f and l = %.1f' % (p, l))"
   ]
  },
  {
   "cell_type": "code",
   "execution_count": null,
   "metadata": {},
   "outputs": [],
   "source": [
    "p = 10\n",
    "l = 10\n",
    "x = l/2\n",
    "print('Bending moment =', calc_m_ssb(p = p, l = l, x = x), ', for p = %.1f, l = %.1f and x = %.1f' % (p, l, x))"
   ]
  },
  {
   "cell_type": "code",
   "execution_count": null,
   "metadata": {},
   "outputs": [],
   "source": [
    "p = 10\n",
    "l = 10\n",
    "print('Bending moment =', calc_m_ssb(p = p, l = l), ', for p = %.1f, l = %.1f and x = [%.1f, %.1f, %.1f]' % (p, l, 1*l/4, 2*l/4, 3*l/4))"
   ]
  },
  {
   "cell_type": "markdown",
   "metadata": {},
   "source": [
    "It is also possible to define functions within functions (e.g. a *mother* function that takes some input parameters to give some output, but the internal preliminary calculations constructuted in different *child* functions). Depending on the complexity level, it might be a advisable to move to a different paradigm to achieve the same result (e.g. Object-Oriented Programming or `Classes`).\n",
    "### <font color=blue>2.5.2. Docstrings</font> \n",
    "Optionally, but highly recommended, we can define a so called *docstring*, which is a description of the functions purpose and behaviour. The *docstring* should follow directly after the function definition, before the code in the function body. This is usefull when one wants to inspect the purpose of the function with the `help()` function, which returns that *docstring*.\n",
    "\n",
    "Example:"
   ]
  },
  {
   "cell_type": "code",
   "execution_count": null,
   "metadata": {},
   "outputs": [],
   "source": [
    "def func(s):\n",
    "    \"\"\"\n",
    "    Print a string 's' and tell how many characters it has \n",
    "    \"\"\" \n",
    "    print(s + ' has ' + str(len(s)) + ' characters')"
   ]
  },
  {
   "cell_type": "code",
   "execution_count": null,
   "metadata": {},
   "outputs": [],
   "source": [
    "help(func)"
   ]
  },
  {
   "cell_type": "markdown",
   "metadata": {},
   "source": [
    "## <font color=blue>2.6. Errors and Exceptions</font>\n",
    "     \n",
    "Very likely, codes will have some sort of error, regardless of the amount of experience one has. Oftentimes, these are frustating aspects to deal with. However, understanding what the different types of errors are and when you are likely to encounter them can be very helpful. Errors in Python have a very specific form, called a `traceback`. In the following, some examples of common Python errors (and the `traceback` Python returns to the user) are detailed.\n",
    "\n",
    "### <font color=blue>2.8.1. String concatenation</font>\n",
    "When trying to concatenate strings from partial strings, one needs to make sure that the operation can be carried out. This means that every substring that will form the full string needs to have an `str` type. \n",
    "\n",
    "Example:"
   ]
  },
  {
   "cell_type": "code",
   "execution_count": null,
   "metadata": {},
   "outputs": [],
   "source": [
    "'a' + 1"
   ]
  },
  {
   "cell_type": "markdown",
   "metadata": {},
   "source": [
    "The `traceback` shown above contains all the necessary information regarding the error. Firstly, the line in which the problem exists is identified (in this case, line 1), and the issue (`TypeError`) as well. As mentioned before, one cannot concatenate a string with a number of any format (e.g. integer, float). The only way to join the substrings is to convert any non-string \"words\" to strings before concatenating.\n",
    "\n",
    "Furthermore, when concatenating largestring , one may forget to assign the `+` operator. In this case, the error is one related with syntax (`SyntaxError`), given that the interpreter realizes that something is missing. Not only is the line of the error given, the position along the code \"line\" where everything went wrong is also identified.\n",
    "\n",
    "Example:"
   ]
  },
  {
   "cell_type": "code",
   "execution_count": null,
   "metadata": {},
   "outputs": [],
   "source": [
    "'a' 1"
   ]
  },
  {
   "cell_type": "markdown",
   "metadata": {},
   "source": [
    "### <font color=blue>2.6.1. Numerical operations</font> \n",
    "In the same way one cannot concatenate non-string objects, trying to perform numerical operations on non-numerical objects will raise an error (`TypeError`).\n",
    "\n",
    "Example:"
   ]
  },
  {
   "cell_type": "code",
   "execution_count": null,
   "metadata": {},
   "outputs": [],
   "source": [
    "1 + '2'"
   ]
  },
  {
   "cell_type": "markdown",
   "metadata": {},
   "source": [
    "### <font color=blue>2.6.2. Range of list indexes</font>  \n",
    "Another common error pertains the available range of indexes within a list object (or tuple, array). When trying to access an index that does not exist in the object, Python will point out that it cannot do that with a `IndexError`.\n",
    "\n",
    "Example:"
   ]
  },
  {
   "cell_type": "code",
   "execution_count": null,
   "metadata": {},
   "outputs": [],
   "source": [
    "a = [0, 1, 2]\n",
    "print(a[3])"
   ]
  },
  {
   "cell_type": "markdown",
   "metadata": {},
   "source": [
    "### <font color=blue>2.6.3. Key not in dictionary</font>   \n",
    "Trying to use a non-existent key of a dictionary is also one of the error types Python reports back (with `KeyError`).\n",
    "\n",
    "Example:"
   ]
  },
  {
   "cell_type": "code",
   "execution_count": null,
   "metadata": {},
   "outputs": [],
   "source": [
    "a = {'A': 0, 'B': 1, 'C': 2}\n",
    "print(a['D'])"
   ]
  },
  {
   "cell_type": "markdown",
   "metadata": {},
   "source": [
    "### <font color=blue>2.6.4. Variable not defined</font>   \n",
    "Whenever an operation is attempted with a given variable that is not defined within the namespace, Python reports back a `NameError`.\n",
    "\n",
    "Example:"
   ]
  },
  {
   "cell_type": "code",
   "execution_count": null,
   "metadata": {},
   "outputs": [],
   "source": [
    "b"
   ]
  },
  {
   "cell_type": "markdown",
   "metadata": {},
   "source": [
    "### <font color=blue>2.6.5. Flow sintax</font>    \n",
    "When initiating any sort of flow in Python (e.g. `for` or `while` loofs, `if` statements, `functions`, `classes`), it is very important to use the colon character ( `:` ) when the flow starts. Not doing so will raise a `SyntaxError`.\n",
    "\n",
    "Example:"
   ]
  },
  {
   "cell_type": "code",
   "execution_count": null,
   "metadata": {},
   "outputs": [],
   "source": [
    "for i in range(3)\n",
    "    print(i)"
   ]
  },
  {
   "cell_type": "markdown",
   "metadata": {},
   "source": [
    "### <font color=blue>2.6.6. Indentation</font>\n",
    "In Python, flows are interpreted on the basis of the colon character ( `:` ), in conjuntion with  indentation. If Python notices that something is indented and it shouldn't be, an `IndentationError` error will be given. \n",
    "\n",
    "Example:"
   ]
  },
  {
   "cell_type": "code",
   "execution_count": null,
   "metadata": {},
   "outputs": [],
   "source": [
    "for i in range(3):\n",
    "    print(i)\n",
    "j = i + 1\n",
    "    print(j)"
   ]
  },
  {
   "cell_type": "markdown",
   "metadata": {},
   "source": [
    "Notice that Python only recognized there was an issue because it was not expecting another indented line after `j = i + 1`, since this marked the end of the flow defined previously. Thus, if `print(j)` was not there, and `j = i + 1` was supposed to be part of the flow, Python would not report any error. In such cases, it is up to the user to make sure the flow and the indentations are defined as desired."
   ]
  },
  {
   "cell_type": "markdown",
   "metadata": {},
   "source": [
    "### <font color=blue>2.6.7. Handling Exceptions</font>\n",
    "It is possible to write programs that handle selected exceptions. Look at the following example, which asks the user for input until a valid integer has been entered, but allows the user to interrupt the program (using Control-C or whatever the operating system supports); note that a user-generated interruption is signalled by raising the *KeyboardInterrupt* exception.\n",
    "\n",
    "For example:"
   ]
  },
  {
   "cell_type": "code",
   "execution_count": null,
   "metadata": {},
   "outputs": [],
   "source": [
    "while True:\n",
    "    try:\n",
    "        x = int(input(\"Please enter a number: \"))\n",
    "        break\n",
    "    except ValueError:\n",
    "        print(\"Oops!  That was no valid number.  Try again...\")"
   ]
  },
  {
   "cell_type": "markdown",
   "metadata": {},
   "source": [
    "### <font color=blue>2.6.8. Raising Exceptions</font>\n",
    "It is possible to exit the operation by defining an exception. Such emergency exits are especially usefull when a while operator is being used. The raise statement allows the programmer to force a specified exception to occur.\n",
    "\n",
    "For example:"
   ]
  },
  {
   "cell_type": "code",
   "execution_count": null,
   "metadata": {},
   "outputs": [],
   "source": [
    "# defining the function\n",
    "def F(x):\n",
    "    value = x*x - 3.\n",
    "    derivative = 2*x\n",
    "    return (value, derivative)\n",
    "\n",
    "# defining Newton's algorithm as a function\n",
    "def Newton(function, x0, maxIter=5):\n",
    "    x = x0\n",
    "    (f, df) = function(x)\n",
    "    print(\"# {:20.16f} has error {:12.6e}\".format(x, abs(f)))\n",
    "    \n",
    "    # adding the emergency counter\n",
    "    cnt = 0\n",
    "    \n",
    "    while abs(f)>1.0e-12:\n",
    "        x -= f/df\n",
    "        (f, df) = function(x)\n",
    "        print(\"# {:20.16f} has error {:12.6e}\".format(x, abs(f)))\n",
    "        \n",
    "        # incrementing and checking the emergency counter\n",
    "        cnt += 1   # python does not have the ++cnt operation :(\n",
    "        if cnt >= maxIter:\n",
    "            raise RuntimeError('failure to converge in %d iterations' % maxIter)\n",
    "        \n",
    "    return x\n",
    "        \n",
    "# now run a test\n",
    "print(Newton(F,1.))\n",
    "print(Newton(F,-1.))\n",
    "print(Newton(F,0.01))"
   ]
  },
  {
   "cell_type": "markdown",
   "metadata": {},
   "source": [
    "<font color=red><div style=\"text-align: right\"> **Documentation for**  \n",
    "[**`errors and exceptions`**](https://docs.python.org/3/tutorial/errors.html)</div></font>"
   ]
  },
  {
   "cell_type": "markdown",
   "metadata": {},
   "source": [
    "## <font color=blue>2.7. Packages and Modules</font>\n",
    "## <font color=blue>2.7.1. Inspection and installation</font> \n",
    "Packages are namespaces which contain multiple packages and modules themselves. They are simply directories, albeit with a twist. Python distributions, such as Anaconda, include a multitude of built-in packages. You can inspect the installed packages with:"
   ]
  },
  {
   "cell_type": "code",
   "execution_count": null,
   "metadata": {},
   "outputs": [],
   "source": [
    "!pip freeze"
   ]
  },
  {
   "cell_type": "markdown",
   "metadata": {},
   "source": [
    "To install a new package, the procedure is also straightforward:"
   ]
  },
  {
   "cell_type": "code",
   "execution_count": null,
   "metadata": {},
   "outputs": [],
   "source": [
    "# Note that the 'numpy' package is already installed with Anaconda\n",
    "!pip install numpy"
   ]
  },
  {
   "cell_type": "markdown",
   "metadata": {},
   "source": [
    "The packages can be installed through command prompt (terminal) as well.\n",
    "\n",
    "For example, to install OpenSeesPy package, start the command prompt, activate the python envrionment, and write:\n",
    "\n",
    "```python -m pip install openseespy```\n",
    "\n",
    "For example, to upgrade OpenSeesPy package, start the command prompt, activate the python envrionment, and write:\n",
    "\n",
    "```python -m pip install --upgrade openseespy```\n",
    "\n",
    "<font color=red><div style=\"text-align: right\"> **Documentation for**  \n",
    "[**`pip`**](https://pip.pypa.io/en/stable/)</div></font>"
   ]
  },
  {
   "cell_type": "markdown",
   "metadata": {},
   "source": [
    "in addition to pre-installed packages, the user itself can seperate the developed code into modules. A module allows you to logically organize your Python code. Grouping related code into a module makes the code easier to understand and use. A module is a Python object with arbitrarily named attributes that you can bind and reference, and can define functions, classes and variables. A module can also include runnable code. \n",
    "## <font color=blue>2.7.2. The `import` statement</font> \n",
    "You can use any Python source file as a module by executing an `import` statement in some other Python source file (e.g. user-defined module, package). The import has the following syntax:"
   ]
  },
  {
   "cell_type": "code",
   "execution_count": null,
   "metadata": {},
   "outputs": [],
   "source": [
    "# This imports the module 'math' from the default library of python\n",
    "# This module has an assortment of mathematical functions that can be called\n",
    "import math"
   ]
  },
  {
   "cell_type": "markdown",
   "metadata": {},
   "source": [
    "A module is loaded only once, regardless of the number of times it is imported. This prevents the module execution from happening over and over again if multiple imports occur."
   ]
  },
  {
   "cell_type": "markdown",
   "metadata": {},
   "source": [
    "Now that the module is imported, the functions defined within it can be called.\n",
    "\n",
    "Example:"
   ]
  },
  {
   "cell_type": "code",
   "execution_count": null,
   "metadata": {},
   "outputs": [],
   "source": [
    "# This prints the result of the 'factorial' function of 'math'\n",
    "# It takes a value and returns it factorial\n",
    "print(math.factorial(10))"
   ]
  },
  {
   "cell_type": "code",
   "execution_count": null,
   "metadata": {},
   "outputs": [],
   "source": [
    "# This prints the result of the 'sqrt' function of 'math'\n",
    "# It takes a value and returns it square root\n",
    "print(math.sqrt(9))"
   ]
  },
  {
   "cell_type": "markdown",
   "metadata": {},
   "source": [
    "Sometimes, one may find useful to rename the imported module to something more convenient. This changes the reference name the user needs to specify upon calling a function of the module.\n",
    "\n",
    "Example:"
   ]
  },
  {
   "cell_type": "code",
   "execution_count": null,
   "metadata": {},
   "outputs": [],
   "source": [
    "import math as m\n",
    "print(m.factorial(10))"
   ]
  },
  {
   "cell_type": "code",
   "execution_count": null,
   "metadata": {},
   "outputs": [],
   "source": [
    "print(m.sqrt(9))"
   ]
  },
  {
   "cell_type": "markdown",
   "metadata": {},
   "source": [
    "It is also possible to import all names from a module into the current namespace by using the following import statement:"
   ]
  },
  {
   "cell_type": "code",
   "execution_count": null,
   "metadata": {},
   "outputs": [],
   "source": [
    "from math import *"
   ]
  },
  {
   "cell_type": "markdown",
   "metadata": {},
   "source": [
    "From this point onwards, all the functions of the module can be called directly:"
   ]
  },
  {
   "cell_type": "code",
   "execution_count": null,
   "metadata": {},
   "outputs": [],
   "source": [
    "print(factorial(10))"
   ]
  },
  {
   "cell_type": "code",
   "execution_count": null,
   "metadata": {},
   "outputs": [],
   "source": [
    "print(sqrt(9))"
   ]
  },
  {
   "cell_type": "markdown",
   "metadata": {},
   "source": [
    "Although this procedure provides an easy way to import all the items from a module into the current namespace, it should be used with caution (conflict between functions of different modules with the same name may occur).\n",
    "\n",
    "Finally, it is sometimes usefull to import a specific function of a module, following the syntax:"
   ]
  },
  {
   "cell_type": "code",
   "execution_count": null,
   "metadata": {},
   "outputs": [],
   "source": [
    "# This imports the function 'zeros' from the 'numpy' library\n",
    "# It returns a new array of given shape and type, filled with zeros\n",
    "from numpy import zeros, ones\n",
    "print(zeros(5))\n",
    "print(ones(5))"
   ]
  },
  {
   "cell_type": "markdown",
   "metadata": {},
   "source": [
    "Although the previous module ('NumPy') has several functions, only one was imported. Trying to call any other function not imported will result in an error, since the whole module was not imported, even if that specific function really exists within the module:"
   ]
  },
  {
   "cell_type": "code",
   "execution_count": null,
   "metadata": {},
   "outputs": [],
   "source": [
    "print(numpy.sqrt(9))"
   ]
  },
  {
   "cell_type": "markdown",
   "metadata": {},
   "source": [
    "To import OpenSeesPy:"
   ]
  },
  {
   "cell_type": "code",
   "execution_count": null,
   "metadata": {},
   "outputs": [],
   "source": [
    "import openseespy.opensees as ops"
   ]
  },
  {
   "cell_type": "markdown",
   "metadata": {},
   "source": [
    "As you have already learned you can also use the approach below, But this is not a smart idea, you may mess up things easily. Therefore, I would avoid using such an approach:"
   ]
  },
  {
   "cell_type": "code",
   "execution_count": null,
   "metadata": {},
   "outputs": [],
   "source": [
    "from openseespy.opensees import *"
   ]
  },
  {
   "cell_type": "markdown",
   "metadata": {},
   "source": [
    "## <font color=blue>2.8. Libraries</font>\n",
    "### <font color=blue>2.8.1. os and shutil</font>\n",
    "| | | |\n",
    "|-|-|-|\n",
    "| | | |\n",
    "| <img src='https://encrypted-tbn0.gstatic.com/images?q=tbn:ANd9GcSCwBNpoY16HxMT_5CXy7kGlx1VY-WrzcKGwOE4yLbYAUb1o2mSuw' alt='Drawing' style='width:100px;'/> | <img src='https://image.freepik.com/free-icon/addition-thick-symbol_318-36715.jpg' alt='Drawing' style='width:50px;'/> | <img src='https://d2rhekw5qr4gcj.cloudfront.net/img/400sqf/from/uploads/course_photos/2786926000140821210808.jpg' alt='Drawing' style='width:100px;'/> |\n",
    "| | | | |\n",
    "\n",
    "The `os` package (module) is a very useful tool that provides a portable way of using operating system dependent functionality (e.g. read or write a file, manipulate paths). For more high-level file and directoty handling, the `shutil` mdoule is the way to go.\n",
    "\n",
    "<font color=red><div style=\"text-align: right\"> **Documentation for**  \n",
    "[**`os`**](https://docs.python.org/2/library/os.html)</div></font>\n",
    "\n",
    "### <font color=blue>2.8.2. OpenPyXL</font>\n",
    "| | |\n",
    "|-|-|\n",
    "| | |\n",
    "| <img src='https://cdn-images-1.medium.com/max/640/1*AitvNCyWGVh1WaTEzevsDA.png' alt='Drawing' style='height:100px;'/> |\n",
    "| | | |\n",
    "\n",
    "Excel workbooks are very powerful when it comes to working with spreadsheets, tables, charts, etc. However, repetitive tasks that repeatadly emply the same worksheet or workbook can be quite inefficient. Hence, a the advantage of using an external framework (e.g. Python's OpenPyXL) to automate such processes is immensely valuable.\n",
    "\n",
    "\n",
    "<font color=red><div style=\"text-align: right\"> **Documentation for**  \n",
    "[**`openpyxl`**](https://openpyxl.readthedocs.io/en/stable/)</div></font>\n",
    "\n",
    "### <font color=blue>2.8.3. NumPy</font>\n",
    "| | |\n",
    "|-|-|\n",
    "| | |\n",
    "| <img src='https://upload.wikimedia.org/wikipedia/commons/thumb/3/31/NumPy_logo_2020.svg/512px-NumPy_logo_2020.svg.png' alt='Drawing' style='height:100px;'/> |\n",
    "| | | |\n",
    "\n",
    "The `numpy` package (module) is used in almost all numerical computation using Python. It is a package that provides high-performance vector, matrix and higher-dimensional data structures for Python. It is implemented in C and Fortran so when calculations are vectorized (formulated with vectors and matrices), performance is very good. In the `numpy` package, the terminology used for vectors, matrices and higher-dimensional data sets is *array*. \n",
    "\n",
    "<font color=red><div style=\"text-align: right\"> **Documentation for**  \n",
    "[**`numpy`**](https://docs.scipy.org/doc/numpy/)</div></font>\n",
    "\n",
    "### <font color=blue>2.8.4. SciPy</font>\n",
    "| | |\n",
    "|-|-|\n",
    "| | |\n",
    "| <img src='https://www.nixp.ru/uploads/news/fullsize_image/8eef272e9391957a9f14b9a9974e51b8333d6e41.png' alt='Drawing' style='height:100px;'/> |\n",
    "| | | |\n",
    "\n",
    "The `scipy` framework builds on top of the low-level `numpy` framework for multidimensional arrays, and provides a large number of higher-level scientific algorithms. Some of the topics that `scipy` covers are:\n",
    "\n",
    "- [Integration](http://docs.scipy.org/doc/scipy/reference/integrate.html)\n",
    "- [Interpolation](http://docs.scipy.org/doc/scipy/reference/interpolate.html)\n",
    "- [Optimization](http://docs.scipy.org/doc/scipy/reference/optimize.html)\n",
    "- [Statistics](http://docs.scipy.org/doc/scipy/reference/stats.html)\n",
    "\n",
    "Each of these submodules provides a number of functions and classes that can be used to solve problems in their respective topics.\n",
    "\n",
    "<font color=red><div style=\"text-align: right\"> **Documentation for**  \n",
    "[**`scipy`**](https://docs.scipy.org/doc/scipy/reference/)</div></font>\n",
    "\n",
    "### <font color=blue>2.8.5.pandas</font>\n",
    "| | |\n",
    "|-|-|\n",
    "| | |\n",
    "| <img src='https://pandas.pydata.org/static/img/pandas.svg' alt='Drawing' style='height:100px;'/> |\n",
    "| | | |\n",
    "\n",
    "`pandas` is a Python package that provides fast, flexible, and expressive data structures designed to make working with “relational” or “labeled” data both easy and intuitive. The two primary data structures of `pandas`, `Series` (1-dimensional) and `DataFrame` (2-dimensional), handle the vast majority of typical use cases in finance, statistics, social science, and many areas of engineering. `pandas` is built on top of the `numpy` package, and is intended to integrate well within a scientific computing environment with many other 3rd party libraries.\n",
    "\n",
    "<font color=red><div style=\"text-align: right\"> **Documentation for**  \n",
    "[**`pandas`**](http://pandas.pydata.org/pandas-docs/stable/) </div></font>\n",
    "\n",
    "### <font color=blue>2.8.6.Matplotlib</font>\n",
    "| | |\n",
    "|-|-|\n",
    "| | |\n",
    "| <img src='https://matplotlib.org/_static/logo2.png' alt='Drawing' style='height:100px;'/> |\n",
    "| | | |\n",
    "\n",
    "`matplotlib` is probably the single most used Python package for 2D-graphics, providing both a very quick way to visualize data from Python, as well as publication-quality figures in many formats. \n",
    "\n",
    "<font color=red><div style=\"text-align: right\"> **Documentation for**  \n",
    "[**`matplotlib`**](https://matplotlib.org/)  \n",
    "[**`matplotlib.pyplot`**](https://matplotlib.org/api/pyplot_api.html)</div></font>"
   ]
  },
  {
   "cell_type": "markdown",
   "metadata": {},
   "source": [
    "## <font color=blue>2.9. Downloading Ground Motion Records via EzGM Library</font>\n",
    "EzGM is a versatile Python library for ground-motion record selection and processing. It has been developed by **Volkan Özsaraç**. There is no complete documentation for the library, yet, the repository is self-explanatory. As an example, the package can be used to derive a design response spectrum, and selected records for structural analysis. In particular, *Turkish Building Code (2018)* can be followed. In order to download from NGA West2 database, the user must have an account on: https://ngawest2.berkeley.edu/. If you do not know what the package containts and if there are no documentation you can use help() to see *Docstring*. Likewise, dir() function can be used to get attributes of given object Moreover you can use shortcuts given that you using jupyter notebook. Write 'name of the package', then '.', then press 'tab' button. Now scroll down to see what the package or method contains. \n",
    "\n",
    "To install:\n",
    "\n",
    "- on terminal  ```python -m pip install EzGM```\n",
    "\n",
    "- on notebook ```!pip install EzGM```\n",
    "\n",
    "<font color=red><div style=\"text-align: right\"> **GitHub repository for**  \n",
    "[**`EzGM`**](https://github.com/volkanozsarac/EzGM)</div></font>"
   ]
  },
  {
   "cell_type": "code",
   "execution_count": null,
   "metadata": {},
   "outputs": [],
   "source": [
    "import EzGM  # import the package\n",
    "help(EzGM)   # generate the help of the given object"
   ]
  },
  {
   "cell_type": "code",
   "execution_count": null,
   "metadata": {},
   "outputs": [],
   "source": [
    "dir(EzGM.selection) # attributes of the Selection module"
   ]
  },
  {
   "cell_type": "code",
   "execution_count": null,
   "metadata": {},
   "outputs": [],
   "source": [
    "help(EzGM.selection.tbdy_2018) # docstring for tbdy_2018 class"
   ]
  },
  {
   "cell_type": "code",
   "execution_count": null,
   "metadata": {},
   "outputs": [],
   "source": [
    "help(EzGM.selection.tbdy_2018.select) # docstring for select method"
   ]
  },
  {
   "cell_type": "code",
   "execution_count": null,
   "metadata": {},
   "outputs": [],
   "source": [
    "# 1.) Initialize the tbdy_2018 object for record selection\n",
    "spec = EzGM.selection.tbdy_2018(database='NGA_W2', outdir='Records')"
   ]
  },
  {
   "cell_type": "code",
   "execution_count": null,
   "metadata": {},
   "outputs": [],
   "source": [
    "# 2.) Select the ground motions\n",
    "spec.select(Lat=40.653074, Long=29.269239, DD=2, Soil='ZD', nGM=11, selection=1, Tp=0.7,\n",
    "            Mw_lim=[5.5, 8], Vs30_lim=[180, 360], Rjb_lim=[0, 20], fault_lim=None, \n",
    "            opt=2, maxScale=2)"
   ]
  },
  {
   "cell_type": "code",
   "execution_count": null,
   "metadata": {},
   "outputs": [],
   "source": [
    "# selected records can be plotted at this stage\n",
    "spec.plot(save=1, show=1)"
   ]
  },
  {
   "cell_type": "code",
   "execution_count": null,
   "metadata": {},
   "outputs": [],
   "source": [
    "# 3.) If database == 'NGA_W2' you can first download the records via nga_download method\n",
    "# from NGA-West2 Database [http://ngawest2.berkeley.edu/] and then use write method\n",
    "spec.ngaw2_download(username = 'example_username@email.com', pwd = 'example_password123456', sleeptime = 3)"
   ]
  },
  {
   "cell_type": "code",
   "execution_count": null,
   "metadata": {},
   "outputs": [],
   "source": [
    "# 4.) If you have records already inside recs_f\\database.zip\\database or\n",
    "# downloaded records for database = NGA_W2 case, write whatever you want,\n",
    "# the object itself, selected and scaled time histories\n",
    "spec.write(obj=1, recs=1, recs_f='')\n",
    "\n",
    "# Let's also save design response spectrum\n",
    "import numpy as np\n",
    "Periods = np.array([spec.T]).T\n",
    "Sa = np.array([spec.target]).T\n",
    "SaT = np.concatenate((Periods,Sa),axis=1)\n",
    "np.savetxt('Records//SaT.txt', SaT, fmt = '%.5f')"
   ]
  },
  {
   "cell_type": "markdown",
   "metadata": {},
   "source": [
    "[Back to 1. Introduction](./1.%20Introduction.ipynb)\n",
    "\n",
    "[Jump to 3. SDOF Systems](./3.%20SDOF.ipynb)"
   ]
  }
 ],
 "metadata": {
  "kernelspec": {
   "display_name": "Python 3 (ipykernel)",
   "language": "python",
   "name": "python3"
  },
  "language_info": {
   "codemirror_mode": {
    "name": "ipython",
    "version": 3
   },
   "file_extension": ".py",
   "mimetype": "text/x-python",
   "name": "python",
   "nbconvert_exporter": "python",
   "pygments_lexer": "ipython3",
   "version": "3.8.10"
  }
 },
 "nbformat": 4,
 "nbformat_minor": 2
}
