{
 "cells": [
  {
   "cell_type": "markdown",
   "metadata": {},
   "source": [
    "<img src='img/logo.png' alt='Drawing' style='width:2000px;'/>"
   ]
  },
  {
   "cell_type": "markdown",
   "metadata": {},
   "source": [
    "# <font color=blue>2. Python for Beginners</font>\n",
    "## <font color=blue>2.1. Basic Syntax</font>\n",
    "### <font color=blue>2.1.1. Python identifiers</font>\n",
    "A Python identifier is a name used to identify a variable, function, class, module or other object. An identifier can have any letter from A to Z (or a to z), or an underscore or  digits (0 to 9). Python does not allow punctuation characters (e.g. @, $, #, %) within identifiers. Python is a case sensitive programming language. Thus, `Manpower` and `manpower` are two different identifiers in Python."
   ]
  },
  {
   "cell_type": "markdown",
   "metadata": {},
   "source": [
    "### <font color=blue>2.1.2. Reserved words</font>\n",
    "Some words in Python are reserved, not able to be used as constants or variables or any other identifier names: `and, assert, break, class, continue, def, del, elif, else, except, exec, finally, for, from, global, if, import, in, is, lambda, not, or, pass, print, raise, return, try, while, with, yield`."
   ]
  },
  {
   "cell_type": "markdown",
   "metadata": {},
   "source": [
    "### <font color=blue>2.1.3. Lines and indentation</font>\n",
    "Python provides no braces to indicate blocks of code for class and function definitions or flow control. Blocks of code are denoted by line indentation, which is rigidly enforced. The number of spaces in the indentation is variable, but all statements within the block must be indented the same amount.\n",
    "\n",
    "1. Lines with the same amount of leading white space (indentation) belong to one group.  \n",
    "   1. Unlike C/C++, there is no need for { ... }.  In fact, the braces would be a syntax error.\n",
    "   2. Unlike MATLAB or FORTRAN, there is no need for an **end** statement.  Returning to the previous alignment ends a block of code.\n",
    "\n",
    "2. Moreover, the same concept applies to conditions: the keyword lines containing if and else require a colon (:) while the content gets another indentation.  \n",
    "\n",
    "3. Empty lines are ignored, so is everything after the #.\n",
    "\n",
    "Example:"
   ]
  },
  {
   "cell_type": "code",
   "execution_count": 1,
   "metadata": {},
   "outputs": [],
   "source": [
    "a = 1\n",
    "if a > 0:\n",
    "    b = a + 1\n",
    "else:\n",
    "    b = a - 1"
   ]
  },
  {
   "cell_type": "markdown",
   "metadata": {},
   "source": [
    "**Did you notice: NO SEMICOLON !** (as in MATLAB, C, C++)"
   ]
  },
  {
   "cell_type": "markdown",
   "metadata": {},
   "source": [
    "### <font color=blue>2.1.4. Multi-line statements</font>\n",
    "Statements in Python typically end with a new line. Python does, however, allow the use of the line continuation character ( `\\` ) to denote that the line should continue. This is aesthetically useful when the statement is very long:\n",
    "\n",
    "Example:"
   ]
  },
  {
   "cell_type": "code",
   "execution_count": 2,
   "metadata": {},
   "outputs": [],
   "source": [
    "total = 1 + \\\n",
    "        2 + \\\n",
    "        3"
   ]
  },
  {
   "cell_type": "markdown",
   "metadata": {},
   "source": [
    "### <font color=blue>2.1.5. Multiple statements on a single line</font>\n",
    "The semicolon ( `;` ) allows multiple statements on the single line given that neither statement starts a new code block.\n",
    "\n",
    "Example:"
   ]
  },
  {
   "cell_type": "code",
   "execution_count": 3,
   "metadata": {},
   "outputs": [
    {
     "data": {
      "text/plain": [
       "(1, 2, 3)"
      ]
     },
     "execution_count": 3,
     "metadata": {},
     "output_type": "execute_result"
    }
   ],
   "source": [
    "a = 1; b = 2; c = a + b\n",
    "a, b, c"
   ]
  },
  {
   "cell_type": "markdown",
   "metadata": {},
   "source": [
    "### <font color=blue>2.1.6. Quotation</font>\n",
    "Python accepts single ( `'` ), double ( `\"` ) and triple ( `'''` or `\"\"\"` ) quotes to denote string literals, as long as the same type of quote starts and ends the string. The triple quotes are used to span the string across multiple lines.\n",
    "\n",
    "Example:"
   ]
  },
  {
   "cell_type": "code",
   "execution_count": 4,
   "metadata": {},
   "outputs": [
    {
     "name": "stdout",
     "output_type": "stream",
     "text": [
      "word\n",
      "This is a sentence.\n",
      "This is a paragraph. It is made up of multiple lines and sentences.\n"
     ]
    }
   ],
   "source": [
    "word = 'word'\n",
    "sentence = \"This is a sentence.\"\n",
    "paragraph = \"\"\"This is a paragraph. It is \\\n",
    "made up of multiple lines and sentences.\"\"\"\n",
    "print(word)\n",
    "print(sentence) \n",
    "print(paragraph)"
   ]
  },
  {
   "cell_type": "markdown",
   "metadata": {},
   "source": [
    "### <font color=blue>2.1.7. Comments</font> \n",
    "Comments in Python start with the hash caracter ( `#` ), for each of the lines of the comment. A comment may appear at the start of a line or following whitespace or code, but not within a string literal. As good practice, comment as much as possible your code (very useful for the future you).\n",
    "\n",
    "Example:"
   ]
  },
  {
   "cell_type": "code",
   "execution_count": 5,
   "metadata": {},
   "outputs": [],
   "source": [
    "# Oh look, a comment \n",
    "test = 1  # Yet another comment...\n",
    "          # that does not end"
   ]
  },
  {
   "cell_type": "markdown",
   "metadata": {},
   "source": [
    "### <font color=blue>2.1.8. Input</font> \n",
    "One useful functionality of Puthon is provided with the function `input()`. This function has an optional parameter, which is the prompt string. When called, the program flow will be stopped until the user has given an input and has ended the input with the return key. The text of the optional parameter, i.e. the prompt, will be printed on the screen. has an optional parameter, which is the prompt string.\n",
    "\n",
    "Example:"
   ]
  },
  {
   "cell_type": "code",
   "execution_count": 6,
   "metadata": {},
   "outputs": [
    {
     "name": "stdin",
     "output_type": "stream",
     "text": [
      "What's your name?  volkan\n"
     ]
    },
    {
     "name": "stdout",
     "output_type": "stream",
     "text": [
      "Nice to meet you volkan!\n"
     ]
    }
   ],
   "source": [
    "name = input('What\\'s your name? ')\n",
    "print('Nice to meet you ' + name + '!')"
   ]
  },
  {
   "cell_type": "markdown",
   "metadata": {},
   "source": [
    "One of the key differences between Python 2.x and Python 3.x if how the input function works. In Python 3.x, by default, the input of the user will be returned as a string without any changes. This is a problem when you want to do operations on that input (e.g. number multiplication, list searching).\n",
    "\n",
    "Example:  "
   ]
  },
  {
   "cell_type": "code",
   "execution_count": 7,
   "metadata": {},
   "outputs": [
    {
     "name": "stdin",
     "output_type": "stream",
     "text": [
      "What's your number?  10\n"
     ]
    },
    {
     "name": "stdout",
     "output_type": "stream",
     "text": [
      "<class 'str'>\n",
      "10101010101010101010\n"
     ]
    }
   ],
   "source": [
    "number = input('What\\'s your number? ')\n",
    "print(type(number))\n",
    "print(number*10)"
   ]
  },
  {
   "cell_type": "markdown",
   "metadata": {},
   "source": [
    "To avoid the issue above, allways use `eval(input())` instead of just `input()`. This automatically detects the correct type of the user input, and considers it in the computations (i.e. its no longer always a string).\n",
    "\n",
    "Example:"
   ]
  },
  {
   "cell_type": "code",
   "execution_count": 8,
   "metadata": {},
   "outputs": [
    {
     "name": "stdin",
     "output_type": "stream",
     "text": [
      "What's your number?  10\n"
     ]
    },
    {
     "name": "stdout",
     "output_type": "stream",
     "text": [
      "<class 'int'>\n",
      "100\n"
     ]
    }
   ],
   "source": [
    "number = eval(input('What\\'s your number? '))\n",
    "print(type(number))\n",
    "print(number*10)"
   ]
  },
  {
   "cell_type": "markdown",
   "metadata": {},
   "source": [
    "However, `eval(input())` might also introduce some issues. If you try to provide something as input that does not exist in the workspace (a variable that is not defined anywhere), he won't automatically detect that its text you meant.\n",
    "\n",
    "Example:"
   ]
  },
  {
   "cell_type": "code",
   "execution_count": 9,
   "metadata": {},
   "outputs": [
    {
     "name": "stdin",
     "output_type": "stream",
     "text": [
      "What's your name?  volkan\n"
     ]
    },
    {
     "ename": "NameError",
     "evalue": "name 'volkan' is not defined",
     "output_type": "error",
     "traceback": [
      "\u001b[0;31m---------------------------------------------------------------------------\u001b[0m",
      "\u001b[0;31mNameError\u001b[0m                                 Traceback (most recent call last)",
      "\u001b[0;32m/tmp/ipykernel_132/1781477045.py\u001b[0m in \u001b[0;36m<module>\u001b[0;34m\u001b[0m\n\u001b[1;32m      1\u001b[0m \u001b[0;31m# Writing your name without ' ' will produce an error (variable not found)\u001b[0m\u001b[0;34m\u001b[0m\u001b[0;34m\u001b[0m\u001b[0;34m\u001b[0m\u001b[0m\n\u001b[1;32m      2\u001b[0m \u001b[0;31m# Writing your name with ' ' is recognized as text, everything works\u001b[0m\u001b[0;34m\u001b[0m\u001b[0;34m\u001b[0m\u001b[0;34m\u001b[0m\u001b[0m\n\u001b[0;32m----> 3\u001b[0;31m \u001b[0mname\u001b[0m \u001b[0;34m=\u001b[0m \u001b[0meval\u001b[0m\u001b[0;34m(\u001b[0m\u001b[0minput\u001b[0m\u001b[0;34m(\u001b[0m\u001b[0;34m'What\\'s your name? '\u001b[0m\u001b[0;34m)\u001b[0m\u001b[0;34m)\u001b[0m\u001b[0;34m\u001b[0m\u001b[0;34m\u001b[0m\u001b[0m\n\u001b[0m\u001b[1;32m      4\u001b[0m \u001b[0mprint\u001b[0m\u001b[0;34m(\u001b[0m\u001b[0;34m'Nice to meet you '\u001b[0m \u001b[0;34m+\u001b[0m \u001b[0mname\u001b[0m \u001b[0;34m+\u001b[0m \u001b[0;34m'!'\u001b[0m\u001b[0;34m)\u001b[0m\u001b[0;34m\u001b[0m\u001b[0;34m\u001b[0m\u001b[0m\n",
      "\u001b[0;32m<string>\u001b[0m in \u001b[0;36m<module>\u001b[0;34m\u001b[0m\n",
      "\u001b[0;31mNameError\u001b[0m: name 'volkan' is not defined"
     ]
    }
   ],
   "source": [
    "# Writing your name without ' ' will produce an error (variable not found)\n",
    "# Writing your name with ' ' is recognized as text, everything works\n",
    "name = eval(input('What\\'s your name? '))\n",
    "print('Nice to meet you ' + name + '!')"
   ]
  },
  {
   "cell_type": "markdown",
   "metadata": {},
   "source": [
    "<font color=red><div style=\"text-align: right\"> **Documentation for**  \n",
    "[**`input`**](https://docs.python.org/3/library/functions.html#input)</div></font>"
   ]
  },
  {
   "cell_type": "markdown",
   "metadata": {},
   "source": [
    "## <font color=blue>2.2. Variable Types</font>\n",
    "Variables are nothing but reserved memory locations to store values. This means that when you create a variable you reserve some space in memory.\n",
    "\n",
    "Based on the data type of a variable, the interpreter allocates memory and decides what can be stored in the reserved memory. Therefore, by assigning different data types to variables, you can store integers, decimals or characters in these variables.\n",
    "### <font color=blue>2.2.1. Variable assignment</font> \n",
    "Python variables do not need explicit declaration to reserve memory space. The declaration happens automatically when you assign a value to a variable. The equal sign ( `=` ) is used to assign values to variables.\n",
    "\n",
    "The operand to the left of the `=` operator is the name of the variable and the operand to the right of the = operator is the value stored in the variable.\n",
    "\n",
    "Example:"
   ]
  },
  {
   "cell_type": "code",
   "execution_count": 10,
   "metadata": {},
   "outputs": [
    {
     "data": {
      "text/plain": [
       "('John', 'Doe', 27)"
      ]
     },
     "execution_count": 10,
     "metadata": {},
     "output_type": "execute_result"
    }
   ],
   "source": [
    "name = 'John'\n",
    "surname = 'Doe'\n",
    "age = 27\n",
    "name, surname, age"
   ]
  },
  {
   "cell_type": "markdown",
   "metadata": {},
   "source": [
    "Variables can also be updated once created:"
   ]
  },
  {
   "cell_type": "code",
   "execution_count": 11,
   "metadata": {},
   "outputs": [
    {
     "data": {
      "text/plain": [
       "'John'"
      ]
     },
     "execution_count": 11,
     "metadata": {},
     "output_type": "execute_result"
    }
   ],
   "source": [
    "name = 'John'\n",
    "name"
   ]
  },
  {
   "cell_type": "code",
   "execution_count": 12,
   "metadata": {},
   "outputs": [
    {
     "data": {
      "text/plain": [
       "'Jane'"
      ]
     },
     "execution_count": 12,
     "metadata": {},
     "output_type": "execute_result"
    }
   ],
   "source": [
    "name = 'Jane'\n",
    "name"
   ]
  },
  {
   "cell_type": "markdown",
   "metadata": {},
   "source": [
    "### <font color=blue>2.2.2. Variable deletion</font>\n",
    "Python allows for variable to be deleted from the memory, using the `del` command. Once computed, trying to call such variable will result in an error\n",
    "\n",
    "Example:"
   ]
  },
  {
   "cell_type": "code",
   "execution_count": 13,
   "metadata": {},
   "outputs": [
    {
     "ename": "NameError",
     "evalue": "name 'name' is not defined",
     "output_type": "error",
     "traceback": [
      "\u001b[0;31m---------------------------------------------------------------------------\u001b[0m",
      "\u001b[0;31mNameError\u001b[0m                                 Traceback (most recent call last)",
      "\u001b[0;32m/tmp/ipykernel_132/1773968018.py\u001b[0m in \u001b[0;36m<module>\u001b[0;34m\u001b[0m\n\u001b[1;32m      1\u001b[0m \u001b[0mname\u001b[0m \u001b[0;34m=\u001b[0m \u001b[0;34m'variable to delete'\u001b[0m\u001b[0;34m\u001b[0m\u001b[0;34m\u001b[0m\u001b[0m\n\u001b[1;32m      2\u001b[0m \u001b[0;32mdel\u001b[0m \u001b[0mname\u001b[0m\u001b[0;34m\u001b[0m\u001b[0;34m\u001b[0m\u001b[0m\n\u001b[0;32m----> 3\u001b[0;31m \u001b[0mname\u001b[0m\u001b[0;34m\u001b[0m\u001b[0;34m\u001b[0m\u001b[0m\n\u001b[0m",
      "\u001b[0;31mNameError\u001b[0m: name 'name' is not defined"
     ]
    }
   ],
   "source": [
    "name = 'variable to delete'\n",
    "del name\n",
    "name"
   ]
  },
  {
   "cell_type": "markdown",
   "metadata": {},
   "source": [
    "To delete them all:"
   ]
  },
  {
   "cell_type": "code",
   "execution_count": 14,
   "metadata": {},
   "outputs": [
    {
     "name": "stdin",
     "output_type": "stream",
     "text": [
      "Once deleted, variables cannot be recovered. Proceed (y/[n])?  y\n"
     ]
    }
   ],
   "source": [
    "%reset"
   ]
  },
  {
   "cell_type": "markdown",
   "metadata": {},
   "source": [
    "<font color=red><div style=\"text-align: right\"> **Documentation for**  \n",
    "[**`del`**](https://docs.python.org/3/reference/simple_stmts.html#del)</div></font>"
   ]
  },
  {
   "cell_type": "markdown",
   "metadata": {},
   "source": [
    "### <font color=blue>2.2.3. Multiple assignment</font>\n",
    "Python allows you to assign a single value to several variables simultaneously. \n",
    "\n",
    "Example:"
   ]
  },
  {
   "cell_type": "code",
   "execution_count": 15,
   "metadata": {},
   "outputs": [
    {
     "data": {
      "text/plain": [
       "(1, 1, 1)"
      ]
     },
     "execution_count": 15,
     "metadata": {},
     "output_type": "execute_result"
    }
   ],
   "source": [
    "a = b = c = 1\n",
    "a, b, c"
   ]
  },
  {
   "cell_type": "markdown",
   "metadata": {},
   "source": [
    "You can also assign multiple objects to multiple variables. \n",
    "\n",
    "Example:"
   ]
  },
  {
   "cell_type": "code",
   "execution_count": 16,
   "metadata": {},
   "outputs": [
    {
     "data": {
      "text/plain": [
       "('John', 'Doe', 27)"
      ]
     },
     "execution_count": 16,
     "metadata": {},
     "output_type": "execute_result"
    }
   ],
   "source": [
    "name, surname, age = 'John', 'Doe', 27\n",
    "name, surname, age"
   ]
  },
  {
   "cell_type": "markdown",
   "metadata": {},
   "source": [
    "### <font color=blue>2.2.4. Standard data types</font> \n",
    "The data stored in memory can be of many types. For example, a person's age is stored as a numeric value and his or her address is stored as alphanumeric characters. Python has various standard data types that are used to define the operations possible on them and the storage method for each of them.\n",
    "\n",
    "Python has five standard data types:\n",
    "- Numbers\n",
    "- String\n",
    "- List\n",
    "- Tuple\n",
    "- Dictionary"
   ]
  },
  {
   "cell_type": "markdown",
   "metadata": {},
   "source": [
    "### <font color=blue>2.2.5. Python numbers</font> \n",
    "Number data types store numeric values. Number objects are created when you assign a value to them.\n",
    "\n",
    "Example:"
   ]
  },
  {
   "cell_type": "code",
   "execution_count": 17,
   "metadata": {},
   "outputs": [],
   "source": [
    "a = 1\n",
    "b = 2"
   ]
  },
  {
   "cell_type": "markdown",
   "metadata": {},
   "source": [
    "Python supports four different numerical types:\n",
    "- int (signed integers)\n",
    "- float (floating point real values)\n",
    "- <font color='grey'>long (long integers, they can also be represented in octal and hexadecimal)\n",
    "- complex (complex numbers)</font>\n",
    "\n",
    "Example:"
   ]
  },
  {
   "cell_type": "code",
   "execution_count": 18,
   "metadata": {},
   "outputs": [
    {
     "name": "stdout",
     "output_type": "stream",
     "text": [
      "1 <class 'int'>\n",
      "1.2 <class 'float'>\n"
     ]
    }
   ],
   "source": [
    "integer_number = 1\n",
    "float_number = 1.2\n",
    "print(integer_number, type(integer_number))\n",
    "print(float_number, type(float_number))"
   ]
  },
  {
   "cell_type": "markdown",
   "metadata": {},
   "source": [
    "<font color=red><div style=\"text-align: right\"> **Documentation for**  \n",
    "[**`type`**](https://docs.python.org/3/library/functions.html#type)</div></font>"
   ]
  },
  {
   "cell_type": "markdown",
   "metadata": {},
   "source": [
    "### <font color=blue>2.2.6. Python strings</font>  \n",
    "Besides numbers, Python can also manipulate strings, which can be expressed by enclosing in single quotes ( `'...'` ) or double quotes ( `\"...\"` ) with the same result. `\\` can be used to escape quotes:"
   ]
  },
  {
   "cell_type": "code",
   "execution_count": 19,
   "metadata": {},
   "outputs": [
    {
     "data": {
      "text/plain": [
       "'Structural Engineering'"
      ]
     },
     "execution_count": 19,
     "metadata": {},
     "output_type": "execute_result"
    }
   ],
   "source": [
    "'Structural Engineering' # Single quotes"
   ]
  },
  {
   "cell_type": "code",
   "execution_count": 20,
   "metadata": {},
   "outputs": [
    {
     "data": {
      "text/plain": [
       "\"Designer's guide\""
      ]
     },
     "execution_count": 20,
     "metadata": {},
     "output_type": "execute_result"
    }
   ],
   "source": [
    "'Designer\\'s guide'      # Use \\' to escape the single quote..."
   ]
  },
  {
   "cell_type": "code",
   "execution_count": 21,
   "metadata": {},
   "outputs": [
    {
     "data": {
      "text/plain": [
       "\"Designer's guide\""
      ]
     },
     "execution_count": 21,
     "metadata": {},
     "output_type": "execute_result"
    }
   ],
   "source": [
    "\"Designer's guide\"       # ...or use double quotes instead."
   ]
  },
  {
   "cell_type": "markdown",
   "metadata": {},
   "source": [
    "In the interactive interpreter, the output string is enclosed in quotes and special characters are escaped with backslashes. While this might sometimes look different from the input (the enclosing quotes could change), the two strings are equivalent. The string is enclosed in double quotes if the string contains a single quote and no double quotes, otherwise it is enclosed in single quotes. The print function produces a more readable output, by omitting the enclosing quotes and by printing escaped and special characters:"
   ]
  },
  {
   "cell_type": "code",
   "execution_count": 22,
   "metadata": {},
   "outputs": [
    {
     "data": {
      "text/plain": [
       "'\"Isn\\'t,\" she said.'"
      ]
     },
     "execution_count": 22,
     "metadata": {},
     "output_type": "execute_result"
    }
   ],
   "source": [
    "'\"Isn\\'t,\" she said.'"
   ]
  },
  {
   "cell_type": "code",
   "execution_count": 23,
   "metadata": {},
   "outputs": [
    {
     "name": "stdout",
     "output_type": "stream",
     "text": [
      "\"Isn't,\" she said.\n"
     ]
    }
   ],
   "source": [
    "print('\"Isn\\'t,\" she said.')"
   ]
  },
  {
   "cell_type": "code",
   "execution_count": 24,
   "metadata": {},
   "outputs": [
    {
     "data": {
      "text/plain": [
       "'First line.\\nSecond line.'"
      ]
     },
     "execution_count": 24,
     "metadata": {},
     "output_type": "execute_result"
    }
   ],
   "source": [
    "s = 'First line.\\nSecond line.'  # \\n means newline.\n",
    "s                                # Without print(), \\n is included in the output."
   ]
  },
  {
   "cell_type": "code",
   "execution_count": 25,
   "metadata": {},
   "outputs": [
    {
     "name": "stdout",
     "output_type": "stream",
     "text": [
      "First line.\n",
      "Second line.\n"
     ]
    }
   ],
   "source": [
    "print(s)                         # With print(), \\n produces a new line."
   ]
  },
  {
   "cell_type": "markdown",
   "metadata": {},
   "source": [
    "If you don't want characters prefaced by `\\` to be interpreted as special characters, you can use raw strings by adding an r before the first quote:"
   ]
  },
  {
   "cell_type": "code",
   "execution_count": 26,
   "metadata": {},
   "outputs": [
    {
     "name": "stdout",
     "output_type": "stream",
     "text": [
      "C:\\some\n",
      "ame\n"
     ]
    }
   ],
   "source": [
    "print('C:\\some\\name')            # Here \\n means newline!"
   ]
  },
  {
   "cell_type": "code",
   "execution_count": 27,
   "metadata": {},
   "outputs": [
    {
     "name": "stdout",
     "output_type": "stream",
     "text": [
      "C:\\some\\name\n"
     ]
    }
   ],
   "source": [
    "print(r'C:\\some\\name')           # Note the r before the quote."
   ]
  },
  {
   "cell_type": "markdown",
   "metadata": {},
   "source": [
    "One of Python's most useful features is the `%` operator, which acts a string format operator. One possible aplication of this operator is:"
   ]
  },
  {
   "cell_type": "code",
   "execution_count": 28,
   "metadata": {},
   "outputs": [
    {
     "data": {
      "text/plain": [
       "\"This member is a beam, it's section is an IPE400, and it measures 8.8 m in length.\""
      ]
     },
     "execution_count": 28,
     "metadata": {},
     "output_type": "execute_result"
    }
   ],
   "source": [
    "'This member is a %s, it\\'s section is an %s, and it measures %.1f m in length.' % ('beam', 'IPE400', 8.779234234) "
   ]
  },
  {
   "cell_type": "markdown",
   "metadata": {},
   "source": [
    "<font color=red><div style=\"text-align: right\"> **Documentation for**  \n",
    "[**`print`**](https://docs.python.org/3/library/functions.html#print)</div></font>"
   ]
  },
  {
   "cell_type": "markdown",
   "metadata": {},
   "source": [
    "### <font color=blue>2.2.7. Python lists</font>   \n",
    "Lists are one of the most versatile of Python's compound data types. A list contains items separated by commas and enclosed within square brackets ( `[ ]` ). \n",
    "\n",
    "The values stored in a list can be accessed using the slice operator ( `[ ]` and `[:]` ) with indexes starting at 0 in the beginning of the list and working their way to end -1. The plus ( `+` ) sign is the list concatenation operator, and the asterisk ( `*` ) is the repetition operator. It is also possible to delete an entry in the list with the `del` command. These commands also apply to strings.\n",
    "\n",
    "**note:** indexing is identical to C and C++ indexing\n",
    "\n",
    "Example:"
   ]
  },
  {
   "cell_type": "code",
   "execution_count": 29,
   "metadata": {},
   "outputs": [
    {
     "data": {
      "text/plain": [
       "['Steel', 'S275', 275, 'MPa', 'Concrete', 'C30/37', 30, 'MPa']"
      ]
     },
     "execution_count": 29,
     "metadata": {},
     "output_type": "execute_result"
    }
   ],
   "source": [
    "somelist = ['Steel', 'S275', 275 , 'MPa', 'Concrete', 'C30/37', 30, 'MPa']\n",
    "somelist"
   ]
  },
  {
   "cell_type": "code",
   "execution_count": 30,
   "metadata": {},
   "outputs": [
    {
     "data": {
      "text/plain": [
       "'Steel'"
      ]
     },
     "execution_count": 30,
     "metadata": {},
     "output_type": "execute_result"
    }
   ],
   "source": [
    "somelist[0]           # Prints first element of the list"
   ]
  },
  {
   "cell_type": "code",
   "execution_count": 32,
   "metadata": {},
   "outputs": [
    {
     "data": {
      "text/plain": [
       "['S275', 275, 'MPa']"
      ]
     },
     "execution_count": 32,
     "metadata": {},
     "output_type": "execute_result"
    }
   ],
   "source": [
    "somelist[1:4]         # Prints elements starting from 2nd till 4th "
   ]
  },
  {
   "cell_type": "code",
   "execution_count": 33,
   "metadata": {},
   "outputs": [
    {
     "data": {
      "text/plain": [
       "['C30/37', 30, 'MPa']"
      ]
     },
     "execution_count": 33,
     "metadata": {},
     "output_type": "execute_result"
    }
   ],
   "source": [
    "somelist[5:]          # Prints elements starting from 6th element"
   ]
  },
  {
   "cell_type": "code",
   "execution_count": 34,
   "metadata": {},
   "outputs": [
    {
     "data": {
      "text/plain": [
       "['Steel',\n",
       " 'S275',\n",
       " 275,\n",
       " 'MPa',\n",
       " 'Concrete',\n",
       " 'C30/37',\n",
       " 30,\n",
       " 'MPa',\n",
       " 'Steel',\n",
       " 'S275',\n",
       " 275,\n",
       " 'MPa',\n",
       " 'Concrete',\n",
       " 'C30/37',\n",
       " 30,\n",
       " 'MPa',\n",
       " 'Steel',\n",
       " 'S275',\n",
       " 275,\n",
       " 'MPa',\n",
       " 'Concrete',\n",
       " 'C30/37',\n",
       " 30,\n",
       " 'MPa']"
      ]
     },
     "execution_count": 34,
     "metadata": {},
     "output_type": "execute_result"
    }
   ],
   "source": [
    "somelist*3            # Prints repeated list"
   ]
  },
  {
   "cell_type": "code",
   "execution_count": 35,
   "metadata": {},
   "outputs": [
    {
     "data": {
      "text/plain": [
       "['Steel',\n",
       " 'S275',\n",
       " 275,\n",
       " 'MPa',\n",
       " 'Concrete',\n",
       " 'C30/37',\n",
       " 30,\n",
       " 'MPa',\n",
       " 'Steel',\n",
       " 'S275',\n",
       " 275,\n",
       " 'MPa',\n",
       " 'Concrete',\n",
       " 'C30/37',\n",
       " 30,\n",
       " 'MPa']"
      ]
     },
     "execution_count": 35,
     "metadata": {},
     "output_type": "execute_result"
    }
   ],
   "source": [
    "somelist + somelist   # Prints concatenated list"
   ]
  },
  {
   "cell_type": "code",
   "execution_count": 36,
   "metadata": {},
   "outputs": [
    {
     "data": {
      "text/plain": [
       "['S275', 275, 'MPa', 'Concrete', 'C30/37', 30, 'MPa']"
      ]
     },
     "execution_count": 36,
     "metadata": {},
     "output_type": "execute_result"
    }
   ],
   "source": [
    "del somelist[0]        # Deletes de first entry of the list\n",
    "somelist"
   ]
  },
  {
   "cell_type": "markdown",
   "metadata": {},
   "source": [
    "### <font color=blue>2.2.8. Python tuples</font>\n",
    "A tuple is another sequence data type that is similar to the list. A tuple consists of a number of values separated by commas. Unlike lists, however, tuples are enclosed within parentheses.\n",
    "\n",
    "The main differences between lists and tuples are: Lists are enclosed in brackets ( `[ ]` ) and their elements and size can be changed, while tuples are enclosed in parentheses ( `( )` ) and cannot be updated. Tuples can be thought of as read-only lists.\n",
    "\n",
    "Example:"
   ]
  },
  {
   "cell_type": "code",
   "execution_count": 37,
   "metadata": {},
   "outputs": [
    {
     "data": {
      "text/plain": [
       "('Steel', 'S275', 275, 'MPa', 'Concrete', 'C30/37', 30, 'MPa')"
      ]
     },
     "execution_count": 37,
     "metadata": {},
     "output_type": "execute_result"
    }
   ],
   "source": [
    "sometuple = ('Steel', 'S275', 275 , 'MPa', 'Concrete', 'C30/37', 30, 'MPa')\n",
    "sometuple"
   ]
  },
  {
   "cell_type": "code",
   "execution_count": 38,
   "metadata": {},
   "outputs": [
    {
     "data": {
      "text/plain": [
       "'Steel'"
      ]
     },
     "execution_count": 38,
     "metadata": {},
     "output_type": "execute_result"
    }
   ],
   "source": [
    "sometuple[0]            # Prints first element of the tuple"
   ]
  },
  {
   "cell_type": "code",
   "execution_count": 39,
   "metadata": {},
   "outputs": [
    {
     "data": {
      "text/plain": [
       "('S275', 275, 'MPa')"
      ]
     },
     "execution_count": 39,
     "metadata": {},
     "output_type": "execute_result"
    }
   ],
   "source": [
    "sometuple[1:4]          # Prints elements starting from 1st till 4th "
   ]
  },
  {
   "cell_type": "code",
   "execution_count": 40,
   "metadata": {},
   "outputs": [
    {
     "data": {
      "text/plain": [
       "('C30/37', 30, 'MPa')"
      ]
     },
     "execution_count": 40,
     "metadata": {},
     "output_type": "execute_result"
    }
   ],
   "source": [
    "sometuple[5:]           # Prints elements starting from 5th element"
   ]
  },
  {
   "cell_type": "code",
   "execution_count": 41,
   "metadata": {},
   "outputs": [
    {
     "data": {
      "text/plain": [
       "('Steel',\n",
       " 'S275',\n",
       " 275,\n",
       " 'MPa',\n",
       " 'Concrete',\n",
       " 'C30/37',\n",
       " 30,\n",
       " 'MPa',\n",
       " 'Steel',\n",
       " 'S275',\n",
       " 275,\n",
       " 'MPa',\n",
       " 'Concrete',\n",
       " 'C30/37',\n",
       " 30,\n",
       " 'MPa',\n",
       " 'Steel',\n",
       " 'S275',\n",
       " 275,\n",
       " 'MPa',\n",
       " 'Concrete',\n",
       " 'C30/37',\n",
       " 30,\n",
       " 'MPa')"
      ]
     },
     "execution_count": 41,
     "metadata": {},
     "output_type": "execute_result"
    }
   ],
   "source": [
    "sometuple*3             # Prints repeated tuple"
   ]
  },
  {
   "cell_type": "code",
   "execution_count": 42,
   "metadata": {},
   "outputs": [
    {
     "data": {
      "text/plain": [
       "('Steel',\n",
       " 'S275',\n",
       " 275,\n",
       " 'MPa',\n",
       " 'Concrete',\n",
       " 'C30/37',\n",
       " 30,\n",
       " 'MPa',\n",
       " 'Steel',\n",
       " 'S275',\n",
       " 275,\n",
       " 'MPa',\n",
       " 'Concrete',\n",
       " 'C30/37',\n",
       " 30,\n",
       " 'MPa')"
      ]
     },
     "execution_count": 42,
     "metadata": {},
     "output_type": "execute_result"
    }
   ],
   "source": [
    "sometuple + sometuple   # Prints concatenated tuple"
   ]
  },
  {
   "cell_type": "markdown",
   "metadata": {},
   "source": [
    "The following code is invalid with tuple, because we attempted to update a tuple, which is not allowed. Similar case is possible with lists though:"
   ]
  },
  {
   "cell_type": "code",
   "execution_count": 43,
   "metadata": {},
   "outputs": [
    {
     "data": {
      "text/plain": [
       "['S275', 'S355', 'MPa', 'Concrete', 'C30/37', 30, 'MPa']"
      ]
     },
     "execution_count": 43,
     "metadata": {},
     "output_type": "execute_result"
    }
   ],
   "source": [
    "somelist[1] = 'S355'    # Valid syntax with list\n",
    "somelist"
   ]
  },
  {
   "cell_type": "code",
   "execution_count": 44,
   "metadata": {},
   "outputs": [
    {
     "ename": "TypeError",
     "evalue": "'tuple' object does not support item assignment",
     "output_type": "error",
     "traceback": [
      "\u001b[0;31m---------------------------------------------------------------------------\u001b[0m",
      "\u001b[0;31mTypeError\u001b[0m                                 Traceback (most recent call last)",
      "\u001b[0;32m/tmp/ipykernel_132/836000960.py\u001b[0m in \u001b[0;36m<module>\u001b[0;34m\u001b[0m\n\u001b[0;32m----> 1\u001b[0;31m \u001b[0msometuple\u001b[0m\u001b[0;34m[\u001b[0m\u001b[0;36m1\u001b[0m\u001b[0;34m]\u001b[0m \u001b[0;34m=\u001b[0m \u001b[0;34m'S355'\u001b[0m   \u001b[0;31m# Invalid syntax with tuple\u001b[0m\u001b[0;34m\u001b[0m\u001b[0;34m\u001b[0m\u001b[0m\n\u001b[0m\u001b[1;32m      2\u001b[0m \u001b[0msometuple\u001b[0m\u001b[0;34m\u001b[0m\u001b[0;34m\u001b[0m\u001b[0m\n",
      "\u001b[0;31mTypeError\u001b[0m: 'tuple' object does not support item assignment"
     ]
    }
   ],
   "source": [
    "sometuple[1] = 'S355'   # Invalid syntax with tuple\n",
    "sometuple"
   ]
  },
  {
   "cell_type": "markdown",
   "metadata": {},
   "source": [
    "### <font color=blue>2.2.8. Python dictionaries</font>\n",
    "Python's dictionaries are kind of hash table type. They work like associative arrays or hashes found in Perl and consist of key-value pairs. A dictionary key can be almost any Python type, but are usually numbers or strings. Values, on the other hand, can be any arbitrary Python object. Like lists, it is possible to delete, or even update, one key of the dictionary.\n",
    "\n",
    "Dictionaries are enclosed by curly braces ( `{ }` ) and values can be assigned and accessed using square braces ( `[ ]` ).\n",
    "\n",
    "Example:"
   ]
  },
  {
   "cell_type": "code",
   "execution_count": 45,
   "metadata": {},
   "outputs": [
    {
     "data": {
      "text/plain": [
       "{'Material': 'Steel', 'Class': 'S275', 'Strength': 275, 'Units': 'MPa'}"
      ]
     },
     "execution_count": 45,
     "metadata": {},
     "output_type": "execute_result"
    }
   ],
   "source": [
    "somedict = {}\n",
    "somedict['Material'] = 'Steel'\n",
    "somedict['Class'] = 'S275'\n",
    "somedict['Strength'] = 275\n",
    "somedict['Units'] = 'MPa'\n",
    "somedict                    # Prints complete dictionary"
   ]
  },
  {
   "cell_type": "markdown",
   "metadata": {},
   "source": [
    "Another alternative, is to create the entire dictionary at once, and not each bag individually. You can do it in a single line (each key-value pair needs to be seperated by a comma, or break the statement into multiple lines. In the latter alternative, you don't need to write the `\\` character to do the break.\n",
    "\n",
    "Example:"
   ]
  },
  {
   "cell_type": "code",
   "execution_count": 46,
   "metadata": {},
   "outputs": [
    {
     "data": {
      "text/plain": [
       "{'Material': 'Steel', 'Class': 'S275', 'Strength': 275, 'Units': 'MPa'}"
      ]
     },
     "execution_count": 46,
     "metadata": {},
     "output_type": "execute_result"
    }
   ],
   "source": [
    "somedict = {'Material': 'Steel',\n",
    "            'Class':'S275',       \n",
    "            'Strength': 275,\n",
    "            'Units': 'MPa'}\n",
    "somedict                    # Prints complete dictionary"
   ]
  },
  {
   "cell_type": "markdown",
   "metadata": {},
   "source": [
    "Now to access information inside the dictionary:"
   ]
  },
  {
   "cell_type": "code",
   "execution_count": 47,
   "metadata": {},
   "outputs": [
    {
     "data": {
      "text/plain": [
       "'Steel'"
      ]
     },
     "execution_count": 47,
     "metadata": {},
     "output_type": "execute_result"
    }
   ],
   "source": [
    "somedict['Material']        # Prints value for 'Material' key"
   ]
  },
  {
   "cell_type": "code",
   "execution_count": 48,
   "metadata": {},
   "outputs": [
    {
     "data": {
      "text/plain": [
       "dict_keys(['Material', 'Class', 'Strength', 'Units'])"
      ]
     },
     "execution_count": 48,
     "metadata": {},
     "output_type": "execute_result"
    }
   ],
   "source": [
    "somedict.keys()             # Prints all the keys"
   ]
  },
  {
   "cell_type": "code",
   "execution_count": 49,
   "metadata": {},
   "outputs": [
    {
     "data": {
      "text/plain": [
       "dict_values(['Steel', 'S275', 275, 'MPa'])"
      ]
     },
     "execution_count": 49,
     "metadata": {},
     "output_type": "execute_result"
    }
   ],
   "source": [
    "somedict.values()           # Prints all the values"
   ]
  },
  {
   "cell_type": "code",
   "execution_count": 50,
   "metadata": {},
   "outputs": [
    {
     "data": {
      "text/plain": [
       "{'Material': 'Steel', 'Strength': 275, 'Units': 'MPa'}"
      ]
     },
     "execution_count": 50,
     "metadata": {},
     "output_type": "execute_result"
    }
   ],
   "source": [
    "del somedict['Class']       # Deletes one key and its contents\n",
    "somedict"
   ]
  },
  {
   "cell_type": "code",
   "execution_count": 51,
   "metadata": {},
   "outputs": [
    {
     "data": {
      "text/plain": [
       "{'Material': {'Steel': 1, 'Concrete': 1}, 'Strength': 275, 'Units': 'MPa'}"
      ]
     },
     "execution_count": 51,
     "metadata": {},
     "output_type": "execute_result"
    }
   ],
   "source": [
    "somedict['Material'] = {'Steel': 1, 'Concrete':1} # Updates the contents of one key\n",
    "somedict"
   ]
  },
  {
   "cell_type": "code",
   "execution_count": 52,
   "metadata": {},
   "outputs": [
    {
     "data": {
      "text/plain": [
       "{'Material': {'1': 1, '2': 2, '3': 3}, 'Strength': 275, 'Units': 'MPa'}"
      ]
     },
     "execution_count": 52,
     "metadata": {},
     "output_type": "execute_result"
    }
   ],
   "source": [
    "somedict['Material'] = {'1':1, '2':2, '3':3}\n",
    "somedict"
   ]
  },
  {
   "cell_type": "markdown",
   "metadata": {},
   "source": [
    "Dictionaries have no concept of order among elements. It is incorrect to say that the elements are \"out of order\"; they are simply unordered."
   ]
  },
  {
   "cell_type": "code",
   "execution_count": 53,
   "metadata": {},
   "outputs": [],
   "source": [
    "cross_section={'area':1.2, 'moment_of_inertia':3.45, 'c_top':3.2, 'c_bottom':4.1}"
   ]
  },
  {
   "cell_type": "markdown",
   "metadata": {},
   "source": [
    "$$\n",
    "\\sigma = \\frac{F}{A} \\pm \\frac{M c}{I}\n",
    "$$"
   ]
  },
  {
   "cell_type": "code",
   "execution_count": 54,
   "metadata": {},
   "outputs": [
    {
     "name": "stdout",
     "output_type": "stream",
     "text": [
      "stresses:  top = 30.30434782608696 and bottom = 56.22463768115942\n",
      "stresses:  top =       30.304 and bottom =       56.225\n",
      "stresses:  top =    3.030e+01 and bottom =         56.2\n"
     ]
    }
   ],
   "source": [
    "force = 50.0\n",
    "moment = 12.25\n",
    "\n",
    "stress_top    = force/cross_section['area'] - moment*cross_section['c_top']/cross_section['moment_of_inertia']\n",
    "stress_bottom = force/cross_section['area'] + moment*cross_section['c_bottom']/cross_section['moment_of_inertia']\n",
    "\n",
    "print(\"stresses:  top = {} and bottom = {}\".format(stress_top,stress_bottom))\n",
    "print(\"stresses:  top = {:12.3f} and bottom = {:12.3f}\".format(stress_top,stress_bottom))\n",
    "print(\"stresses:  top = {:12.3e} and bottom = {:12.3g}\".format(stress_top,stress_bottom))"
   ]
  },
  {
   "cell_type": "markdown",
   "metadata": {},
   "source": [
    "### <font color=blue>2.2.9. Boolean variables</font> \n",
    "\n",
    "Boolean variables hold a True or False value.  In addition to those two values, python treats the following as **True**:\n",
    "1. True\n",
    "2. any non-zero numeric value\n",
    "3. a non-empty list\n",
    "4. a non-empty tuple\n",
    "5. a non-empty dictionary\n",
    "6. a non-empty string\n",
    "7. an existing object/instance of a class (we will learn about that later)\n",
    "\n",
    "In contrast, the following are treated as **False**:\n",
    "1. False\n",
    "2. 0 (int) or 0.0 (float)\n",
    "3. empty list: []\n",
    "4. empty tuple: tuple()\n",
    "5. empty dictionary: {}\n",
    "6. empty string: ''\n",
    "7. empty pointer: None"
   ]
  },
  {
   "cell_type": "code",
   "execution_count": 55,
   "metadata": {},
   "outputs": [],
   "source": [
    "# bool\n",
    "u = True  # 1 ,1.2, [1], (1), {'True':1}, 'True', someobject\n",
    "v = False # 0 ,0.0, [], (), {}, '', None"
   ]
  },
  {
   "cell_type": "markdown",
   "metadata": {},
   "source": [
    "### <font color=blue>2.2.10. Data type enquiry and conversion</font> \n",
    "Sometimes, you may need enquire Python about tthe type of variable in question. This can be done with the `type()` function.\n",
    "\n",
    "Example:"
   ]
  },
  {
   "cell_type": "code",
   "execution_count": 56,
   "metadata": {},
   "outputs": [
    {
     "data": {
      "text/plain": [
       "(int, float, str, list, tuple, dict)"
      ]
     },
     "execution_count": 56,
     "metadata": {},
     "output_type": "execute_result"
    }
   ],
   "source": [
    "type(275), type(275.0), type('275'), type([275]), type((275, 275)), type({'275': 275})"
   ]
  },
  {
   "cell_type": "markdown",
   "metadata": {},
   "source": [
    "Also, sometimes it is needed to convert between the built-in types. To do so, you simply use the type name as a function.\n",
    "\n",
    "There are several built-in functions to perform conversion from one data type to another. These functions return a new object representing the converted value. These functions require specific syntax to work.\n",
    "\n",
    "Some examples:\n",
    "- `int(x [,base])` Converts x to an integer. base specifies the base if x is a string.\n",
    "- `float(x)` Converts x to a floating-point number.\n",
    "- `str(x)` Converts object x to a string representation.\n",
    "- `tuple(s)` Converts s to a tuple.\n",
    "- `list(s)` Converts s to a list.\n",
    "- `dict(d)` Creates a dictionary. d must be a sequence of (key, value) tuples."
   ]
  },
  {
   "cell_type": "markdown",
   "metadata": {},
   "source": [
    "<font color=red><div style=\"text-align: right\"> **Documentation for**  \n",
    "[**`int`**](https://docs.python.org/3/library/functions.html#int)  \n",
    "[**`float`**](https://docs.python.org/3/library/functions.html#float)  \n",
    "[**`str`**](https://docs.python.org/3/library/functions.html#func-str)  \n",
    "[**`tuple`**](https://docs.python.org/3/library/functions.html#func-tuple)  \n",
    "[**`list`**](https://docs.python.org/3/library/functions.html#func-list)  \n",
    "[**`dict`**](https://docs.python.org/3/library/functions.html#func-dict)</div></font>"
   ]
  },
  {
   "cell_type": "markdown",
   "metadata": {},
   "source": [
    "### <font color=blue>2.2.11. Traps</font> \n",
    "Start by making a copy of the variable, *somelist*, and naming it newlist.\n",
    "Next, let's change the second and third entries in the list from 'S275', 275 to 'S355', 355.\n",
    "Do you see the problem?"
   ]
  },
  {
   "cell_type": "code",
   "execution_count": 57,
   "metadata": {},
   "outputs": [
    {
     "name": "stdout",
     "output_type": "stream",
     "text": [
      "['Steel', 'S355', 355, 'MPa', 'Concrete', 'C30/37', 30, 'MPa']\n",
      "['Steel', 'S355', 355, 'MPa', 'Concrete', 'C30/37', 30, 'MPa']\n"
     ]
    }
   ],
   "source": [
    "somelist = ['Steel', 'S275', 275 , 'MPa', 'Concrete', 'C30/37', 30, 'MPa']\n",
    "newlist = somelist\n",
    "newlist[1] = 'S355'; newlist[2] = 355\n",
    "print(somelist)\n",
    "print(newlist)"
   ]
  },
  {
   "cell_type": "markdown",
   "metadata": {},
   "source": [
    "The solution to this problem is to use the copy() method to generate a copy of the data from inside the list. \n",
    "When to use copy() and when not to use it?  As a rule of thumb, don't use copy() unless you have an important reason to duplicate data! I rarely need to."
   ]
  },
  {
   "cell_type": "code",
   "execution_count": 58,
   "metadata": {},
   "outputs": [
    {
     "name": "stdout",
     "output_type": "stream",
     "text": [
      "['Steel', 'S275', 275, 'MPa', 'Concrete', 'C30/37', 30, 'MPa']\n",
      "['Steel', 'S355', 355, 'MPa', 'Concrete', 'C30/37', 30, 'MPa']\n"
     ]
    }
   ],
   "source": [
    "somelist = ['Steel', 'S275', 275 , 'MPa', 'Concrete', 'C30/37', 30, 'MPa']\n",
    "newlist = somelist.copy()\n",
    "newlist[1] = 'S355'; newlist[2] = 355\n",
    "print(somelist)\n",
    "print(newlist)"
   ]
  },
  {
   "cell_type": "markdown",
   "metadata": {},
   "source": [
    "<font color=red><div style=\"text-align: right\"> **Documentation for**  \n",
    "[**`copy`**](https://docs.python.org/3/library/copy.html)</div></font>"
   ]
  },
  {
   "cell_type": "markdown",
   "metadata": {},
   "source": [
    "## <font color=blue>2.3. Basic Operators</font>\n",
    "### <font color=blue>2.3.1. Operator types</font> \n",
    "Python language supports the following types of operators.\n",
    "- Arithmetic Operators\n",
    "- Comparison (Relational) Operators\n",
    "- Assignment Operators\n",
    "- Logical Operators\n",
    "- Membership Operators\n",
    "- Identity Operators\n",
    "\n",
    "- <font color=grey>Bitwise Operators</font>\n",
    "\n",
    "### <font color=blue>2.3.2. Python arithmetic operators</font>  \n",
    "Regarding the arithmetic operators, syntax is straightforward, using operators `+` for sums, `-` for subtractions, `*` for multiplications, `/` for division, `**` for powers and `( )` for grouping (beware of precedence between operators).\n",
    "\n",
    "Example:"
   ]
  },
  {
   "cell_type": "code",
   "execution_count": 59,
   "metadata": {},
   "outputs": [
    {
     "data": {
      "text/plain": [
       "4"
      ]
     },
     "execution_count": 59,
     "metadata": {},
     "output_type": "execute_result"
    }
   ],
   "source": [
    "a = 2 + 2     # Sum\n",
    "a"
   ]
  },
  {
   "cell_type": "code",
   "execution_count": 60,
   "metadata": {},
   "outputs": [
    {
     "data": {
      "text/plain": [
       "0"
      ]
     },
     "execution_count": 60,
     "metadata": {},
     "output_type": "execute_result"
    }
   ],
   "source": [
    "b = 2 - 2     # Subtraction\n",
    "b"
   ]
  },
  {
   "cell_type": "code",
   "execution_count": 61,
   "metadata": {},
   "outputs": [
    {
     "data": {
      "text/plain": [
       "8"
      ]
     },
     "execution_count": 61,
     "metadata": {},
     "output_type": "execute_result"
    }
   ],
   "source": [
    "c = (2 + 2)*2 # Sum and multiplication\n",
    "c"
   ]
  },
  {
   "cell_type": "code",
   "execution_count": 62,
   "metadata": {},
   "outputs": [
    {
     "data": {
      "text/plain": [
       "4"
      ]
     },
     "execution_count": 62,
     "metadata": {},
     "output_type": "execute_result"
    }
   ],
   "source": [
    "d = 2**2      # Power\n",
    "d"
   ]
  },
  {
   "cell_type": "code",
   "execution_count": 63,
   "metadata": {},
   "outputs": [
    {
     "data": {
      "text/plain": [
       "1"
      ]
     },
     "execution_count": 63,
     "metadata": {},
     "output_type": "execute_result"
    }
   ],
   "source": [
    "e = 3//2      # Floor division\n",
    "e"
   ]
  },
  {
   "cell_type": "code",
   "execution_count": 64,
   "metadata": {},
   "outputs": [
    {
     "data": {
      "text/plain": [
       "1"
      ]
     },
     "execution_count": 64,
     "metadata": {},
     "output_type": "execute_result"
    }
   ],
   "source": [
    "f = 3%2       # Remainder from division (before division is performed)\n",
    "f"
   ]
  },
  {
   "cell_type": "code",
   "execution_count": 65,
   "metadata": {},
   "outputs": [
    {
     "data": {
      "text/plain": [
       "1.5"
      ]
     },
     "execution_count": 65,
     "metadata": {},
     "output_type": "execute_result"
    }
   ],
   "source": [
    "g = e + f/2   # Manual division result, using the floor and the remainder (remainder needs to be manually divided)\n",
    "g"
   ]
  },
  {
   "cell_type": "markdown",
   "metadata": {},
   "source": [
    "### <font color=blue>2.3.3. Python comparison operators</font>   \n",
    "These operators compare the values on either sides of them and decide the relation among them. They are also called Relational operators.\n",
    "\n",
    "Example:"
   ]
  },
  {
   "cell_type": "code",
   "execution_count": 66,
   "metadata": {},
   "outputs": [
    {
     "data": {
      "text/plain": [
       "False"
      ]
     },
     "execution_count": 66,
     "metadata": {},
     "output_type": "execute_result"
    }
   ],
   "source": [
    "a = (1 == 2)     # Is equal to?\n",
    "a"
   ]
  },
  {
   "cell_type": "code",
   "execution_count": 67,
   "metadata": {},
   "outputs": [
    {
     "data": {
      "text/plain": [
       "True"
      ]
     },
     "execution_count": 67,
     "metadata": {},
     "output_type": "execute_result"
    }
   ],
   "source": [
    "b = (1 != 2)     # Is different than?\n",
    "b"
   ]
  },
  {
   "cell_type": "code",
   "execution_count": 68,
   "metadata": {},
   "outputs": [
    {
     "data": {
      "text/plain": [
       "False"
      ]
     },
     "execution_count": 68,
     "metadata": {},
     "output_type": "execute_result"
    }
   ],
   "source": [
    "c = (1 > 2)      # Is higher than?\n",
    "c"
   ]
  },
  {
   "cell_type": "code",
   "execution_count": 69,
   "metadata": {},
   "outputs": [
    {
     "data": {
      "text/plain": [
       "True"
      ]
     },
     "execution_count": 69,
     "metadata": {},
     "output_type": "execute_result"
    }
   ],
   "source": [
    "d = (1 < 2)      # Is lower than?\n",
    "d"
   ]
  },
  {
   "cell_type": "code",
   "execution_count": 70,
   "metadata": {},
   "outputs": [
    {
     "data": {
      "text/plain": [
       "False"
      ]
     },
     "execution_count": 70,
     "metadata": {},
     "output_type": "execute_result"
    }
   ],
   "source": [
    "e = (1 >= 2)     # Is higher or equal than?\n",
    "e"
   ]
  },
  {
   "cell_type": "code",
   "execution_count": 71,
   "metadata": {},
   "outputs": [
    {
     "data": {
      "text/plain": [
       "True"
      ]
     },
     "execution_count": 71,
     "metadata": {},
     "output_type": "execute_result"
    }
   ],
   "source": [
    "f = (1 <= 2)     # Is lower or equal than?\n",
    "f"
   ]
  },
  {
   "cell_type": "code",
   "execution_count": 72,
   "metadata": {},
   "outputs": [
    {
     "data": {
      "text/plain": [
       "True"
      ]
     },
     "execution_count": 72,
     "metadata": {},
     "output_type": "execute_result"
    }
   ],
   "source": [
    "g = (0 < 2 < 10) # Is between?\n",
    "g"
   ]
  },
  {
   "cell_type": "markdown",
   "metadata": {},
   "source": [
    "### <font color=blue>2.3.4. Python assignment operators</font>    \n",
    "These operators assign a value or result to a variable.\n",
    "\n",
    "Example:"
   ]
  },
  {
   "cell_type": "code",
   "execution_count": 73,
   "metadata": {},
   "outputs": [
    {
     "data": {
      "text/plain": [
       "1"
      ]
     },
     "execution_count": 73,
     "metadata": {},
     "output_type": "execute_result"
    }
   ],
   "source": [
    "a = 1     # Assigns a value to a variable\n",
    "a"
   ]
  },
  {
   "cell_type": "code",
   "execution_count": 74,
   "metadata": {},
   "outputs": [
    {
     "data": {
      "text/plain": [
       "2"
      ]
     },
     "execution_count": 74,
     "metadata": {},
     "output_type": "execute_result"
    }
   ],
   "source": [
    "b = 2     # Assigns a value to a variable\n",
    "b"
   ]
  },
  {
   "cell_type": "code",
   "execution_count": 75,
   "metadata": {},
   "outputs": [
    {
     "data": {
      "text/plain": [
       "3"
      ]
     },
     "execution_count": 75,
     "metadata": {},
     "output_type": "execute_result"
    }
   ],
   "source": [
    "c = a + b # Assigns a result to a variable\n",
    "c"
   ]
  },
  {
   "cell_type": "markdown",
   "metadata": {},
   "source": [
    "Combining them with arithmetic operators is often useful within loops.  \n",
    "\n",
    "Example:"
   ]
  },
  {
   "cell_type": "code",
   "execution_count": 76,
   "metadata": {},
   "outputs": [],
   "source": [
    "c += a    # Equivalent to c = c + a (sum)\n",
    "c -= a    # Equivalent to c = c - a (subtraction)\n",
    "c *= a    # Equivalent to c = c * a (multiplication)\n",
    "c /= a    # Equivalent to c = c / a (division)\n",
    "c **= a   # Equivalent to c = c ** a (power)\n",
    "c //= a   # Equivalent to c = c // a (floor division)\n",
    "c %= a    # Equivalent to c = c % a (remainder from division)"
   ]
  },
  {
   "cell_type": "markdown",
   "metadata": {},
   "source": [
    "### <font color=blue>2.3.5. Python logical operators</font>    \n",
    "These operators evaluate the expression from left to right. With `and`, if all values are `True`, returns the last evaluated value. If any value is `False`, returns the first one. `Or` returns the first `True` value. If all are `False`, returns the last value.\n",
    "\n",
    "Example:"
   ]
  },
  {
   "cell_type": "code",
   "execution_count": 77,
   "metadata": {},
   "outputs": [
    {
     "data": {
      "text/plain": [
       "False"
      ]
     },
     "execution_count": 77,
     "metadata": {},
     "output_type": "execute_result"
    }
   ],
   "source": [
    "a = True\n",
    "b = False\n",
    "c = (a == True and b == True)   # Are both True?\n",
    "c"
   ]
  },
  {
   "cell_type": "code",
   "execution_count": 78,
   "metadata": {},
   "outputs": [
    {
     "data": {
      "text/plain": [
       "True"
      ]
     },
     "execution_count": 78,
     "metadata": {},
     "output_type": "execute_result"
    }
   ],
   "source": [
    "d = (a == True or b == True)    # Is either True?\n",
    "d"
   ]
  },
  {
   "cell_type": "code",
   "execution_count": 79,
   "metadata": {},
   "outputs": [
    {
     "data": {
      "text/plain": [
       "True"
      ]
     },
     "execution_count": 79,
     "metadata": {},
     "output_type": "execute_result"
    }
   ],
   "source": [
    "e = (not(b) == True)           # Is the reversed b (False) True?\n",
    "e"
   ]
  },
  {
   "cell_type": "markdown",
   "metadata": {},
   "source": [
    "### <font color=blue>2.3.6. Python membership operators</font> \n",
    "Python’s membership operators test for membership in a sequence, such as strings, lists, or tuples.\n",
    "\n",
    "Example:"
   ]
  },
  {
   "cell_type": "code",
   "execution_count": 80,
   "metadata": {},
   "outputs": [
    {
     "data": {
      "text/plain": [
       "True"
      ]
     },
     "execution_count": 80,
     "metadata": {},
     "output_type": "execute_result"
    }
   ],
   "source": [
    "a = [1, 2, 3]\n",
    "b = (1.0 in a)\n",
    "b"
   ]
  },
  {
   "cell_type": "code",
   "execution_count": 81,
   "metadata": {},
   "outputs": [
    {
     "data": {
      "text/plain": [
       "False"
      ]
     },
     "execution_count": 81,
     "metadata": {},
     "output_type": "execute_result"
    }
   ],
   "source": [
    "c = (1 not in a)\n",
    "c"
   ]
  },
  {
   "cell_type": "markdown",
   "metadata": {},
   "source": [
    "### <font color=blue>2.3.7. Python identity operators</font>  \n",
    "Identity operators compare the memory locations of two objects. They are used to check if two values (or variables) are located on the same part of the memory. Two variables that are equal does not imply that they are identical.\n",
    "\n",
    "Example:"
   ]
  },
  {
   "cell_type": "code",
   "execution_count": 82,
   "metadata": {},
   "outputs": [],
   "source": [
    "x1 = 5\n",
    "y1 = 5\n",
    "x2 = 'Hello'\n",
    "y2 = 'Hello'\n",
    "x3 = [1, 2, 3]\n",
    "y3 = [1, 2, 3]"
   ]
  },
  {
   "cell_type": "code",
   "execution_count": 83,
   "metadata": {},
   "outputs": [
    {
     "data": {
      "text/plain": [
       "True"
      ]
     },
     "execution_count": 83,
     "metadata": {},
     "output_type": "execute_result"
    }
   ],
   "source": [
    "x3 == y3"
   ]
  },
  {
   "cell_type": "code",
   "execution_count": 84,
   "metadata": {},
   "outputs": [
    {
     "name": "stdout",
     "output_type": "stream",
     "text": [
      "True\n"
     ]
    }
   ],
   "source": [
    "print(x1 is y1)"
   ]
  },
  {
   "cell_type": "code",
   "execution_count": 85,
   "metadata": {},
   "outputs": [
    {
     "name": "stdout",
     "output_type": "stream",
     "text": [
      "True\n"
     ]
    }
   ],
   "source": [
    "print(x2 is y2)"
   ]
  },
  {
   "cell_type": "code",
   "execution_count": 86,
   "metadata": {},
   "outputs": [
    {
     "name": "stdout",
     "output_type": "stream",
     "text": [
      "False\n"
     ]
    }
   ],
   "source": [
    "print(x3 is y3)"
   ]
  },
  {
   "cell_type": "markdown",
   "metadata": {},
   "source": [
    "## <font color=blue>2.4. Control Flow and Loops</font>\n",
    "### <font color=blue>2.4.1. Conditional statements</font>\n",
    "The Python syntax for conditional execution of code uses the keywords `if`, `elif` (else if) and `else`. These conditional statements control the flow of the algorithmn, and, characteristically of Python, program blocks are defined by their indentation level. It's important to note that within the same flow hierarchy, the first match exits the flow. Furthermore, in the absence of a general `else` statement, all the conditions specified before with `if` and `elif` should be comprehensive, since if no match is found, an error will be raised.\n",
    "\n",
    "Example:"
   ]
  },
  {
   "cell_type": "code",
   "execution_count": 87,
   "metadata": {},
   "outputs": [
    {
     "name": "stdout",
     "output_type": "stream",
     "text": [
      "The code reached checkpoint 1\n",
      "The code reached checkpoint 1.2\n",
      "Member 1 is a beam and member 2 is a column\n"
     ]
    }
   ],
   "source": [
    "member1 = 'beam'\n",
    "member2 = 'column'\n",
    "\n",
    "if member1 == 'beam':\n",
    "    print('The code reached checkpoint 1')\n",
    "    if member2 == 'beam':\n",
    "        print('The code reached checkpoint 1.1')\n",
    "        print('Member 1 and 2 are beams')\n",
    "    elif member2 == 'column':\n",
    "        print('The code reached checkpoint 1.2')\n",
    "        print('Member 1 is a beam and member 2 is a column')     \n",
    "# This next block of elif will always be neglected\n",
    "# This is because the condition is the same as the one before (member1 == 'beam')\n",
    "# Thus, if member 1 is 'beam', exit was performed already\n",
    "elif member1 == 'beam':\n",
    "    print('If this is being printed, this guide is not that wll constructed!')\n",
    "elif member1 == 'column':\n",
    "    print('The code reached checkpoint 2')\n",
    "    if member2 == 'column':\n",
    "        print('The code reached checkpoint 2.1')\n",
    "        print('Member 1 and 2 are columns')\n",
    "    elif member2 == 'beam':\n",
    "        print('The code reached checkpoint 2.2')\n",
    "        print('Member 1 is a column and member 2 is a beam')\n",
    "# This next block of else guarantees that cases not covered before are still considered\n",
    "# If it does not exist, anything other than combinations of 'beam' and 'column' matches will raise an error\n",
    "else:\n",
    "    print('The code reached checkpoint 3')\n",
    "    print('Member 1 is a ' + str(member1) + ' and member 2 is a ' + str(member2))"
   ]
  },
  {
   "cell_type": "markdown",
   "metadata": {},
   "source": [
    "### <font color=blue>2.4.2. for loops</font> \n",
    "In Python, loops can be programmed in a number of different ways. The most common is the `for` loop, which is used together with iterable objects, such as lists.\n",
    "\n",
    "Example:"
   ]
  },
  {
   "cell_type": "code",
   "execution_count": 88,
   "metadata": {},
   "outputs": [
    {
     "name": "stdout",
     "output_type": "stream",
     "text": [
      "1\n",
      "2\n",
      "3\n"
     ]
    }
   ],
   "source": [
    "list_numbers = [1, 2, 3]\n",
    "# With the basic approach\n",
    "for i in list_numbers:\n",
    "    print(i)"
   ]
  },
  {
   "cell_type": "code",
   "execution_count": 89,
   "metadata": {},
   "outputs": [
    {
     "name": "stdout",
     "output_type": "stream",
     "text": [
      "0 1\n",
      "1 2\n",
      "2 3\n"
     ]
    }
   ],
   "source": [
    "# Looping through the indexes of the list\n",
    "for idx in range(len(list_numbers)):\n",
    "    print(idx, list_numbers[idx])"
   ]
  },
  {
   "cell_type": "code",
   "execution_count": 90,
   "metadata": {},
   "outputs": [
    {
     "name": "stdout",
     "output_type": "stream",
     "text": [
      "0 1\n",
      "1 2\n",
      "2 3\n"
     ]
    }
   ],
   "source": [
    "# Also looping through the indexes of the list\n",
    "for idx, x in enumerate(list_numbers):\n",
    "    print(idx, x) # list_numbers[idx] also works here"
   ]
  },
  {
   "cell_type": "markdown",
   "metadata": {},
   "source": [
    "Conveniently, lists can be created using `for` loops:"
   ]
  },
  {
   "cell_type": "code",
   "execution_count": 91,
   "metadata": {},
   "outputs": [
    {
     "name": "stdout",
     "output_type": "stream",
     "text": [
      "[1, 2, 3] [1, 4, 9]\n"
     ]
    }
   ],
   "source": [
    "magic_list = [1, 2, 3]\n",
    "l = []\n",
    "for x in magic_list:\n",
    "    l.append(x**2)\n",
    "print(magic_list, l)    "
   ]
  },
  {
   "cell_type": "markdown",
   "metadata": {},
   "source": [
    "<font color=red><div style=\"text-align: right\"> **Documentation for**  \n",
    "[**`for`**](https://wiki.python.org/moin/ForLoop)  \n",
    "[**`range`**](https://docs.python.org/3/library/functions.html#func-range)  \n",
    "[**`len`**](https://docs.python.org/3/library/functions.html#len)  \n",
    "[**`enumerate`**](https://docs.python.org/3/library/functions.html#enumerate)</div></font>"
   ]
  },
  {
   "cell_type": "markdown",
   "metadata": {},
   "source": [
    "### <font color=blue>2.4.3. while loops</font> "
   ]
  },
  {
   "cell_type": "code",
   "execution_count": 92,
   "metadata": {},
   "outputs": [
    {
     "name": "stdout",
     "output_type": "stream",
     "text": [
      "0\n",
      "1\n",
      "2\n",
      "3\n",
      "4\n",
      "done\n"
     ]
    }
   ],
   "source": [
    "i = 0\n",
    "while i < 5:\n",
    "    print(i)\n",
    "    i += 1\n",
    "print('done')"
   ]
  },
  {
   "cell_type": "markdown",
   "metadata": {},
   "source": [
    "Note that the difference in indentation in the `print` statement makes it not part of the `while` loop."
   ]
  },
  {
   "cell_type": "markdown",
   "metadata": {},
   "source": [
    "<font color=red><div style=\"text-align: right\"> **Documentation for**  \n",
    "[**`while`**](https://wiki.python.org/moin/WhileLoop)</div></font>"
   ]
  },
  {
   "cell_type": "markdown",
   "metadata": {},
   "source": [
    "## <font color=blue>2.5.  Functions</font>\n",
    "A function is a block of organized, reusable code that is used to perform a single, related action. Functions provide better modularity for your application and a high degree of code reusing. Python itself provides several built-in functions (e.g. `print`, `len()`, `range()`), whilst user-defined functions can also be constructed and utilized. In a general sense, functions take some *input* and return some *output* in accordance to the functionality to which the function is defined.\n",
    "### <font color=blue>2.5.1. Defining and using a function</font>\n",
    "Function blocks begin with the keyword `def` followed by the function name and parentheses ( `( )` ). The function's name cannot contain spaces. Any input parameters or arguments should be placed within these parentheses. You can also define parameters inside these parentheses, which can be default (mandatory) or non-default (optional). The code block within every function starts with a colon ( `:` ) and is indented. The statement `return` [expression] exits a function, optionally passing back an expression to the caller. A return statement with no arguments is the same as return `None`.\n",
    "\n",
    "Example:"
   ]
  },
  {
   "cell_type": "code",
   "execution_count": 93,
   "metadata": {},
   "outputs": [],
   "source": [
    "# This function does not take any input, but outputs 'something' 2\n",
    "def give_me_something():\n",
    "    something = 'Here you go, have something.'\n",
    "    return something\n",
    "\n",
    "# This function calculates the mid-span bending moment of a simply supported beam\n",
    "# It has only mandatory input parameters: distributed load (p) and beam length (l)\n",
    "def calc_m_midspan_ssb(p, l):\n",
    "    midspan_moment = p*l**2/8\n",
    "    return midspan_moment\n",
    "\n",
    "# This function calculates the bending moment of a simply supported beam at a given distance of the support\n",
    "# It has mandatory input parameters: distributed load (p) and beam length (l)\n",
    "# It has optional input parameters: distance from support (x)\n",
    "# If no x is provided, it returns a list of moments at every quarter of the span\n",
    "def calc_m_ssb(p, l, x = None):\n",
    "    if x != None:\n",
    "        moment = p*l*x/2 - p*x*x/2\n",
    "    else:\n",
    "        moment = []\n",
    "        for x in [1*l/4, 2*l/4, 3*l/4]:\n",
    "            moment.append(p*l*x/2 - p*x*x/2)\n",
    "    return moment"
   ]
  },
  {
   "cell_type": "markdown",
   "metadata": {},
   "source": [
    "One should note that, when constructing the function, optional parameters must be defned after the mandatory ones. Doing the contrary will result in an error.\n",
    "\n",
    "At this stage, the functions are created and known to Python, but need to be called in order to function. The result of the function (what is passed in `return`) can be assigned to a given variable, or just printed to the screen.\n",
    "\n",
    "Example:"
   ]
  },
  {
   "cell_type": "code",
   "execution_count": 94,
   "metadata": {},
   "outputs": [
    {
     "name": "stdout",
     "output_type": "stream",
     "text": [
      "Here you go, have something.\n"
     ]
    }
   ],
   "source": [
    "print(give_me_something())"
   ]
  },
  {
   "cell_type": "code",
   "execution_count": 95,
   "metadata": {},
   "outputs": [
    {
     "name": "stdout",
     "output_type": "stream",
     "text": [
      "Mid-span bending moment = 125.0 , for p = 10.0 and l = 10.0\n"
     ]
    }
   ],
   "source": [
    "p = 10\n",
    "l = 10\n",
    "print('Mid-span bending moment =', calc_m_midspan_ssb(p = p, l = l), ', for p = %.1f and l = %.1f' % (p, l))"
   ]
  },
  {
   "cell_type": "code",
   "execution_count": 96,
   "metadata": {},
   "outputs": [
    {
     "name": "stdout",
     "output_type": "stream",
     "text": [
      "Bending moment = 125.0 , for p = 10.0, l = 10.0 and x = 5.0\n"
     ]
    }
   ],
   "source": [
    "p = 10\n",
    "l = 10\n",
    "x = l/2\n",
    "print('Bending moment =', calc_m_ssb(p = p, l = l, x = x), ', for p = %.1f, l = %.1f and x = %.1f' % (p, l, x))"
   ]
  },
  {
   "cell_type": "code",
   "execution_count": 97,
   "metadata": {},
   "outputs": [
    {
     "name": "stdout",
     "output_type": "stream",
     "text": [
      "Bending moment = [93.75, 125.0, 93.75] , for p = 10.0, l = 10.0 and x = [2.5, 5.0, 7.5]\n"
     ]
    }
   ],
   "source": [
    "p = 10\n",
    "l = 10\n",
    "print('Bending moment =', calc_m_ssb(p = p, l = l), ', for p = %.1f, l = %.1f and x = [%.1f, %.1f, %.1f]' % (p, l, 1*l/4, 2*l/4, 3*l/4))"
   ]
  },
  {
   "cell_type": "markdown",
   "metadata": {},
   "source": [
    "It is also possible to define functions within functions (e.g. a *mother* function that takes some input parameters to give some output, but the internal preliminary calculations constructuted in different *child* functions). Depending on the complexity level, it might be a advisable to move to a different paradigm to achieve the same result (e.g. Object-Oriented Programming or `Classes`).\n",
    "### <font color=blue>2.5.2. Docstrings</font> \n",
    "Optionally, but highly recommended, we can define a so called *docstring*, which is a description of the functions purpose and behaviour. The *docstring* should follow directly after the function definition, before the code in the function body. This is usefull when one wants to inspect the purpose of the function with the `help()` function, which returns that *docstring*.\n",
    "\n",
    "Example:"
   ]
  },
  {
   "cell_type": "code",
   "execution_count": 98,
   "metadata": {},
   "outputs": [],
   "source": [
    "def func(s):\n",
    "    \"\"\"\n",
    "    Print a string 's' and tell how many characters it has \n",
    "    \"\"\" \n",
    "    print(s + ' has ' + str(len(s)) + ' characters')"
   ]
  },
  {
   "cell_type": "code",
   "execution_count": 99,
   "metadata": {},
   "outputs": [
    {
     "name": "stdout",
     "output_type": "stream",
     "text": [
      "Help on function func in module __main__:\n",
      "\n",
      "func(s)\n",
      "    Print a string 's' and tell how many characters it has\n",
      "\n"
     ]
    }
   ],
   "source": [
    "help(func)"
   ]
  },
  {
   "cell_type": "markdown",
   "metadata": {},
   "source": [
    "## <font color=blue>2.6. Errors and Exceptions</font>\n",
    "     \n",
    "Very likely, codes will have some sort of error, regardless of the amount of experience one has. Oftentimes, these are frustating aspects to deal with. However, understanding what the different types of errors are and when you are likely to encounter them can be very helpful. Errors in Python have a very specific form, called a `traceback`. In the following, some examples of common Python errors (and the `traceback` Python returns to the user) are detailed.\n",
    "\n",
    "### <font color=blue>2.8.1. String concatenation</font>\n",
    "When trying to concatenate strings from partial strings, one needs to make sure that the operation can be carried out. This means that every substring that will form the full string needs to have an `str` type. \n",
    "\n",
    "Example:"
   ]
  },
  {
   "cell_type": "code",
   "execution_count": 100,
   "metadata": {},
   "outputs": [
    {
     "ename": "TypeError",
     "evalue": "can only concatenate str (not \"int\") to str",
     "output_type": "error",
     "traceback": [
      "\u001b[0;31m---------------------------------------------------------------------------\u001b[0m",
      "\u001b[0;31mTypeError\u001b[0m                                 Traceback (most recent call last)",
      "\u001b[0;32m/tmp/ipykernel_132/3591478182.py\u001b[0m in \u001b[0;36m<module>\u001b[0;34m\u001b[0m\n\u001b[0;32m----> 1\u001b[0;31m \u001b[0;34m'a'\u001b[0m \u001b[0;34m+\u001b[0m \u001b[0;36m1\u001b[0m\u001b[0;34m\u001b[0m\u001b[0;34m\u001b[0m\u001b[0m\n\u001b[0m",
      "\u001b[0;31mTypeError\u001b[0m: can only concatenate str (not \"int\") to str"
     ]
    }
   ],
   "source": [
    "'a' + 1"
   ]
  },
  {
   "cell_type": "markdown",
   "metadata": {},
   "source": [
    "The `traceback` shown above contains all the necessary information regarding the error. Firstly, the line in which the problem exists is identified (in this case, line 1), and the issue (`TypeError`) as well. As mentioned before, one cannot concatenate a string with a number of any format (e.g. integer, float). The only way to join the substrings is to convert any non-string \"words\" to strings before concatenating.\n",
    "\n",
    "Furthermore, when concatenating largestring , one may forget to assign the `+` operator. In this case, the error is one related with syntax (`SyntaxError`), given that the interpreter realizes that something is missing. Not only is the line of the error given, the position along the code \"line\" where everything went wrong is also identified.\n",
    "\n",
    "Example:"
   ]
  },
  {
   "cell_type": "code",
   "execution_count": 101,
   "metadata": {},
   "outputs": [
    {
     "ename": "SyntaxError",
     "evalue": "invalid syntax (3424698068.py, line 1)",
     "output_type": "error",
     "traceback": [
      "\u001b[0;36m  File \u001b[0;32m\"/tmp/ipykernel_132/3424698068.py\"\u001b[0;36m, line \u001b[0;32m1\u001b[0m\n\u001b[0;31m    'a' 1\u001b[0m\n\u001b[0m        ^\u001b[0m\n\u001b[0;31mSyntaxError\u001b[0m\u001b[0;31m:\u001b[0m invalid syntax\n"
     ]
    }
   ],
   "source": [
    "'a' 1"
   ]
  },
  {
   "cell_type": "markdown",
   "metadata": {},
   "source": [
    "### <font color=blue>2.6.1. Numerical operations</font> \n",
    "In the same way one cannot concatenate non-string objects, trying to perform numerical operations on non-numerical objects will raise an error (`TypeError`).\n",
    "\n",
    "Example:"
   ]
  },
  {
   "cell_type": "code",
   "execution_count": 102,
   "metadata": {},
   "outputs": [
    {
     "ename": "TypeError",
     "evalue": "unsupported operand type(s) for +: 'int' and 'str'",
     "output_type": "error",
     "traceback": [
      "\u001b[0;31m---------------------------------------------------------------------------\u001b[0m",
      "\u001b[0;31mTypeError\u001b[0m                                 Traceback (most recent call last)",
      "\u001b[0;32m/tmp/ipykernel_132/3622610120.py\u001b[0m in \u001b[0;36m<module>\u001b[0;34m\u001b[0m\n\u001b[0;32m----> 1\u001b[0;31m \u001b[0;36m1\u001b[0m \u001b[0;34m+\u001b[0m \u001b[0;34m'2'\u001b[0m\u001b[0;34m\u001b[0m\u001b[0;34m\u001b[0m\u001b[0m\n\u001b[0m",
      "\u001b[0;31mTypeError\u001b[0m: unsupported operand type(s) for +: 'int' and 'str'"
     ]
    }
   ],
   "source": [
    "1 + '2'"
   ]
  },
  {
   "cell_type": "markdown",
   "metadata": {},
   "source": [
    "### <font color=blue>2.6.2. Range of list indexes</font>  \n",
    "Another common error pertains the available range of indexes within a list object (or tuple, array). When trying to access an index that does not exist in the object, Python will point out that it cannot do that with a `IndexError`.\n",
    "\n",
    "Example:"
   ]
  },
  {
   "cell_type": "code",
   "execution_count": 103,
   "metadata": {},
   "outputs": [
    {
     "ename": "IndexError",
     "evalue": "list index out of range",
     "output_type": "error",
     "traceback": [
      "\u001b[0;31m---------------------------------------------------------------------------\u001b[0m",
      "\u001b[0;31mIndexError\u001b[0m                                Traceback (most recent call last)",
      "\u001b[0;32m/tmp/ipykernel_132/271105394.py\u001b[0m in \u001b[0;36m<module>\u001b[0;34m\u001b[0m\n\u001b[1;32m      1\u001b[0m \u001b[0ma\u001b[0m \u001b[0;34m=\u001b[0m \u001b[0;34m[\u001b[0m\u001b[0;36m0\u001b[0m\u001b[0;34m,\u001b[0m \u001b[0;36m1\u001b[0m\u001b[0;34m,\u001b[0m \u001b[0;36m2\u001b[0m\u001b[0;34m]\u001b[0m\u001b[0;34m\u001b[0m\u001b[0;34m\u001b[0m\u001b[0m\n\u001b[0;32m----> 2\u001b[0;31m \u001b[0mprint\u001b[0m\u001b[0;34m(\u001b[0m\u001b[0ma\u001b[0m\u001b[0;34m[\u001b[0m\u001b[0;36m3\u001b[0m\u001b[0;34m]\u001b[0m\u001b[0;34m)\u001b[0m\u001b[0;34m\u001b[0m\u001b[0;34m\u001b[0m\u001b[0m\n\u001b[0m",
      "\u001b[0;31mIndexError\u001b[0m: list index out of range"
     ]
    }
   ],
   "source": [
    "a = [0, 1, 2]\n",
    "print(a[3])"
   ]
  },
  {
   "cell_type": "markdown",
   "metadata": {},
   "source": [
    "### <font color=blue>2.6.3. Key not in dictionary</font>   \n",
    "Trying to use a non-existent key of a dictionary is also one of the error types Python reports back (with `KeyError`).\n",
    "\n",
    "Example:"
   ]
  },
  {
   "cell_type": "code",
   "execution_count": 104,
   "metadata": {},
   "outputs": [
    {
     "ename": "KeyError",
     "evalue": "'D'",
     "output_type": "error",
     "traceback": [
      "\u001b[0;31m---------------------------------------------------------------------------\u001b[0m",
      "\u001b[0;31mKeyError\u001b[0m                                  Traceback (most recent call last)",
      "\u001b[0;32m/tmp/ipykernel_132/3377696836.py\u001b[0m in \u001b[0;36m<module>\u001b[0;34m\u001b[0m\n\u001b[1;32m      1\u001b[0m \u001b[0ma\u001b[0m \u001b[0;34m=\u001b[0m \u001b[0;34m{\u001b[0m\u001b[0;34m'A'\u001b[0m\u001b[0;34m:\u001b[0m \u001b[0;36m0\u001b[0m\u001b[0;34m,\u001b[0m \u001b[0;34m'B'\u001b[0m\u001b[0;34m:\u001b[0m \u001b[0;36m1\u001b[0m\u001b[0;34m,\u001b[0m \u001b[0;34m'C'\u001b[0m\u001b[0;34m:\u001b[0m \u001b[0;36m2\u001b[0m\u001b[0;34m}\u001b[0m\u001b[0;34m\u001b[0m\u001b[0;34m\u001b[0m\u001b[0m\n\u001b[0;32m----> 2\u001b[0;31m \u001b[0mprint\u001b[0m\u001b[0;34m(\u001b[0m\u001b[0ma\u001b[0m\u001b[0;34m[\u001b[0m\u001b[0;34m'D'\u001b[0m\u001b[0;34m]\u001b[0m\u001b[0;34m)\u001b[0m\u001b[0;34m\u001b[0m\u001b[0;34m\u001b[0m\u001b[0m\n\u001b[0m",
      "\u001b[0;31mKeyError\u001b[0m: 'D'"
     ]
    }
   ],
   "source": [
    "a = {'A': 0, 'B': 1, 'C': 2}\n",
    "print(a['D'])"
   ]
  },
  {
   "cell_type": "markdown",
   "metadata": {},
   "source": [
    "### <font color=blue>2.6.4. Variable not defined</font>   \n",
    "Whenever an operation is attempted with a given variable that is not defined within the namespace, Python reports back a `NameError`.\n",
    "\n",
    "Example:"
   ]
  },
  {
   "cell_type": "code",
   "execution_count": 105,
   "metadata": {},
   "outputs": [
    {
     "data": {
      "text/plain": [
       "True"
      ]
     },
     "execution_count": 105,
     "metadata": {},
     "output_type": "execute_result"
    }
   ],
   "source": [
    "b"
   ]
  },
  {
   "cell_type": "markdown",
   "metadata": {},
   "source": [
    "### <font color=blue>2.6.5. Flow sintax</font>    \n",
    "When initiating any sort of flow in Python (e.g. `for` or `while` loofs, `if` statements, `functions`, `classes`), it is very important to use the colon character ( `:` ) when the flow starts. Not doing so will raise a `SyntaxError`.\n",
    "\n",
    "Example:"
   ]
  },
  {
   "cell_type": "code",
   "execution_count": 106,
   "metadata": {},
   "outputs": [
    {
     "ename": "SyntaxError",
     "evalue": "invalid syntax (859882524.py, line 1)",
     "output_type": "error",
     "traceback": [
      "\u001b[0;36m  File \u001b[0;32m\"/tmp/ipykernel_132/859882524.py\"\u001b[0;36m, line \u001b[0;32m1\u001b[0m\n\u001b[0;31m    for i in range(3)\u001b[0m\n\u001b[0m                     ^\u001b[0m\n\u001b[0;31mSyntaxError\u001b[0m\u001b[0;31m:\u001b[0m invalid syntax\n"
     ]
    }
   ],
   "source": [
    "for i in range(3)\n",
    "    print(i)"
   ]
  },
  {
   "cell_type": "markdown",
   "metadata": {},
   "source": [
    "### <font color=blue>2.6.6. Indentation</font>\n",
    "In Python, flows are interpreted on the basis of the colon character ( `:` ), in conjuntion with  indentation. If Python notices that something is indented and it shouldn't be, an `IndentationError` error will be given. \n",
    "\n",
    "Example:"
   ]
  },
  {
   "cell_type": "code",
   "execution_count": 107,
   "metadata": {},
   "outputs": [
    {
     "ename": "IndentationError",
     "evalue": "unexpected indent (3698900169.py, line 4)",
     "output_type": "error",
     "traceback": [
      "\u001b[0;36m  File \u001b[0;32m\"/tmp/ipykernel_132/3698900169.py\"\u001b[0;36m, line \u001b[0;32m4\u001b[0m\n\u001b[0;31m    print(j)\u001b[0m\n\u001b[0m    ^\u001b[0m\n\u001b[0;31mIndentationError\u001b[0m\u001b[0;31m:\u001b[0m unexpected indent\n"
     ]
    }
   ],
   "source": [
    "for i in range(3):\n",
    "    print(i)\n",
    "j = i + 1\n",
    "    print(j)"
   ]
  },
  {
   "cell_type": "markdown",
   "metadata": {},
   "source": [
    "Notice that Python only recognized there was an issue because it was not expecting another indented line after `j = i + 1`, since this marked the end of the flow defined previously. Thus, if `print(j)` was not there, and `j = i + 1` was supposed to be part of the flow, Python would not report any error. In such cases, it is up to the user to make sure the flow and the indentations are defined as desired."
   ]
  },
  {
   "cell_type": "markdown",
   "metadata": {},
   "source": [
    "### <font color=blue>2.6.7. Handling Exceptions</font>\n",
    "It is possible to write programs that handle selected exceptions. Look at the following example, which asks the user for input until a valid integer has been entered, but allows the user to interrupt the program (using Control-C or whatever the operating system supports); note that a user-generated interruption is signalled by raising the *KeyboardInterrupt* exception.\n",
    "\n",
    "For example:"
   ]
  },
  {
   "cell_type": "code",
   "execution_count": 108,
   "metadata": {},
   "outputs": [
    {
     "name": "stdin",
     "output_type": "stream",
     "text": [
      "Please enter a number:  hi\n"
     ]
    },
    {
     "name": "stdout",
     "output_type": "stream",
     "text": [
      "Oops!  That was no valid number.  Try again...\n"
     ]
    },
    {
     "name": "stdin",
     "output_type": "stream",
     "text": [
      "Please enter a number:  10\n"
     ]
    }
   ],
   "source": [
    "while True:\n",
    "    try:\n",
    "        x = int(input(\"Please enter a number: \"))\n",
    "        break\n",
    "    except ValueError:\n",
    "        print(\"Oops!  That was no valid number.  Try again...\")"
   ]
  },
  {
   "cell_type": "markdown",
   "metadata": {},
   "source": [
    "### <font color=blue>2.6.8. Raising Exceptions</font>\n",
    "It is possible to exit the operation by defining an exception. Such emergency exits are especially usefull when a while operator is being used. The raise statement allows the programmer to force a specified exception to occur.\n",
    "\n",
    "For example:"
   ]
  },
  {
   "cell_type": "code",
   "execution_count": 109,
   "metadata": {},
   "outputs": [
    {
     "name": "stdout",
     "output_type": "stream",
     "text": [
      "#   1.0000000000000000 has error 2.000000e+00\n",
      "#   2.0000000000000000 has error 1.000000e+00\n",
      "#   1.7500000000000000 has error 6.250000e-02\n",
      "#   1.7321428571428572 has error 3.188776e-04\n",
      "#   1.7320508100147276 has error 8.472674e-09\n",
      "#   1.7320508075688772 has error 4.440892e-16\n"
     ]
    },
    {
     "ename": "RuntimeError",
     "evalue": "failure to converge in 5 iterations",
     "output_type": "error",
     "traceback": [
      "\u001b[0;31m---------------------------------------------------------------------------\u001b[0m",
      "\u001b[0;31mRuntimeError\u001b[0m                              Traceback (most recent call last)",
      "\u001b[0;32m/tmp/ipykernel_132/3760080358.py\u001b[0m in \u001b[0;36m<module>\u001b[0;34m\u001b[0m\n\u001b[1;32m     27\u001b[0m \u001b[0;34m\u001b[0m\u001b[0m\n\u001b[1;32m     28\u001b[0m \u001b[0;31m# now run a test\u001b[0m\u001b[0;34m\u001b[0m\u001b[0;34m\u001b[0m\u001b[0;34m\u001b[0m\u001b[0m\n\u001b[0;32m---> 29\u001b[0;31m \u001b[0mprint\u001b[0m\u001b[0;34m(\u001b[0m\u001b[0mNewton\u001b[0m\u001b[0;34m(\u001b[0m\u001b[0mF\u001b[0m\u001b[0;34m,\u001b[0m\u001b[0;36m1.\u001b[0m\u001b[0;34m)\u001b[0m\u001b[0;34m)\u001b[0m\u001b[0;34m\u001b[0m\u001b[0;34m\u001b[0m\u001b[0m\n\u001b[0m\u001b[1;32m     30\u001b[0m \u001b[0mprint\u001b[0m\u001b[0;34m(\u001b[0m\u001b[0mNewton\u001b[0m\u001b[0;34m(\u001b[0m\u001b[0mF\u001b[0m\u001b[0;34m,\u001b[0m\u001b[0;34m-\u001b[0m\u001b[0;36m1.\u001b[0m\u001b[0;34m)\u001b[0m\u001b[0;34m)\u001b[0m\u001b[0;34m\u001b[0m\u001b[0;34m\u001b[0m\u001b[0m\n\u001b[1;32m     31\u001b[0m \u001b[0mprint\u001b[0m\u001b[0;34m(\u001b[0m\u001b[0mNewton\u001b[0m\u001b[0;34m(\u001b[0m\u001b[0mF\u001b[0m\u001b[0;34m,\u001b[0m\u001b[0;36m0.01\u001b[0m\u001b[0;34m)\u001b[0m\u001b[0;34m)\u001b[0m\u001b[0;34m\u001b[0m\u001b[0;34m\u001b[0m\u001b[0m\n",
      "\u001b[0;32m/tmp/ipykernel_132/3760080358.py\u001b[0m in \u001b[0;36mNewton\u001b[0;34m(function, x0, maxIter)\u001b[0m\n\u001b[1;32m     22\u001b[0m         \u001b[0mcnt\u001b[0m \u001b[0;34m+=\u001b[0m \u001b[0;36m1\u001b[0m   \u001b[0;31m# python does not have the ++cnt operation :(\u001b[0m\u001b[0;34m\u001b[0m\u001b[0;34m\u001b[0m\u001b[0m\n\u001b[1;32m     23\u001b[0m         \u001b[0;32mif\u001b[0m \u001b[0mcnt\u001b[0m \u001b[0;34m>=\u001b[0m \u001b[0mmaxIter\u001b[0m\u001b[0;34m:\u001b[0m\u001b[0;34m\u001b[0m\u001b[0;34m\u001b[0m\u001b[0m\n\u001b[0;32m---> 24\u001b[0;31m             \u001b[0;32mraise\u001b[0m \u001b[0mRuntimeError\u001b[0m\u001b[0;34m(\u001b[0m\u001b[0;34m'failure to converge in %d iterations'\u001b[0m \u001b[0;34m%\u001b[0m \u001b[0mmaxIter\u001b[0m\u001b[0;34m)\u001b[0m\u001b[0;34m\u001b[0m\u001b[0;34m\u001b[0m\u001b[0m\n\u001b[0m\u001b[1;32m     25\u001b[0m \u001b[0;34m\u001b[0m\u001b[0m\n\u001b[1;32m     26\u001b[0m     \u001b[0;32mreturn\u001b[0m \u001b[0mx\u001b[0m\u001b[0;34m\u001b[0m\u001b[0;34m\u001b[0m\u001b[0m\n",
      "\u001b[0;31mRuntimeError\u001b[0m: failure to converge in 5 iterations"
     ]
    }
   ],
   "source": [
    "# defining the function\n",
    "def F(x):\n",
    "    value = x*x - 3.\n",
    "    derivative = 2*x\n",
    "    return (value, derivative)\n",
    "\n",
    "# defining Newton's algorithm as a function\n",
    "def Newton(function, x0, maxIter=5):\n",
    "    x = x0\n",
    "    (f, df) = function(x)\n",
    "    print(\"# {:20.16f} has error {:12.6e}\".format(x, abs(f)))\n",
    "    \n",
    "    # adding the emergency counter\n",
    "    cnt = 0\n",
    "    \n",
    "    while abs(f)>1.0e-12:\n",
    "        x -= f/df\n",
    "        (f, df) = function(x)\n",
    "        print(\"# {:20.16f} has error {:12.6e}\".format(x, abs(f)))\n",
    "        \n",
    "        # incrementing and checking the emergency counter\n",
    "        cnt += 1   # python does not have the ++cnt operation :(\n",
    "        if cnt >= maxIter:\n",
    "            raise RuntimeError('failure to converge in %d iterations' % maxIter)\n",
    "        \n",
    "    return x\n",
    "        \n",
    "# now run a test\n",
    "print(Newton(F,1.))\n",
    "print(Newton(F,-1.))\n",
    "print(Newton(F,0.01))"
   ]
  },
  {
   "cell_type": "markdown",
   "metadata": {},
   "source": [
    "<font color=red><div style=\"text-align: right\"> **Documentation for**  \n",
    "[**`errors and exceptions`**](https://docs.python.org/3/tutorial/errors.html)</div></font>"
   ]
  },
  {
   "cell_type": "markdown",
   "metadata": {},
   "source": [
    "## <font color=blue>2.7. Packages and Modules</font>\n",
    "## <font color=blue>2.7.1. Inspection and installation</font> \n",
    "Packages are namespaces which contain multiple packages and modules themselves. They are simply directories, albeit with a twist. Python distributions, such as Anaconda, include a multitude of built-in packages. You can inspect the installed packages with:"
   ]
  },
  {
   "cell_type": "code",
   "execution_count": 110,
   "metadata": {},
   "outputs": [
    {
     "name": "stdout",
     "output_type": "stream",
     "text": [
      "alembic @ file:///home/conda/feedstock_root/build_artifacts/alembic_1636656371607/work\n",
      "anyio @ file:///home/conda/feedstock_root/build_artifacts/anyio_1641898037838/work/dist\n",
      "argon2-cffi @ file:///home/conda/feedstock_root/build_artifacts/argon2-cffi_1640817743617/work\n",
      "argon2-cffi-bindings @ file:///home/conda/feedstock_root/build_artifacts/argon2-cffi-bindings_1640855138034/work\n",
      "async-generator==1.10\n",
      "attrs @ file:///home/conda/feedstock_root/build_artifacts/attrs_1640799537051/work\n",
      "Babel @ file:///home/conda/feedstock_root/build_artifacts/babel_1619719576210/work\n",
      "backcall @ file:///home/conda/feedstock_root/build_artifacts/backcall_1592338393461/work\n",
      "backports.functools-lru-cache @ file:///home/conda/feedstock_root/build_artifacts/backports.functools_lru_cache_1618230623929/work\n",
      "beautifulsoup4==4.10.0\n",
      "bleach @ file:///home/conda/feedstock_root/build_artifacts/bleach_1629908509068/work\n",
      "blinker==1.4\n",
      "brotlipy @ file:///home/conda/feedstock_root/build_artifacts/brotlipy_1636012184244/work\n",
      "certifi==2021.10.8\n",
      "certipy==0.1.3\n",
      "cffi @ file:///home/conda/feedstock_root/build_artifacts/cffi_1636046052501/work\n",
      "chardet==3.0.4\n",
      "charset-normalizer @ file:///home/conda/feedstock_root/build_artifacts/charset-normalizer_1641584610847/work\n",
      "cryptography @ file:///home/conda/feedstock_root/build_artifacts/cryptography_1639699266208/work\n",
      "cycler==0.11.0\n",
      "debugpy @ file:///home/conda/feedstock_root/build_artifacts/debugpy_1636043256745/work\n",
      "decorator @ file:///home/conda/feedstock_root/build_artifacts/decorator_1641555617451/work\n",
      "defusedxml @ file:///home/conda/feedstock_root/build_artifacts/defusedxml_1615232257335/work\n",
      "Django==2.2.27\n",
      "docutils==0.14\n",
      "entrypoints @ file:///home/conda/feedstock_root/build_artifacts/entrypoints_1605121927639/work/dist/entrypoints-0.3-py2.py3-none-any.whl\n",
      "EzGM==1.6.3.3\n",
      "flit_core @ file:///home/conda/feedstock_root/build_artifacts/flit-core_1640697294996/work/source/flit_core\n",
      "greenlet @ file:///home/conda/feedstock_root/build_artifacts/greenlet_1635836788663/work\n",
      "h5py==2.10.0\n",
      "idna==2.10\n",
      "importlib-metadata @ file:///home/conda/feedstock_root/build_artifacts/importlib-metadata_1642513886200/work\n",
      "importlib-resources @ file:///home/conda/feedstock_root/build_artifacts/importlib_resources_1635615662634/work\n",
      "ipykernel @ file:///home/conda/feedstock_root/build_artifacts/ipykernel_1642098111360/work/dist/ipykernel-6.7.0-py3-none-any.whl\n",
      "ipython @ file:///home/conda/feedstock_root/build_artifacts/ipython_1642634593570/work\n",
      "ipython-genutils==0.2.0\n",
      "ipywidgets @ file:///home/conda/feedstock_root/build_artifacts/ipywidgets_1631590360471/work\n",
      "jedi @ file:///home/conda/feedstock_root/build_artifacts/jedi_1637175076767/work\n",
      "Jinja2 @ file:///home/conda/feedstock_root/build_artifacts/jinja2_1636510082894/work\n",
      "json5 @ file:///home/conda/feedstock_root/build_artifacts/json5_1600692310011/work\n",
      "jsonschema @ file:///home/conda/feedstock_root/build_artifacts/jsonschema-meta_1642000296051/work\n",
      "jupyter-client @ file:///home/conda/feedstock_root/build_artifacts/jupyter_client_1642858610849/work\n",
      "jupyter-core @ file:///home/conda/feedstock_root/build_artifacts/jupyter_core_1636814264288/work\n",
      "jupyter-offlinenotebook @ file:///home/conda/feedstock_root/build_artifacts/jupyter-offlinenotebook_1643188995077/work\n",
      "jupyter-resource-usage @ file:///home/conda/feedstock_root/build_artifacts/jupyter-resource-usage_1638797501771/work\n",
      "jupyter-server @ file:///home/conda/feedstock_root/build_artifacts/jupyter_server_1642861369800/work\n",
      "jupyter-telemetry @ file:///home/conda/feedstock_root/build_artifacts/jupyter_telemetry_1605173804246/work\n",
      "jupyterhub @ file:///home/conda/feedstock_root/build_artifacts/jupyterhub-feedstock_1626468611886/work\n",
      "jupyterlab @ file:///home/conda/feedstock_root/build_artifacts/jupyterlab_1642103664616/work\n",
      "jupyterlab-pygments @ file:///home/conda/feedstock_root/build_artifacts/jupyterlab_pygments_1601375948261/work\n",
      "jupyterlab-server @ file:///home/conda/feedstock_root/build_artifacts/jupyterlab_server_1641592475363/work\n",
      "jupyterlab-widgets @ file:///home/conda/feedstock_root/build_artifacts/jupyterlab_widgets_1631590465624/work\n",
      "kiwisolver==1.4.0\n",
      "llvmlite==0.37.0\n",
      "Mako @ file:///home/conda/feedstock_root/build_artifacts/mako_1637170539581/work\n",
      "MarkupSafe @ file:///home/conda/feedstock_root/build_artifacts/markupsafe_1635833550185/work\n",
      "matplotlib==3.1.3\n",
      "matplotlib-inline @ file:///home/conda/feedstock_root/build_artifacts/matplotlib-inline_1631080358261/work\n",
      "mistune @ file:///home/conda/feedstock_root/build_artifacts/mistune_1635844677043/work\n",
      "nbclassic @ file:///home/conda/feedstock_root/build_artifacts/nbclassic_1641934401341/work\n",
      "nbclient @ file:///home/conda/feedstock_root/build_artifacts/nbclient_1642144614450/work\n",
      "nbconvert @ file:///home/conda/feedstock_root/build_artifacts/nbconvert_1605401831777/work\n",
      "nbformat @ file:///home/conda/feedstock_root/build_artifacts/nbformat_1617383142101/work\n",
      "nest-asyncio @ file:///home/conda/feedstock_root/build_artifacts/nest-asyncio_1638419302549/work\n",
      "notebook @ file:///home/conda/feedstock_root/build_artifacts/notebook_1618415081862/work\n",
      "nteract-on-jupyter==2.1.3\n",
      "numba==0.54.0\n",
      "numpy==1.18.5\n",
      "oauthlib @ file:///home/conda/feedstock_root/build_artifacts/oauthlib_1622563202229/work\n",
      "openquake.engine==3.11.4\n",
      "openseespy==3.3.0.1.1\n",
      "openseespylinux==3.4.0.1\n",
      "packaging @ file:///home/conda/feedstock_root/build_artifacts/packaging_1637239678211/work\n",
      "pamela==1.0.0\n",
      "pandas==1.1.5\n",
      "pandocfilters @ file:///home/conda/feedstock_root/build_artifacts/pandocfilters_1631603243851/work\n",
      "parso @ file:///home/conda/feedstock_root/build_artifacts/parso_1638334955874/work\n",
      "pexpect @ file:///home/conda/feedstock_root/build_artifacts/pexpect_1602535608087/work\n",
      "pickleshare @ file:///home/conda/feedstock_root/build_artifacts/pickleshare_1602536217715/work\n",
      "prometheus-client @ file:///home/conda/feedstock_root/build_artifacts/prometheus_client_1643149052602/work\n",
      "prompt-toolkit @ file:///home/conda/feedstock_root/build_artifacts/prompt-toolkit_1639065841292/work\n",
      "psutil==5.6.7\n",
      "ptyprocess @ file:///home/conda/feedstock_root/build_artifacts/ptyprocess_1609419310487/work/dist/ptyprocess-0.7.0-py2.py3-none-any.whl\n",
      "pycparser @ file:///home/conda/feedstock_root/build_artifacts/pycparser_1636257122734/work\n",
      "pycurl==7.44.1\n",
      "Pygments @ file:///home/conda/feedstock_root/build_artifacts/pygments_1641580240686/work\n",
      "PyJWT @ file:///home/conda/feedstock_root/build_artifacts/pyjwt_1638819640841/work\n",
      "pyOpenSSL @ file:///home/conda/feedstock_root/build_artifacts/pyopenssl_1633192417276/work\n",
      "pyparsing @ file:///home/conda/feedstock_root/build_artifacts/pyparsing_1642753572664/work\n",
      "pyproj==3.2.1\n",
      "pyrsistent @ file:///home/conda/feedstock_root/build_artifacts/pyrsistent_1642534376236/work\n",
      "pyshp==1.2.3\n",
      "PySocks @ file:///home/conda/feedstock_root/build_artifacts/pysocks_1635862409558/work\n",
      "python-dateutil @ file:///home/conda/feedstock_root/build_artifacts/python-dateutil_1626286286081/work\n",
      "python-json-logger @ file:///home/conda/feedstock_root/build_artifacts/python-json-logger_1602545356084/work\n",
      "pytz @ file:///home/conda/feedstock_root/build_artifacts/pytz_1633452062248/work\n",
      "pyzmq==19.0.2\n",
      "requests==2.23.0\n",
      "ruamel.yaml @ file:///home/conda/feedstock_root/build_artifacts/ruamel.yaml_1640809660391/work\n",
      "ruamel.yaml.clib @ file:///home/conda/feedstock_root/build_artifacts/ruamel.yaml.clib_1636815625968/work\n",
      "scipy==1.4.1\n",
      "selenium==3.141.0\n",
      "Send2Trash @ file:///home/conda/feedstock_root/build_artifacts/send2trash_1628511208346/work\n",
      "Shapely==1.7.1\n",
      "six @ file:///home/conda/feedstock_root/build_artifacts/six_1620240208055/work\n",
      "sniffio @ file:///home/conda/feedstock_root/build_artifacts/sniffio_1635844655971/work\n",
      "soupsieve==2.3.1\n",
      "SQLAlchemy @ file:///home/conda/feedstock_root/build_artifacts/sqlalchemy_1642761928857/work\n",
      "sqlparse==0.4.2\n",
      "terminado @ file:///home/conda/feedstock_root/build_artifacts/terminado_1636052203143/work\n",
      "testpath @ file:///home/conda/feedstock_root/build_artifacts/testpath_1621261527237/work\n",
      "toml==0.10.2\n",
      "tornado @ file:///home/conda/feedstock_root/build_artifacts/tornado_1635819587639/work\n",
      "tqdm==4.63.1\n",
      "traitlets @ file:///home/conda/feedstock_root/build_artifacts/traitlets_1635260543454/work\n",
      "typing_extensions @ file:///home/conda/feedstock_root/build_artifacts/typing_extensions_1638334978229/work\n",
      "urllib3==1.25.11\n",
      "wcwidth @ file:///home/conda/feedstock_root/build_artifacts/wcwidth_1600965781394/work\n",
      "webdriverdownloader==1.1.0.3\n",
      "webencodings==0.5.1\n",
      "websocket-client @ file:///home/conda/feedstock_root/build_artifacts/websocket-client_1638949723239/work\n",
      "widgetsnbextension @ file:///home/conda/feedstock_root/build_artifacts/widgetsnbextension_1637174133839/work\n",
      "zipp @ file:///home/conda/feedstock_root/build_artifacts/zipp_1641731510635/work\n"
     ]
    }
   ],
   "source": [
    "!pip freeze"
   ]
  },
  {
   "cell_type": "markdown",
   "metadata": {},
   "source": [
    "To install a new package, the procedure is also straightforward:"
   ]
  },
  {
   "cell_type": "code",
   "execution_count": 111,
   "metadata": {},
   "outputs": [
    {
     "name": "stdout",
     "output_type": "stream",
     "text": [
      "Requirement already satisfied: numpy in /srv/conda/envs/notebook/lib/python3.7/site-packages (1.18.5)\n"
     ]
    }
   ],
   "source": [
    "# Note that the 'numpy' package is already installed with Anaconda\n",
    "!pip install numpy"
   ]
  },
  {
   "cell_type": "markdown",
   "metadata": {},
   "source": [
    "The packages can be installed through command prompt (terminal) as well.\n",
    "\n",
    "For example, to install OpenSeesPy package, start the command prompt, activate the python envrionment, and write:\n",
    "\n",
    "```python -m pip install openseespy```\n",
    "\n",
    "For example, to upgrade OpenSeesPy package, start the command prompt, activate the python envrionment, and write:\n",
    "\n",
    "```python -m pip install --upgrade openseespy```\n",
    "\n",
    "<font color=red><div style=\"text-align: right\"> **Documentation for**  \n",
    "[**`pip`**](https://pip.pypa.io/en/stable/)</div></font>"
   ]
  },
  {
   "cell_type": "markdown",
   "metadata": {},
   "source": [
    "in addition to pre-installed packages, the user itself can seperate the developed code into modules. A module allows you to logically organize your Python code. Grouping related code into a module makes the code easier to understand and use. A module is a Python object with arbitrarily named attributes that you can bind and reference, and can define functions, classes and variables. A module can also include runnable code. \n",
    "## <font color=blue>2.7.2. The `import` statement</font> \n",
    "You can use any Python source file as a module by executing an `import` statement in some other Python source file (e.g. user-defined module, package). The import has the following syntax:"
   ]
  },
  {
   "cell_type": "code",
   "execution_count": 112,
   "metadata": {},
   "outputs": [],
   "source": [
    "# This imports the module 'math' from the default library of python\n",
    "# This module has an assortment of mathematical functions that can be called\n",
    "import math"
   ]
  },
  {
   "cell_type": "markdown",
   "metadata": {},
   "source": [
    "A module is loaded only once, regardless of the number of times it is imported. This prevents the module execution from happening over and over again if multiple imports occur."
   ]
  },
  {
   "cell_type": "markdown",
   "metadata": {},
   "source": [
    "Now that the module is imported, the functions defined within it can be called.\n",
    "\n",
    "Example:"
   ]
  },
  {
   "cell_type": "code",
   "execution_count": 113,
   "metadata": {},
   "outputs": [
    {
     "name": "stdout",
     "output_type": "stream",
     "text": [
      "3628800\n"
     ]
    }
   ],
   "source": [
    "# This prints the result of the 'factorial' function of 'math'\n",
    "# It takes a value and returns it factorial\n",
    "print(math.factorial(10))"
   ]
  },
  {
   "cell_type": "code",
   "execution_count": 114,
   "metadata": {},
   "outputs": [
    {
     "name": "stdout",
     "output_type": "stream",
     "text": [
      "3.0\n"
     ]
    }
   ],
   "source": [
    "# This prints the result of the 'sqrt' function of 'math'\n",
    "# It takes a value and returns it square root\n",
    "print(math.sqrt(9))"
   ]
  },
  {
   "cell_type": "markdown",
   "metadata": {},
   "source": [
    "Sometimes, one may find useful to rename the imported module to something more convenient. This changes the reference name the user needs to specify upon calling a function of the module.\n",
    "\n",
    "Example:"
   ]
  },
  {
   "cell_type": "code",
   "execution_count": 115,
   "metadata": {},
   "outputs": [
    {
     "name": "stdout",
     "output_type": "stream",
     "text": [
      "3628800\n"
     ]
    }
   ],
   "source": [
    "import math as m\n",
    "print(m.factorial(10))"
   ]
  },
  {
   "cell_type": "code",
   "execution_count": 116,
   "metadata": {},
   "outputs": [
    {
     "name": "stdout",
     "output_type": "stream",
     "text": [
      "3.0\n"
     ]
    }
   ],
   "source": [
    "print(m.sqrt(9))"
   ]
  },
  {
   "cell_type": "markdown",
   "metadata": {},
   "source": [
    "It is also possible to import all names from a module into the current namespace by using the following import statement:"
   ]
  },
  {
   "cell_type": "code",
   "execution_count": 117,
   "metadata": {},
   "outputs": [],
   "source": [
    "from math import *"
   ]
  },
  {
   "cell_type": "markdown",
   "metadata": {},
   "source": [
    "From this point onwards, all the functions of the module can be called directly:"
   ]
  },
  {
   "cell_type": "code",
   "execution_count": 118,
   "metadata": {},
   "outputs": [
    {
     "name": "stdout",
     "output_type": "stream",
     "text": [
      "3628800\n"
     ]
    }
   ],
   "source": [
    "print(factorial(10))"
   ]
  },
  {
   "cell_type": "code",
   "execution_count": 119,
   "metadata": {},
   "outputs": [
    {
     "name": "stdout",
     "output_type": "stream",
     "text": [
      "3.0\n"
     ]
    }
   ],
   "source": [
    "print(sqrt(9))"
   ]
  },
  {
   "cell_type": "markdown",
   "metadata": {},
   "source": [
    "Although this procedure provides an easy way to import all the items from a module into the current namespace, it should be used with caution (conflict between functions of different modules with the same name may occur).\n",
    "\n",
    "Finally, it is sometimes usefull to import a specific function of a module, following the syntax:"
   ]
  },
  {
   "cell_type": "code",
   "execution_count": 120,
   "metadata": {},
   "outputs": [
    {
     "name": "stdout",
     "output_type": "stream",
     "text": [
      "[0. 0. 0. 0. 0.]\n",
      "[1. 1. 1. 1. 1.]\n"
     ]
    }
   ],
   "source": [
    "# This imports the function 'zeros' from the 'numpy' library\n",
    "# It returns a new array of given shape and type, filled with zeros\n",
    "from numpy import zeros, ones\n",
    "print(zeros(5))\n",
    "print(ones(5))"
   ]
  },
  {
   "cell_type": "markdown",
   "metadata": {},
   "source": [
    "Although the previous module ('NumPy') has several functions, only one was imported. Trying to call any other function not imported will result in an error, since the whole module was not imported, even if that specific function really exists within the module:"
   ]
  },
  {
   "cell_type": "code",
   "execution_count": 121,
   "metadata": {},
   "outputs": [
    {
     "ename": "NameError",
     "evalue": "name 'numpy' is not defined",
     "output_type": "error",
     "traceback": [
      "\u001b[0;31m---------------------------------------------------------------------------\u001b[0m",
      "\u001b[0;31mNameError\u001b[0m                                 Traceback (most recent call last)",
      "\u001b[0;32m/tmp/ipykernel_132/2088628287.py\u001b[0m in \u001b[0;36m<module>\u001b[0;34m\u001b[0m\n\u001b[0;32m----> 1\u001b[0;31m \u001b[0mprint\u001b[0m\u001b[0;34m(\u001b[0m\u001b[0mnumpy\u001b[0m\u001b[0;34m.\u001b[0m\u001b[0msqrt\u001b[0m\u001b[0;34m(\u001b[0m\u001b[0;36m9\u001b[0m\u001b[0;34m)\u001b[0m\u001b[0;34m)\u001b[0m\u001b[0;34m\u001b[0m\u001b[0;34m\u001b[0m\u001b[0m\n\u001b[0m",
      "\u001b[0;31mNameError\u001b[0m: name 'numpy' is not defined"
     ]
    }
   ],
   "source": [
    "print(numpy.sqrt(9))"
   ]
  },
  {
   "cell_type": "markdown",
   "metadata": {},
   "source": [
    "To import OpenSeesPy:"
   ]
  },
  {
   "cell_type": "code",
   "execution_count": 122,
   "metadata": {},
   "outputs": [],
   "source": [
    "import openseespy.opensees as ops"
   ]
  },
  {
   "cell_type": "markdown",
   "metadata": {},
   "source": [
    "As you have already learned you can also use the approach below, But this is not a smart idea, you may mess up things easily. Therefore, I would avoid using such an approach:"
   ]
  },
  {
   "cell_type": "code",
   "execution_count": 123,
   "metadata": {},
   "outputs": [],
   "source": [
    "from openseespy.opensees import *"
   ]
  },
  {
   "cell_type": "markdown",
   "metadata": {},
   "source": [
    "## <font color=blue>2.8. Libraries</font>\n",
    "### <font color=blue>2.8.1. os and shutil</font>\n",
    "| | | |\n",
    "|-|-|-|\n",
    "| | | |\n",
    "| <img src='https://encrypted-tbn0.gstatic.com/images?q=tbn:ANd9GcSCwBNpoY16HxMT_5CXy7kGlx1VY-WrzcKGwOE4yLbYAUb1o2mSuw' alt='Drawing' style='width:100px;'/> | <img src='https://image.freepik.com/free-icon/addition-thick-symbol_318-36715.jpg' alt='Drawing' style='width:50px;'/> | <img src='https://d2rhekw5qr4gcj.cloudfront.net/img/400sqf/from/uploads/course_photos/2786926000140821210808.jpg' alt='Drawing' style='width:100px;'/> |\n",
    "| | | | |\n",
    "\n",
    "The `os` package (module) is a very useful tool that provides a portable way of using operating system dependent functionality (e.g. read or write a file, manipulate paths). For more high-level file and directoty handling, the `shutil` mdoule is the way to go.\n",
    "\n",
    "<font color=red><div style=\"text-align: right\"> **Documentation for**  \n",
    "[**`os`**](https://docs.python.org/2/library/os.html)</div></font>\n",
    "\n",
    "### <font color=blue>2.8.2. OpenPyXL</font>\n",
    "| | |\n",
    "|-|-|\n",
    "| | |\n",
    "| <img src='https://cdn-images-1.medium.com/max/640/1*AitvNCyWGVh1WaTEzevsDA.png' alt='Drawing' style='height:100px;'/> |\n",
    "| | | |\n",
    "\n",
    "Excel workbooks are very powerful when it comes to working with spreadsheets, tables, charts, etc. However, repetitive tasks that repeatadly emply the same worksheet or workbook can be quite inefficient. Hence, a the advantage of using an external framework (e.g. Python's OpenPyXL) to automate such processes is immensely valuable.\n",
    "\n",
    "\n",
    "<font color=red><div style=\"text-align: right\"> **Documentation for**  \n",
    "[**`openpyxl`**](https://openpyxl.readthedocs.io/en/stable/)</div></font>\n",
    "\n",
    "### <font color=blue>2.8.3. NumPy</font>\n",
    "| | |\n",
    "|-|-|\n",
    "| | |\n",
    "| <img src='https://upload.wikimedia.org/wikipedia/commons/thumb/3/31/NumPy_logo_2020.svg/512px-NumPy_logo_2020.svg.png' alt='Drawing' style='height:100px;'/> |\n",
    "| | | |\n",
    "\n",
    "The `numpy` package (module) is used in almost all numerical computation using Python. It is a package that provides high-performance vector, matrix and higher-dimensional data structures for Python. It is implemented in C and Fortran so when calculations are vectorized (formulated with vectors and matrices), performance is very good. In the `numpy` package, the terminology used for vectors, matrices and higher-dimensional data sets is *array*. \n",
    "\n",
    "<font color=red><div style=\"text-align: right\"> **Documentation for**  \n",
    "[**`numpy`**](https://docs.scipy.org/doc/numpy/)</div></font>\n",
    "\n",
    "### <font color=blue>2.8.4. SciPy</font>\n",
    "| | |\n",
    "|-|-|\n",
    "| | |\n",
    "| <img src='https://www.nixp.ru/uploads/news/fullsize_image/8eef272e9391957a9f14b9a9974e51b8333d6e41.png' alt='Drawing' style='height:100px;'/> |\n",
    "| | | |\n",
    "\n",
    "The `scipy` framework builds on top of the low-level `numpy` framework for multidimensional arrays, and provides a large number of higher-level scientific algorithms. Some of the topics that `scipy` covers are:\n",
    "\n",
    "- [Integration](http://docs.scipy.org/doc/scipy/reference/integrate.html)\n",
    "- [Interpolation](http://docs.scipy.org/doc/scipy/reference/interpolate.html)\n",
    "- [Optimization](http://docs.scipy.org/doc/scipy/reference/optimize.html)\n",
    "- [Statistics](http://docs.scipy.org/doc/scipy/reference/stats.html)\n",
    "\n",
    "Each of these submodules provides a number of functions and classes that can be used to solve problems in their respective topics.\n",
    "\n",
    "<font color=red><div style=\"text-align: right\"> **Documentation for**  \n",
    "[**`scipy`**](https://docs.scipy.org/doc/scipy/reference/)</div></font>\n",
    "\n",
    "### <font color=blue>2.8.5.pandas</font>\n",
    "| | |\n",
    "|-|-|\n",
    "| | |\n",
    "| <img src='https://pandas.pydata.org/static/img/pandas.svg' alt='Drawing' style='height:100px;'/> |\n",
    "| | | |\n",
    "\n",
    "`pandas` is a Python package that provides fast, flexible, and expressive data structures designed to make working with “relational” or “labeled” data both easy and intuitive. The two primary data structures of `pandas`, `Series` (1-dimensional) and `DataFrame` (2-dimensional), handle the vast majority of typical use cases in finance, statistics, social science, and many areas of engineering. `pandas` is built on top of the `numpy` package, and is intended to integrate well within a scientific computing environment with many other 3rd party libraries.\n",
    "\n",
    "<font color=red><div style=\"text-align: right\"> **Documentation for**  \n",
    "[**`pandas`**](http://pandas.pydata.org/pandas-docs/stable/) </div></font>\n",
    "\n",
    "### <font color=blue>2.8.6.Matplotlib</font>\n",
    "| | |\n",
    "|-|-|\n",
    "| | |\n",
    "| <img src='https://matplotlib.org/_static/logo2.png' alt='Drawing' style='height:100px;'/> |\n",
    "| | | |\n",
    "\n",
    "`matplotlib` is probably the single most used Python package for 2D-graphics, providing both a very quick way to visualize data from Python, as well as publication-quality figures in many formats. \n",
    "\n",
    "<font color=red><div style=\"text-align: right\"> **Documentation for**  \n",
    "[**`matplotlib`**](https://matplotlib.org/)  \n",
    "[**`matplotlib.pyplot`**](https://matplotlib.org/api/pyplot_api.html)</div></font>"
   ]
  },
  {
   "cell_type": "markdown",
   "metadata": {},
   "source": [
    "## <font color=blue>2.9. Downloading Ground Motion Records via EzGM Library</font>\n",
    "EzGM is a versatile Python library for ground-motion record selection and processing. It has been developed by **Volkan Özsaraç**. There is no complete documentation for the library, yet, the repository is self-explanatory. As an example, the package can be used to derive a design response spectrum, and selected records for structural analysis. In particular, *Turkish Building Earthquake Code (2018)* can be followed. In order to download from NGA West2 database, the user must have an account on: https://ngawest2.berkeley.edu/. If you do not know what the package containts and if there are no documentation you can use help() to see *Docstring*. Likewise, dir() function can be used to get attributes of given object Moreover you can use shortcuts given that you using jupyter notebook. Write 'name of the package', then '.', then press 'tab' button. Now scroll down to see what the package or method contains. \n",
    "\n",
    "To install:\n",
    "\n",
    "- on terminal  ```python -m pip install EzGM```\n",
    "\n",
    "- on notebook ```!pip install EzGM```\n",
    "\n",
    "<font color=red><div style=\"text-align: right\"> **GitHub repository for**  \n",
    "[**`EzGM`**](https://github.com/volkanozsarac/EzGM)</div></font>"
   ]
  },
  {
   "cell_type": "code",
   "execution_count": 124,
   "metadata": {},
   "outputs": [
    {
     "name": "stdout",
     "output_type": "stream",
     "text": [
      "Help on package EzGM:\n",
      "\n",
      "NAME\n",
      "    EzGM\n",
      "\n",
      "PACKAGE CONTENTS\n",
      "    selection\n",
      "    signal\n",
      "    utility\n",
      "\n",
      "FILE\n",
      "    /srv/conda/envs/notebook/lib/python3.7/site-packages/EzGM/__init__.py\n",
      "\n",
      "\n"
     ]
    }
   ],
   "source": [
    "import EzGM  # import the package\n",
    "help(EzGM)   # generate the help of the given object"
   ]
  },
  {
   "cell_type": "code",
   "execution_count": 125,
   "metadata": {},
   "outputs": [
    {
     "data": {
      "text/plain": [
       "['ChromeDriverDownloader',\n",
       " 'ContentFromZip',\n",
       " 'GeckoDriverDownloader',\n",
       " 'ReadESM',\n",
       " 'ReadNGA',\n",
       " 'Sae_asce7_16',\n",
       " 'Sae_ec8_part1',\n",
       " 'Sae_tbec2018',\n",
       " 'SiteParam_asce7_16',\n",
       " 'SiteParam_tbec2018',\n",
       " '__builtins__',\n",
       " '__cached__',\n",
       " '__doc__',\n",
       " '__file__',\n",
       " '__loader__',\n",
       " '__name__',\n",
       " '__package__',\n",
       " '__spec__',\n",
       " '_subclass_',\n",
       " 'code_spectrum',\n",
       " 'conditional_spectrum',\n",
       " 'const',\n",
       " 'copy',\n",
       " 'create_dir',\n",
       " 'gmtime',\n",
       " 'gsim',\n",
       " 'imt',\n",
       " 'interpolate',\n",
       " 'loadmat',\n",
       " 'matplotlib',\n",
       " 'njit',\n",
       " 'np',\n",
       " 'numpy',\n",
       " 'os',\n",
       " 'pickle',\n",
       " 'plt',\n",
       " 'requests',\n",
       " 'shutil',\n",
       " 'skew',\n",
       " 'sleep',\n",
       " 'sys',\n",
       " 'webdriver',\n",
       " 'zipfile']"
      ]
     },
     "execution_count": 125,
     "metadata": {},
     "output_type": "execute_result"
    }
   ],
   "source": [
    "dir(EzGM.selection) # attributes of the Selection module"
   ]
  },
  {
   "cell_type": "code",
   "execution_count": 126,
   "metadata": {},
   "outputs": [
    {
     "name": "stdout",
     "output_type": "stream",
     "text": [
      "Help on class code_spectrum in module EzGM.selection:\n",
      "\n",
      "class code_spectrum(_subclass_)\n",
      " |  code_spectrum(database='NGA_W2', outdir='Outputs', target_path=None, nGM=11, selection=1, Mw_lim=None, Vs30_lim=None, Rjb_lim=None, fault_lim=None, opt=1, maxScale=2, RecPerEvent=3)\n",
      " |  \n",
      " |  This class is used for\n",
      " |      1) Creating target spectrum based on various codes (TBEC 2018, ASCE 7-16, EC8-Part1)\n",
      " |      2) Selecting and scaling suitable ground motion sets for target spectrum in accordance with specified code\n",
      " |  \n",
      " |  Method resolution order:\n",
      " |      code_spectrum\n",
      " |      _subclass_\n",
      " |      builtins.object\n",
      " |  \n",
      " |  Methods defined here:\n",
      " |  \n",
      " |  __init__(self, database='NGA_W2', outdir='Outputs', target_path=None, nGM=11, selection=1, Mw_lim=None, Vs30_lim=None, Rjb_lim=None, fault_lim=None, opt=1, maxScale=2, RecPerEvent=3)\n",
      " |      Details\n",
      " |      -------\n",
      " |      Loads the record database to use, creates output folder, sets selection criteria.\n",
      " |      \n",
      " |      Parameters\n",
      " |      ----------\n",
      " |      database : str, optional\n",
      " |          Database to use: NGA_W2, ESM_2018\n",
      " |          The default is NGA_W2.\n",
      " |      outdir : str, optional\n",
      " |          Output directory\n",
      " |          The default is 'Outputs'\n",
      " |      target_path = str, optional, the default is None.\n",
      " |          Path for used defined target spectrum.\n",
      " |      nGM : int, optional, the default is 11.\n",
      " |          Number of records to be selected. \n",
      " |      selection : int, optional, the default is 1.\n",
      " |          Number of ground motion components to select. \n",
      " |      Mw_lim : list, optional, the default is None.\n",
      " |          The limiting values on magnitude. \n",
      " |      Vs30_lim : list, optional, the default is None.\n",
      " |          The limiting values on Vs30. \n",
      " |      Rjb_lim : list, optional, the default is None.\n",
      " |          The limiting values on Rjb. \n",
      " |      fault_lim : list, optional, the default is None.\n",
      " |          The limiting fault mechanisms.\n",
      " |          For NGA_W2 database:\n",
      " |              0 for unspecified fault\n",
      " |              1 for strike-slip fault\n",
      " |              2 for normal fault\n",
      " |              3 for reverse fault\n",
      " |          For ESM_2018 database:\n",
      " |              'NF' for normal faulting\n",
      " |              'NS' for predominately normal with strike-slip component\n",
      " |              'O' for oblique\n",
      " |              'SS' for strike-slip faulting\n",
      " |              'TF' for thrust faulting\n",
      " |              'TS' for predominately thrust with strike-slip component\n",
      " |              'U' for unknown\n",
      " |      opt : int, optional, the default is 1.\n",
      " |          If equal to 1, the record set is selected using\n",
      " |          method of “least squares”, each record has individual scaling factor.\n",
      " |          If equal to 2, the record set selected such that each record has\n",
      " |          identical scale factor which is as close as possible to 1.\n",
      " |      maxScale : float, optional, the default is 2.\n",
      " |          Maximum allowed scaling factor, used with opt=2 case.\n",
      " |      RecPerEvent: int, the default is 3.\n",
      " |          The limit for the maximum number of records belong to the same event\n",
      " |      \n",
      " |      Returns\n",
      " |      -------\n",
      " |      None.\n",
      " |  \n",
      " |  asce7_16(self, Lat=34, Long=-118, RiskCat='II', SiteClass='C', T1_small=1, T1_big=1, Tlower=None, Tupper=None)\n",
      " |      Details\n",
      " |      -------\n",
      " |      Selects the suitable ground motion set in accordance with ASCE 7-16. \n",
      " |      If user did not define any target spectrum, the MCE_R response spectrum defined by the code is going to be used. \n",
      " |      The latter requires the definition of site parameters.\n",
      " |      \n",
      " |      \n",
      " |      References\n",
      " |      ----------\n",
      " |      American Society of Civil Engineers. (2017, June). Minimum design loads and associated criteria \n",
      " |      for buildings and other structures. American Society of Civil Engineers.\n",
      " |      \n",
      " |      Notes\n",
      " |      -----\n",
      " |      Rule 1: Mean of selected records should remain above the lower bound target spectra.\n",
      " |          For selection = 1: Sa_rec = (Sa_1 or Sa_2) - lower bound = 0.9 * Sa_MCEr(Tlower-Tupper) \n",
      " |          For Selection = 2: Sa_rec = RotD100 - lower bound = 0.9 * Sa_MCEr(Tlower-Tupper)     \n",
      " |          Tlower >= 0.2 * T1_small\n",
      " |          Tupper >= 1.5 * T1_big\n",
      " |          \n",
      " |      Rule 2: \n",
      " |          At least 11 records (or pairs) must be selected.\n",
      " |      \n",
      " |      Parameters\n",
      " |      ----------\n",
      " |      Lat: float, optional, the default is 41.0582.\n",
      " |          Site latitude\n",
      " |      Long: float, optional, the default is 29.00951.\n",
      " |          Site longitude\n",
      " |      RiskCat:  str, the default is 'III'\n",
      " |          Risk category for structure ('I','II','III','IV')\n",
      " |      SiteClass: str, optional, the default is 'C'.\n",
      " |          Site soil class ('A','B','C','D','E')\n",
      " |      T1_small: float, the default is 1.\n",
      " |          The smallest of first-mode periods in principal horizontal directions\n",
      " |      T1_big: float, the default is 1.\n",
      " |          The largest of first-mode periods in principal horizontal directions        \n",
      " |      Tlower: float, the default is None.\n",
      " |          The lower bound for period range, if None equal to 0.2*T1_small\n",
      " |      Tupper: float, the default is None.\n",
      " |          The upper bound for period range, if None equal to 2.0*T1_big\n",
      " |      \n",
      " |      Returns\n",
      " |      -------\n",
      " |      None.\n",
      " |  \n",
      " |  ec8_part1(self, ag=0.2, xi=0.05, ImpClass='II', Type='Type1', SiteClass='C', Tp=1)\n",
      " |      Details\n",
      " |      -------\n",
      " |      Select the suitable ground motion set in accordance with EC8 - PART 1.\n",
      " |      If user did not define any target spectrum, the design spectrum defined by the code is going to be used. \n",
      " |      The latter requires the definition of site parameters\n",
      " |      \n",
      " |      References\n",
      " |      ----------\n",
      " |      CEN. Eurocode 8: Design of Structures for Earthquake Resistance -  Part 1: General Rules, Seismic Actions and Rules \n",
      " |      for Buildings (EN 1998-1:2004). Brussels, Belgium: 2004.\n",
      " |      \n",
      " |      Notes\n",
      " |      -----\n",
      " |      Section 3.2.3.1.\n",
      " |      \n",
      " |      Rule 1 (a): \n",
      " |          At least 3 records (or pairs) must be selected.\n",
      " |      \n",
      " |      Rule 2 (b): \n",
      " |          mean(PGA_rec) >= PGA_target\n",
      " |          Here we assume SA(T[0])=PGA, where T[0] is 0.01 for both record databases.\n",
      " |          Not a bad assumption since it is very close to PGA.\n",
      " |      \n",
      " |      Rule 3 (c): Mean of selected records should remain above the lower bound target spectrum.\n",
      " |          For selection = 1: Sa_rec = (Sa_1 or Sa_2) - lower bound = 0.9 * SaTarget(0.2Tp-2.0Tp)\n",
      " |          For Selection = 2: Sa_rec = (Sa_1+Sa_2)*0.5 - lower bound = 0.9 * SaTarget(0.2Tp-2.0Tp)\n",
      " |      \n",
      " |      Parameters\n",
      " |      ----------\n",
      " |      ag:  float, optional, the default is 0.25.\n",
      " |          Peak ground acceleration [g]\n",
      " |      xi: float, optional, the default is 0.05.\n",
      " |          Damping\n",
      " |      ImpClass: str, the default is 'II'.\n",
      " |          Importance class ('I','II','III','IV')\n",
      " |      Type: str, optional, the default is 'Type1'\n",
      " |          Type of spectrum (Option: 'Type1' or 'Type2')\n",
      " |      SiteClass: str, optional, the default is 'B'\n",
      " |          Soil Class (Options: 'A', 'B', 'C', 'D' or 'E')\n",
      " |      Tp : float, optional, the default is 1.\n",
      " |          Predominant period of the structure. \n",
      " |      \n",
      " |      Returns\n",
      " |      -------\n",
      " |      None.\n",
      " |  \n",
      " |  tbec2018(self, Lat=41.0582, Long=29.00951, DD=2, SiteClass='ZC', Tp=1)\n",
      " |      Details\n",
      " |      -------\n",
      " |      Selects the suitable ground motion set in accordance with TBEC 2018. \n",
      " |      If user did not define any target spectrum, the design spectrum defined by the code is going to be used. \n",
      " |      The latter requires the definition of site parameters\n",
      " |      \n",
      " |      \n",
      " |      References\n",
      " |      ----------\n",
      " |      TBEC. (2018). Turkish building earthquake code.\n",
      " |      \n",
      " |      Notes\n",
      " |      -----\n",
      " |      Rule 1: Mean of selected records should remain above the lower bound target spectra.\n",
      " |          For selection = 1: Sa_rec = (Sa_1 or Sa_2) - lower bound = 1.0 * SaTarget(0.2Tp-1.5Tp) \n",
      " |          For Selection = 2: Sa_rec = (Sa_1**2+Sa_2**2)**0.5 - lower bound = 1.3 * SaTarget(0.2Tp-1.5Tp) \n",
      " |      \n",
      " |      Rule 2: \n",
      " |          No more than 3 records can be selected from the same event! In other words,\n",
      " |          rec_eqID cannot be the same for more than 3 of the selected records.      \n",
      " |      \n",
      " |      Rule 3: \n",
      " |          At least 11 records (or pairs) must be selected.\n",
      " |      \n",
      " |      Parameters\n",
      " |      ----------\n",
      " |      Lat: float, optional, the default is 41.0582.\n",
      " |          Site latitude\n",
      " |      Long: float, optional, the default is 29.00951.\n",
      " |          Site longitude\n",
      " |      DD:  int, optional, the default is 2.\n",
      " |          Earthquake ground motion intensity level (1,2,3,4)\n",
      " |      SiteClass: str, optional, the default is 'ZC'.\n",
      " |          Site soil class ('ZA','ZB','ZC','ZD','ZE')\n",
      " |      Tp : float, optional, the default is 1.\n",
      " |          Predominant period of the structure. \n",
      " |      \n",
      " |      Returns\n",
      " |      -------\n",
      " |      None.\n",
      " |  \n",
      " |  ----------------------------------------------------------------------\n",
      " |  Methods inherited from _subclass_:\n",
      " |  \n",
      " |  esm2018_download(self)\n",
      " |      Details\n",
      " |      -------\n",
      " |      This function has been created as a web automation tool in order to\n",
      " |      download unscaled record time histories from ESM database\n",
      " |      (https://esm-db.eu/) based on their event ID and station_codes.\n",
      " |      \n",
      " |      Parameters\n",
      " |      ----------\n",
      " |      None.\n",
      " |      \n",
      " |      Returns\n",
      " |      -------\n",
      " |      None.\n",
      " |  \n",
      " |  ngaw2_download(self, username, pwd, sleeptime=2, browser='chrome')\n",
      " |      Details\n",
      " |      -------\n",
      " |      This function has been created as a web automation tool in order to\n",
      " |      download unscaled record time histories from NGA-West2 Database\n",
      " |      (https://ngawest2.berkeley.edu/) by Record Sequence Numbers (RSNs).\n",
      " |      \n",
      " |      Notes\n",
      " |      -----\n",
      " |      Either of google-chrome or mozilla-firefox should have been installed priorly.\n",
      " |      \n",
      " |      Parameters\n",
      " |      ----------\n",
      " |      username     : str\n",
      " |          Account username (e-mail),  e.g. 'username@mail.com'.\n",
      " |      pwd          : str\n",
      " |          Account password, e.g. 'password!12345'.\n",
      " |      sleeptime    : int, default is 3\n",
      " |          Time (sec) spent between each browser operation. This can be increased or decreased depending on the internet speed.\n",
      " |      browser       : str, default is 'chrome'\n",
      " |          The browser to use for download purposes. Valid entries are: 'chrome' or 'firefox'.\n",
      " |      \n",
      " |      Returns\n",
      " |      -------\n",
      " |      None\n",
      " |  \n",
      " |  plot(self, tgt=0, sim=0, rec=1, save=0, show=1)\n",
      " |      Details\n",
      " |      -------\n",
      " |      Plots the spectra of selected and simulated records,\n",
      " |      and/or target spectrum.\n",
      " |      \n",
      " |      Parameters\n",
      " |      ----------\n",
      " |      tgt    : int, optional for conditional_spectrum\n",
      " |          Flag to plot target spectrum.\n",
      " |          The default is 1.\n",
      " |      sim    : int, optional for conditional_spectrum\n",
      " |          Flag to plot simulated response spectra vs. target spectrum.\n",
      " |          The default is 0.\n",
      " |      rec    : int, optional for conditional_spectrum\n",
      " |          Flag to plot Selected response spectra of selected records\n",
      " |          vs. target spectrum.\n",
      " |          The default is 1.\n",
      " |      save   : int, optional for all selection options\n",
      " |          Flag to save plotted figures in pdf format.\n",
      " |          The default is 0.\n",
      " |      show  : int, optional for all selection options\n",
      " |          Flag to show figures\n",
      " |          The default is 0.\n",
      " |      \n",
      " |      Notes\n",
      " |      -----\n",
      " |      0: no, 1: yes\n",
      " |      \n",
      " |      Returns\n",
      " |      -------\n",
      " |      None.\n",
      " |  \n",
      " |  write(self, obj=0, recs=1, recs_f='')\n",
      " |      Details\n",
      " |      -------\n",
      " |      Writes the cs_master object, selected and scaled records.\n",
      " |      \n",
      " |      Parameters\n",
      " |      ----------\n",
      " |      obj : int, optional\n",
      " |          flag to write the object into the pickle file. The default is 0.\n",
      " |      recs : int, optional\n",
      " |          flag to write the selected and scaled time histories.\n",
      " |          The default is 1.\n",
      " |      recs_f : str, optional\n",
      " |          This is option could be used if the user already has all the\n",
      " |          records in database. This is the folder path which contains\n",
      " |          \"database.zip\" file. The records must be placed inside\n",
      " |          recs_f/database.zip/database/\n",
      " |          The default is ''.\n",
      " |      \n",
      " |      Notes\n",
      " |      -----\n",
      " |      0: no, 1: yes\n",
      " |      \n",
      " |      Returns\n",
      " |      -------\n",
      " |      None.\n",
      " |  \n",
      " |  ----------------------------------------------------------------------\n",
      " |  Data descriptors inherited from _subclass_:\n",
      " |  \n",
      " |  __dict__\n",
      " |      dictionary for instance variables (if defined)\n",
      " |  \n",
      " |  __weakref__\n",
      " |      list of weak references to the object (if defined)\n",
      "\n"
     ]
    }
   ],
   "source": [
    "help(EzGM.selection.code_spectrum) # docstring for code_spectrum class"
   ]
  },
  {
   "cell_type": "code",
   "execution_count": 127,
   "metadata": {},
   "outputs": [
    {
     "name": "stdout",
     "output_type": "stream",
     "text": [
      "Help on function tbec2018 in module EzGM.selection:\n",
      "\n",
      "tbec2018(self, Lat=41.0582, Long=29.00951, DD=2, SiteClass='ZC', Tp=1)\n",
      "    Details\n",
      "    -------\n",
      "    Selects the suitable ground motion set in accordance with TBEC 2018. \n",
      "    If user did not define any target spectrum, the design spectrum defined by the code is going to be used. \n",
      "    The latter requires the definition of site parameters\n",
      "    \n",
      "    \n",
      "    References\n",
      "    ----------\n",
      "    TBEC. (2018). Turkish building earthquake code.\n",
      "    \n",
      "    Notes\n",
      "    -----\n",
      "    Rule 1: Mean of selected records should remain above the lower bound target spectra.\n",
      "        For selection = 1: Sa_rec = (Sa_1 or Sa_2) - lower bound = 1.0 * SaTarget(0.2Tp-1.5Tp) \n",
      "        For Selection = 2: Sa_rec = (Sa_1**2+Sa_2**2)**0.5 - lower bound = 1.3 * SaTarget(0.2Tp-1.5Tp) \n",
      "    \n",
      "    Rule 2: \n",
      "        No more than 3 records can be selected from the same event! In other words,\n",
      "        rec_eqID cannot be the same for more than 3 of the selected records.      \n",
      "    \n",
      "    Rule 3: \n",
      "        At least 11 records (or pairs) must be selected.\n",
      "    \n",
      "    Parameters\n",
      "    ----------\n",
      "    Lat: float, optional, the default is 41.0582.\n",
      "        Site latitude\n",
      "    Long: float, optional, the default is 29.00951.\n",
      "        Site longitude\n",
      "    DD:  int, optional, the default is 2.\n",
      "        Earthquake ground motion intensity level (1,2,3,4)\n",
      "    SiteClass: str, optional, the default is 'ZC'.\n",
      "        Site soil class ('ZA','ZB','ZC','ZD','ZE')\n",
      "    Tp : float, optional, the default is 1.\n",
      "        Predominant period of the structure. \n",
      "    \n",
      "    Returns\n",
      "    -------\n",
      "    None.\n",
      "\n"
     ]
    }
   ],
   "source": [
    "help(EzGM.selection.code_spectrum.tbec2018) # docstring for tbec2018 method"
   ]
  },
  {
   "cell_type": "code",
   "execution_count": 128,
   "metadata": {},
   "outputs": [],
   "source": [
    "# 1.) Initialize the code_spectrum object for record selection\n",
    "spec = EzGM.selection.code_spectrum(database='NGA_W2', outdir='Outputs', target_path=None, nGM=11, selection=1,\n",
    "            Mw_lim=[5.5, 8], Vs30_lim=[360, 760], Rjb_lim=[0, 20], fault_lim=None, opt=1, \n",
    "            maxScale=2, RecPerEvent=3)"
   ]
  },
  {
   "cell_type": "code",
   "execution_count": 129,
   "metadata": {},
   "outputs": [
    {
     "name": "stdout",
     "output_type": "stream",
     "text": [
      "TBEC 2018 based ground motion record selection and amplitude scaling are finished...\n"
     ]
    }
   ],
   "source": [
    "# 2.) Select the ground motions\n",
    "spec.tbec2018(Lat=40.653074, Long=29.269239, DD=2, SiteClass='ZC', Tp=0.7)"
   ]
  },
  {
   "cell_type": "code",
   "execution_count": 130,
   "metadata": {},
   "outputs": [
    {
     "data": {
      "image/png": "[encoded data removed]",
      "text/plain": [
       "<Figure size 576x576 with 1 Axes>"
      ]
     },
     "metadata": {
      "needs_background": "light"
     },
     "output_type": "display_data"
    }
   ],
   "source": [
    "# selected records can be plotted at this stage\n",
    "spec.plot(save=1, show=1)"
   ]
  },
  {
   "cell_type": "code",
   "execution_count": 131,
   "metadata": {},
   "outputs": [
    {
     "name": "stdout",
     "output_type": "stream",
     "text": [
      "\n",
      "Started executing ngaw2_download method...\n",
      "Getting the webdriver to use...\n"
     ]
    },
    {
     "name": "stderr",
     "output_type": "stream",
     "text": [
      "2335kb [00:00, 30625.70kb/s]            \n"
     ]
    },
    {
     "name": "stdout",
     "output_type": "stream",
     "text": [
      "Webdriver is obtained successfully.\n",
      "Signing in with credentials...\n",
      "Signed in successfully.\n",
      "Listing the Records...\n",
      "Search was successfully created. Please allow time to render the graphics.\n",
      "You are downloading the UNSCALED, PROCESSED, AS-RECORDED (unrotated) displacement, velocity and acceleration trace files. The scale factors determined using the on-line tool are given in the csv file accompanying the trace files! The users of the PEER-NGA databases, flatfiles, models and reports are requested to acknowledge the Pacific Earthquake Engineering Research Center (PEER) in their work and publications.\n",
      "Please allow a few seconds of apparent inactivity for the download to complete. The wait time depends on the number of records being downloaded and the network speed. Wait until your browser indicates that it has completed the download!\n",
      "Finishing in 4 ...\n",
      "Finishing in 3 ...\n",
      "Finishing in 2 ...\n",
      "Finishing in 1 ...\n",
      "Finishing in 0 ...\n",
      "Downloaded files are located in\n",
      "/home/jovyan/Outputs/unscaled_records_2022_5_30_19_34_38_0_150_0.zip\n"
     ]
    }
   ],
   "source": [
    "# 3.) If database == 'NGA_W2' you can first download the records via nga_download method\n",
    "# from NGA-West2 Database [http://ngawest2.berkeley.edu/] and then use write method\n",
    "spec.ngaw2_download(username = 'example_username@email.com', pwd = 'example_password123456', sleeptime = 2)"
   ]
  },
  {
   "cell_type": "code",
   "execution_count": 132,
   "metadata": {},
   "outputs": [
    {
     "name": "stdout",
     "output_type": "stream",
     "text": [
      "Finished writing process, the files are located in\n",
      "/home/jovyan/Outputs\n"
     ]
    }
   ],
   "source": [
    "# 4.) If you have records already inside recs_f\\database.zip\\database or\n",
    "# downloaded records for database = NGA_W2 case, write whatever you want,\n",
    "# the object itself, selected and scaled time histories\n",
    "spec.write(obj=1, recs=1, recs_f='')\n",
    "\n",
    "# Let's also save design response spectrum\n",
    "import numpy as np\n",
    "Periods = np.array([spec.T]).T\n",
    "Sa = np.array([spec.target]).T\n",
    "SaT = np.concatenate((Periods,Sa),axis=1)\n",
    "np.savetxt('Records//SaT.txt', SaT, fmt = '%.5f')"
   ]
  },
  {
   "cell_type": "markdown",
   "metadata": {},
   "source": [
    "[Back to 1. Introduction](./1.%20Introduction.ipynb)\n",
    "\n",
    "[Jump to 3. SDOF Systems](./3.%20SDOF.ipynb)"
   ]
  }
 ],
 "metadata": {
  "kernelspec": {
   "display_name": "Python 3 (ipykernel)",
   "language": "python",
   "name": "python3"
  },
  "language_info": {
   "codemirror_mode": {
    "name": "ipython",
    "version": 3
   },
   "file_extension": ".py",
   "mimetype": "text/x-python",
   "name": "python",
   "nbconvert_exporter": "python",
   "pygments_lexer": "ipython3",
   "version": "3.7.12"
  }
 },
 "nbformat": 4,
 "nbformat_minor": 4
}
